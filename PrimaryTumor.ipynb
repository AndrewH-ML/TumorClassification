{
  "nbformat": 4,
  "nbformat_minor": 0,
  "metadata": {
    "colab": {
      "name": "PrimaryTumor.ipynb",
      "provenance": [],
      "machine_shape": "hm",
      "include_colab_link": true
    },
    "kernelspec": {
      "display_name": "Python 3",
      "name": "python3"
    },
    "language_info": {
      "name": "python"
    }
  },
  "cells": [
    {
      "cell_type": "markdown",
      "metadata": {
        "id": "view-in-github",
        "colab_type": "text"
      },
      "source": [
        "<a href=\"https://colab.research.google.com/github/AndrewH707/TumorClassification/blob/main/PrimaryTumor.ipynb\" target=\"_parent\"><img src=\"https://colab.research.google.com/assets/colab-badge.svg\" alt=\"Open In Colab\"/></a>"
      ]
    },
    {
      "cell_type": "code",
      "metadata": {
        "id": "IlQUf47Uo_h6"
      },
      "source": [
        "import numpy as np\n",
        "from collections import Counter\n",
        "from matplotlib import pyplot as plt\n",
        "import pandas as pd"
      ],
      "execution_count": null,
      "outputs": []
    },
    {
      "cell_type": "code",
      "metadata": {
        "id": "VXYOFbERrHKK",
        "colab": {
          "base_uri": "https://localhost:8080/",
          "height": 289
        },
        "outputId": "14a4a81d-95bd-41a6-8847-8a13f793a3d5"
      },
      "source": [
        "url = 'https://raw.githubusercontent.com/AndrewH707/BrainTumorDetection/main/primary-tumor.csv'\n",
        "data = pd.read_csv(url)\n",
        "print(\"The size of the data is: \", data.shape)\n",
        "data.head()"
      ],
      "execution_count": null,
      "outputs": [
        {
          "output_type": "stream",
          "text": [
            "The size of the data is:  (309, 18)\n"
          ],
          "name": "stdout"
        },
        {
          "output_type": "execute_result",
          "data": {
            "text/html": [
              "<div>\n",
              "<style scoped>\n",
              "    .dataframe tbody tr th:only-of-type {\n",
              "        vertical-align: middle;\n",
              "    }\n",
              "\n",
              "    .dataframe tbody tr th {\n",
              "        vertical-align: top;\n",
              "    }\n",
              "\n",
              "    .dataframe thead th {\n",
              "        text-align: right;\n",
              "    }\n",
              "</style>\n",
              "<table border=\"1\" class=\"dataframe\">\n",
              "  <thead>\n",
              "    <tr style=\"text-align: right;\">\n",
              "      <th></th>\n",
              "      <th>age</th>\n",
              "      <th>sex</th>\n",
              "      <th>histologic-type</th>\n",
              "      <th>degree-of-diffe</th>\n",
              "      <th>bone</th>\n",
              "      <th>bone-marrow</th>\n",
              "      <th>lung</th>\n",
              "      <th>pleura</th>\n",
              "      <th>peritoneum</th>\n",
              "      <th>liver</th>\n",
              "      <th>brain</th>\n",
              "      <th>skin</th>\n",
              "      <th>neck</th>\n",
              "      <th>supraclavicular</th>\n",
              "      <th>axillar</th>\n",
              "      <th>mediastinum</th>\n",
              "      <th>abdominal</th>\n",
              "      <th>class</th>\n",
              "    </tr>\n",
              "  </thead>\n",
              "  <tbody>\n",
              "    <tr>\n",
              "      <th>0</th>\n",
              "      <td>&gt;=60</td>\n",
              "      <td>female</td>\n",
              "      <td>NaN</td>\n",
              "      <td>NaN</td>\n",
              "      <td>False</td>\n",
              "      <td>False</td>\n",
              "      <td>False</td>\n",
              "      <td>False</td>\n",
              "      <td>False</td>\n",
              "      <td>True</td>\n",
              "      <td>False</td>\n",
              "      <td>False</td>\n",
              "      <td>False</td>\n",
              "      <td>False</td>\n",
              "      <td>False</td>\n",
              "      <td>False</td>\n",
              "      <td>False</td>\n",
              "      <td>lung</td>\n",
              "    </tr>\n",
              "    <tr>\n",
              "      <th>1</th>\n",
              "      <td>&gt;=60</td>\n",
              "      <td>male</td>\n",
              "      <td>NaN</td>\n",
              "      <td>poorly</td>\n",
              "      <td>False</td>\n",
              "      <td>False</td>\n",
              "      <td>False</td>\n",
              "      <td>False</td>\n",
              "      <td>False</td>\n",
              "      <td>True</td>\n",
              "      <td>False</td>\n",
              "      <td>False</td>\n",
              "      <td>False</td>\n",
              "      <td>True</td>\n",
              "      <td>False</td>\n",
              "      <td>True</td>\n",
              "      <td>False</td>\n",
              "      <td>lung</td>\n",
              "    </tr>\n",
              "    <tr>\n",
              "      <th>2</th>\n",
              "      <td>30-59</td>\n",
              "      <td>female</td>\n",
              "      <td>adefalse</td>\n",
              "      <td>NaN</td>\n",
              "      <td>False</td>\n",
              "      <td>False</td>\n",
              "      <td>False</td>\n",
              "      <td>True</td>\n",
              "      <td>False</td>\n",
              "      <td>False</td>\n",
              "      <td>False</td>\n",
              "      <td>True</td>\n",
              "      <td>False</td>\n",
              "      <td>False</td>\n",
              "      <td>True</td>\n",
              "      <td>False</td>\n",
              "      <td>False</td>\n",
              "      <td>breast</td>\n",
              "    </tr>\n",
              "    <tr>\n",
              "      <th>3</th>\n",
              "      <td>30-59</td>\n",
              "      <td>female</td>\n",
              "      <td>adefalse</td>\n",
              "      <td>NaN</td>\n",
              "      <td>False</td>\n",
              "      <td>False</td>\n",
              "      <td>False</td>\n",
              "      <td>False</td>\n",
              "      <td>True</td>\n",
              "      <td>False</td>\n",
              "      <td>False</td>\n",
              "      <td>False</td>\n",
              "      <td>False</td>\n",
              "      <td>False</td>\n",
              "      <td>False</td>\n",
              "      <td>False</td>\n",
              "      <td>False</td>\n",
              "      <td>ovary</td>\n",
              "    </tr>\n",
              "    <tr>\n",
              "      <th>4</th>\n",
              "      <td>30-59</td>\n",
              "      <td>female</td>\n",
              "      <td>adefalse</td>\n",
              "      <td>NaN</td>\n",
              "      <td>False</td>\n",
              "      <td>False</td>\n",
              "      <td>False</td>\n",
              "      <td>True</td>\n",
              "      <td>True</td>\n",
              "      <td>False</td>\n",
              "      <td>False</td>\n",
              "      <td>False</td>\n",
              "      <td>False</td>\n",
              "      <td>False</td>\n",
              "      <td>False</td>\n",
              "      <td>False</td>\n",
              "      <td>False</td>\n",
              "      <td>ovary</td>\n",
              "    </tr>\n",
              "  </tbody>\n",
              "</table>\n",
              "</div>"
            ],
            "text/plain": [
              "     age     sex histologic-type  ... mediastinum  abdominal   class\n",
              "0   >=60  female             NaN  ...       False      False    lung\n",
              "1   >=60    male             NaN  ...        True      False    lung\n",
              "2  30-59  female        adefalse  ...       False      False  breast\n",
              "3  30-59  female        adefalse  ...       False      False   ovary\n",
              "4  30-59  female        adefalse  ...       False      False   ovary\n",
              "\n",
              "[5 rows x 18 columns]"
            ]
          },
          "metadata": {
            "tags": []
          },
          "execution_count": 2
        }
      ]
    },
    {
      "cell_type": "markdown",
      "metadata": {
        "id": "c1Cm_6oK7DGP"
      },
      "source": [
        "# Balanced or Imbalanced target class\n"
      ]
    },
    {
      "cell_type": "code",
      "metadata": {
        "id": "7rp3eOlH67NW",
        "colab": {
          "base_uri": "https://localhost:8080/"
        },
        "outputId": "17f40dbc-ae95-4d16-b3e9-9796b1a00349"
      },
      "source": [
        "target = data.values[:, -1]\n",
        "counter  = Counter(target)\n",
        "for k, v in counter.items():\n",
        "  per = v/ len(target) *100\n",
        "  print('Class = %s, Count =%d, Percentage = %.3f%%' % (k, v, per)) "
      ],
      "execution_count": null,
      "outputs": [
        {
          "output_type": "stream",
          "text": [
            "Class = lung, Count =81, Percentage = 26.214%\n",
            "Class = breast, Count =18, Percentage = 5.825%\n",
            "Class = ovary, Count =19, Percentage = 6.149%\n",
            "Class = colon, Count =14, Percentage = 4.531%\n",
            "Class = prostate, Count =8, Percentage = 2.589%\n",
            "Class = head and neck, Count =14, Percentage = 4.531%\n",
            "Class = thyroid, Count =14, Percentage = 4.531%\n",
            "Class = pancreas, Count =28, Percentage = 9.061%\n",
            "Class = liver, Count =7, Percentage = 2.265%\n",
            "Class = kidney, Count =23, Percentage = 7.443%\n",
            "Class = salivary glands, Count =2, Percentage = 0.647%\n",
            "Class = rectum, Count =6, Percentage = 1.942%\n",
            "Class = gallbladder, Count =15, Percentage = 4.854%\n",
            "Class = stomach, Count =38, Percentage = 12.298%\n",
            "Class = esophagus, Count =9, Percentage = 2.913%\n",
            "Class = corpus uteri, Count =6, Percentage = 1.942%\n",
            "Class = testis, Count =1, Percentage = 0.324%\n",
            "Class = cervix uteri, Count =2, Percentage = 0.647%\n",
            "Class = duoden and sm.int, Count =1, Percentage = 0.324%\n",
            "Class = bladder, Count =2, Percentage = 0.647%\n",
            "Class = vagina, Count =1, Percentage = 0.324%\n"
          ],
          "name": "stdout"
        }
      ]
    },
    {
      "cell_type": "markdown",
      "metadata": {
        "id": "k39LwffW6_Ex"
      },
      "source": [
        "# Missing Values"
      ]
    },
    {
      "cell_type": "code",
      "metadata": {
        "id": "lquDfG8r3f-I",
        "colab": {
          "base_uri": "https://localhost:8080/"
        },
        "outputId": "571fc138-f080-449d-fcec-07951f2feebf"
      },
      "source": [
        "print(\"The total amount of missing values is: \", data.isnull().sum().sum())\n",
        "# now we'll iterate through the columns..\n",
        "names = data.columns.to_list()\n",
        "print(names)\n",
        "for name in names:\n",
        "  numna = data[name].isnull().sum().sum() \n",
        "  print(\"Column, \", name, \"has \", numna, \" missing values\")"
      ],
      "execution_count": null,
      "outputs": [
        {
          "output_type": "stream",
          "text": [
            "The total amount of missing values is:  207\n",
            "['age', 'sex', 'histologic-type', 'degree-of-diffe', 'bone', 'bone-marrow', 'lung', 'pleura', 'peritoneum', 'liver', 'brain', 'skin', 'neck', 'supraclavicular', 'axillar', 'mediastinum', 'abdominal', 'class']\n",
            "Column,  age has  0  missing values\n",
            "Column,  sex has  1  missing values\n",
            "Column,  histologic-type has  65  missing values\n",
            "Column,  degree-of-diffe has  139  missing values\n",
            "Column,  bone has  0  missing values\n",
            "Column,  bone-marrow has  0  missing values\n",
            "Column,  lung has  0  missing values\n",
            "Column,  pleura has  0  missing values\n",
            "Column,  peritoneum has  0  missing values\n",
            "Column,  liver has  0  missing values\n",
            "Column,  brain has  0  missing values\n",
            "Column,  skin has  1  missing values\n",
            "Column,  neck has  0  missing values\n",
            "Column,  supraclavicular has  0  missing values\n",
            "Column,  axillar has  1  missing values\n",
            "Column,  mediastinum has  0  missing values\n",
            "Column,  abdominal has  0  missing values\n",
            "Column,  class has  0  missing values\n"
          ],
          "name": "stdout"
        }
      ]
    },
    {
      "cell_type": "code",
      "metadata": {
        "id": "6Bmy6ISm7Uqe",
        "colab": {
          "base_uri": "https://localhost:8080/",
          "height": 271
        },
        "outputId": "0fada3e1-e0b7-4140-af20-7dae0a83e577"
      },
      "source": [
        "column = data['degree-of-diffe'].fillna('base') #instead of dropping na, we can fill with a base\n",
        "data['degree-of-diffe'] = column\n",
        "data.head()"
      ],
      "execution_count": null,
      "outputs": [
        {
          "output_type": "execute_result",
          "data": {
            "text/html": [
              "<div>\n",
              "<style scoped>\n",
              "    .dataframe tbody tr th:only-of-type {\n",
              "        vertical-align: middle;\n",
              "    }\n",
              "\n",
              "    .dataframe tbody tr th {\n",
              "        vertical-align: top;\n",
              "    }\n",
              "\n",
              "    .dataframe thead th {\n",
              "        text-align: right;\n",
              "    }\n",
              "</style>\n",
              "<table border=\"1\" class=\"dataframe\">\n",
              "  <thead>\n",
              "    <tr style=\"text-align: right;\">\n",
              "      <th></th>\n",
              "      <th>age</th>\n",
              "      <th>sex</th>\n",
              "      <th>histologic-type</th>\n",
              "      <th>degree-of-diffe</th>\n",
              "      <th>bone</th>\n",
              "      <th>bone-marrow</th>\n",
              "      <th>lung</th>\n",
              "      <th>pleura</th>\n",
              "      <th>peritoneum</th>\n",
              "      <th>liver</th>\n",
              "      <th>brain</th>\n",
              "      <th>skin</th>\n",
              "      <th>neck</th>\n",
              "      <th>supraclavicular</th>\n",
              "      <th>axillar</th>\n",
              "      <th>mediastinum</th>\n",
              "      <th>abdominal</th>\n",
              "      <th>class</th>\n",
              "    </tr>\n",
              "  </thead>\n",
              "  <tbody>\n",
              "    <tr>\n",
              "      <th>0</th>\n",
              "      <td>&gt;=60</td>\n",
              "      <td>female</td>\n",
              "      <td>NaN</td>\n",
              "      <td>base</td>\n",
              "      <td>False</td>\n",
              "      <td>False</td>\n",
              "      <td>False</td>\n",
              "      <td>False</td>\n",
              "      <td>False</td>\n",
              "      <td>True</td>\n",
              "      <td>False</td>\n",
              "      <td>False</td>\n",
              "      <td>False</td>\n",
              "      <td>False</td>\n",
              "      <td>False</td>\n",
              "      <td>False</td>\n",
              "      <td>False</td>\n",
              "      <td>lung</td>\n",
              "    </tr>\n",
              "    <tr>\n",
              "      <th>1</th>\n",
              "      <td>&gt;=60</td>\n",
              "      <td>male</td>\n",
              "      <td>NaN</td>\n",
              "      <td>poorly</td>\n",
              "      <td>False</td>\n",
              "      <td>False</td>\n",
              "      <td>False</td>\n",
              "      <td>False</td>\n",
              "      <td>False</td>\n",
              "      <td>True</td>\n",
              "      <td>False</td>\n",
              "      <td>False</td>\n",
              "      <td>False</td>\n",
              "      <td>True</td>\n",
              "      <td>False</td>\n",
              "      <td>True</td>\n",
              "      <td>False</td>\n",
              "      <td>lung</td>\n",
              "    </tr>\n",
              "    <tr>\n",
              "      <th>2</th>\n",
              "      <td>30-59</td>\n",
              "      <td>female</td>\n",
              "      <td>adefalse</td>\n",
              "      <td>base</td>\n",
              "      <td>False</td>\n",
              "      <td>False</td>\n",
              "      <td>False</td>\n",
              "      <td>True</td>\n",
              "      <td>False</td>\n",
              "      <td>False</td>\n",
              "      <td>False</td>\n",
              "      <td>True</td>\n",
              "      <td>False</td>\n",
              "      <td>False</td>\n",
              "      <td>True</td>\n",
              "      <td>False</td>\n",
              "      <td>False</td>\n",
              "      <td>breast</td>\n",
              "    </tr>\n",
              "    <tr>\n",
              "      <th>3</th>\n",
              "      <td>30-59</td>\n",
              "      <td>female</td>\n",
              "      <td>adefalse</td>\n",
              "      <td>base</td>\n",
              "      <td>False</td>\n",
              "      <td>False</td>\n",
              "      <td>False</td>\n",
              "      <td>False</td>\n",
              "      <td>True</td>\n",
              "      <td>False</td>\n",
              "      <td>False</td>\n",
              "      <td>False</td>\n",
              "      <td>False</td>\n",
              "      <td>False</td>\n",
              "      <td>False</td>\n",
              "      <td>False</td>\n",
              "      <td>False</td>\n",
              "      <td>ovary</td>\n",
              "    </tr>\n",
              "    <tr>\n",
              "      <th>4</th>\n",
              "      <td>30-59</td>\n",
              "      <td>female</td>\n",
              "      <td>adefalse</td>\n",
              "      <td>base</td>\n",
              "      <td>False</td>\n",
              "      <td>False</td>\n",
              "      <td>False</td>\n",
              "      <td>True</td>\n",
              "      <td>True</td>\n",
              "      <td>False</td>\n",
              "      <td>False</td>\n",
              "      <td>False</td>\n",
              "      <td>False</td>\n",
              "      <td>False</td>\n",
              "      <td>False</td>\n",
              "      <td>False</td>\n",
              "      <td>False</td>\n",
              "      <td>ovary</td>\n",
              "    </tr>\n",
              "  </tbody>\n",
              "</table>\n",
              "</div>"
            ],
            "text/plain": [
              "     age     sex histologic-type  ... mediastinum  abdominal   class\n",
              "0   >=60  female             NaN  ...       False      False    lung\n",
              "1   >=60    male             NaN  ...        True      False    lung\n",
              "2  30-59  female        adefalse  ...       False      False  breast\n",
              "3  30-59  female        adefalse  ...       False      False   ovary\n",
              "4  30-59  female        adefalse  ...       False      False   ovary\n",
              "\n",
              "[5 rows x 18 columns]"
            ]
          },
          "metadata": {
            "tags": []
          },
          "execution_count": 5
        }
      ]
    },
    {
      "cell_type": "code",
      "metadata": {
        "id": "hdFdU2vz-Dx1",
        "colab": {
          "base_uri": "https://localhost:8080/"
        },
        "outputId": "5a85a61b-fec3-4c1c-e3c5-f356d55b3f41"
      },
      "source": [
        "data = data.dropna()\n",
        "print(\"Current Shape of the data: \", data.shape)\n",
        "target = data.values[:, -1]\n",
        "counter  = Counter(target)\n",
        "for k, v in counter.items():\n",
        "  per = v/ len(target) *100\n",
        "  print('Class = %s, Count =%d, Percentage = %.3f%%' % (k, v, per)) "
      ],
      "execution_count": null,
      "outputs": [
        {
          "output_type": "stream",
          "text": [
            "Current Shape of the data:  (242, 18)\n",
            "Class = breast, Count =17, Percentage = 7.025%\n",
            "Class = ovary, Count =17, Percentage = 7.025%\n",
            "Class = colon, Count =13, Percentage = 5.372%\n",
            "Class = prostate, Count =8, Percentage = 3.306%\n",
            "Class = lung, Count =43, Percentage = 17.769%\n",
            "Class = head and neck, Count =10, Percentage = 4.132%\n",
            "Class = pancreas, Count =26, Percentage = 10.744%\n",
            "Class = liver, Count =7, Percentage = 2.893%\n",
            "Class = kidney, Count =20, Percentage = 8.264%\n",
            "Class = salivary glands, Count =2, Percentage = 0.826%\n",
            "Class = rectum, Count =6, Percentage = 2.479%\n",
            "Class = gallbladder, Count =14, Percentage = 5.785%\n",
            "Class = stomach, Count =33, Percentage = 13.636%\n",
            "Class = thyroid, Count =10, Percentage = 4.132%\n",
            "Class = esophagus, Count =5, Percentage = 2.066%\n",
            "Class = corpus uteri, Count =6, Percentage = 2.479%\n",
            "Class = testis, Count =1, Percentage = 0.413%\n",
            "Class = cervix uteri, Count =2, Percentage = 0.826%\n",
            "Class = duoden and sm.int, Count =1, Percentage = 0.413%\n",
            "Class = vagina, Count =1, Percentage = 0.413%\n"
          ],
          "name": "stdout"
        }
      ]
    },
    {
      "cell_type": "code",
      "metadata": {
        "id": "1pWewZcIAWwK",
        "colab": {
          "base_uri": "https://localhost:8080/",
          "height": 323
        },
        "outputId": "d8668ea4-a64a-405a-9c41-694f6e187e35"
      },
      "source": [
        "X, y = data.drop('class', axis = 1), data['class']\n",
        "print(X.shape, y.shape) #shapes of our inputs and outputs]\n",
        "X.head()"
      ],
      "execution_count": null,
      "outputs": [
        {
          "output_type": "stream",
          "text": [
            "(242, 17) (242,)\n"
          ],
          "name": "stdout"
        },
        {
          "output_type": "execute_result",
          "data": {
            "text/html": [
              "<div>\n",
              "<style scoped>\n",
              "    .dataframe tbody tr th:only-of-type {\n",
              "        vertical-align: middle;\n",
              "    }\n",
              "\n",
              "    .dataframe tbody tr th {\n",
              "        vertical-align: top;\n",
              "    }\n",
              "\n",
              "    .dataframe thead th {\n",
              "        text-align: right;\n",
              "    }\n",
              "</style>\n",
              "<table border=\"1\" class=\"dataframe\">\n",
              "  <thead>\n",
              "    <tr style=\"text-align: right;\">\n",
              "      <th></th>\n",
              "      <th>age</th>\n",
              "      <th>sex</th>\n",
              "      <th>histologic-type</th>\n",
              "      <th>degree-of-diffe</th>\n",
              "      <th>bone</th>\n",
              "      <th>bone-marrow</th>\n",
              "      <th>lung</th>\n",
              "      <th>pleura</th>\n",
              "      <th>peritoneum</th>\n",
              "      <th>liver</th>\n",
              "      <th>brain</th>\n",
              "      <th>skin</th>\n",
              "      <th>neck</th>\n",
              "      <th>supraclavicular</th>\n",
              "      <th>axillar</th>\n",
              "      <th>mediastinum</th>\n",
              "      <th>abdominal</th>\n",
              "    </tr>\n",
              "  </thead>\n",
              "  <tbody>\n",
              "    <tr>\n",
              "      <th>2</th>\n",
              "      <td>30-59</td>\n",
              "      <td>female</td>\n",
              "      <td>adefalse</td>\n",
              "      <td>base</td>\n",
              "      <td>False</td>\n",
              "      <td>False</td>\n",
              "      <td>False</td>\n",
              "      <td>True</td>\n",
              "      <td>False</td>\n",
              "      <td>False</td>\n",
              "      <td>False</td>\n",
              "      <td>True</td>\n",
              "      <td>False</td>\n",
              "      <td>False</td>\n",
              "      <td>True</td>\n",
              "      <td>False</td>\n",
              "      <td>False</td>\n",
              "    </tr>\n",
              "    <tr>\n",
              "      <th>3</th>\n",
              "      <td>30-59</td>\n",
              "      <td>female</td>\n",
              "      <td>adefalse</td>\n",
              "      <td>base</td>\n",
              "      <td>False</td>\n",
              "      <td>False</td>\n",
              "      <td>False</td>\n",
              "      <td>False</td>\n",
              "      <td>True</td>\n",
              "      <td>False</td>\n",
              "      <td>False</td>\n",
              "      <td>False</td>\n",
              "      <td>False</td>\n",
              "      <td>False</td>\n",
              "      <td>False</td>\n",
              "      <td>False</td>\n",
              "      <td>False</td>\n",
              "    </tr>\n",
              "    <tr>\n",
              "      <th>4</th>\n",
              "      <td>30-59</td>\n",
              "      <td>female</td>\n",
              "      <td>adefalse</td>\n",
              "      <td>base</td>\n",
              "      <td>False</td>\n",
              "      <td>False</td>\n",
              "      <td>False</td>\n",
              "      <td>True</td>\n",
              "      <td>True</td>\n",
              "      <td>False</td>\n",
              "      <td>False</td>\n",
              "      <td>False</td>\n",
              "      <td>False</td>\n",
              "      <td>False</td>\n",
              "      <td>False</td>\n",
              "      <td>False</td>\n",
              "      <td>False</td>\n",
              "    </tr>\n",
              "    <tr>\n",
              "      <th>5</th>\n",
              "      <td>30-59</td>\n",
              "      <td>male</td>\n",
              "      <td>adefalse</td>\n",
              "      <td>base</td>\n",
              "      <td>False</td>\n",
              "      <td>False</td>\n",
              "      <td>False</td>\n",
              "      <td>False</td>\n",
              "      <td>False</td>\n",
              "      <td>True</td>\n",
              "      <td>False</td>\n",
              "      <td>False</td>\n",
              "      <td>False</td>\n",
              "      <td>False</td>\n",
              "      <td>False</td>\n",
              "      <td>False</td>\n",
              "      <td>False</td>\n",
              "    </tr>\n",
              "    <tr>\n",
              "      <th>6</th>\n",
              "      <td>30-59</td>\n",
              "      <td>male</td>\n",
              "      <td>adefalse</td>\n",
              "      <td>base</td>\n",
              "      <td>True</td>\n",
              "      <td>False</td>\n",
              "      <td>False</td>\n",
              "      <td>False</td>\n",
              "      <td>False</td>\n",
              "      <td>False</td>\n",
              "      <td>False</td>\n",
              "      <td>False</td>\n",
              "      <td>False</td>\n",
              "      <td>False</td>\n",
              "      <td>False</td>\n",
              "      <td>False</td>\n",
              "      <td>False</td>\n",
              "    </tr>\n",
              "  </tbody>\n",
              "</table>\n",
              "</div>"
            ],
            "text/plain": [
              "     age     sex histologic-type  ... axillar  mediastinum  abdominal\n",
              "2  30-59  female        adefalse  ...    True        False      False\n",
              "3  30-59  female        adefalse  ...   False        False      False\n",
              "4  30-59  female        adefalse  ...   False        False      False\n",
              "5  30-59    male        adefalse  ...   False        False      False\n",
              "6  30-59    male        adefalse  ...   False        False      False\n",
              "\n",
              "[5 rows x 17 columns]"
            ]
          },
          "metadata": {
            "tags": []
          },
          "execution_count": 7
        }
      ]
    },
    {
      "cell_type": "code",
      "metadata": {
        "id": "w-FdMSvUqDLQ",
        "colab": {
          "base_uri": "https://localhost:8080/"
        },
        "outputId": "77538785-aa58-4be1-ac30-79d577ce27cf"
      },
      "source": [
        "# find indicies of True/False Values we want to transform\n",
        "bools = X.select_dtypes(include = ['bool', 'object']).columns\n",
        "bools = bools.delete((0, 1, 2, 3)) #delete indicies of columns that aren't in True/False Format\n",
        "print(bools)\n",
        "\n",
        "for i in bools:\n",
        "  temp = X[i].astype(int)\n",
        "  X[i] = temp\n",
        "\n",
        "print(X)"
      ],
      "execution_count": null,
      "outputs": [
        {
          "output_type": "stream",
          "text": [
            "Index(['bone', 'bone-marrow', 'lung', 'pleura', 'peritoneum', 'liver', 'brain',\n",
            "       'skin', 'neck', 'supraclavicular', 'axillar', 'mediastinum',\n",
            "       'abdominal'],\n",
            "      dtype='object')\n",
            "       age     sex histologic-type  ... axillar  mediastinum  abdominal\n",
            "2    30-59  female        adefalse  ...       1            0          0\n",
            "3    30-59  female        adefalse  ...       0            0          0\n",
            "4    30-59  female        adefalse  ...       0            0          0\n",
            "5    30-59    male        adefalse  ...       0            0          0\n",
            "6    30-59    male        adefalse  ...       0            0          0\n",
            "..     ...     ...             ...  ...     ...          ...        ...\n",
            "303   >=60  female        adefalse  ...       0            0          1\n",
            "305  30-59    male        adefalse  ...       0            1          0\n",
            "306  30-59    male      epidermoid  ...       1            0          0\n",
            "307  30-59  female        adefalse  ...       0            0          0\n",
            "308  30-59  female        adefalse  ...       0            0          1\n",
            "\n",
            "[242 rows x 17 columns]\n"
          ],
          "name": "stdout"
        }
      ]
    },
    {
      "cell_type": "code",
      "metadata": {
        "id": "rsdW5z8FHo6i",
        "colab": {
          "base_uri": "https://localhost:8080/"
        },
        "outputId": "1b8ca17b-b85b-4532-d419-bf89f6fe0216"
      },
      "source": [
        "# ordinal encoding for age, meaning we care about the ordering of the labels\n",
        "columns = X.columns.to_list()\n",
        "X = X.to_numpy()\n",
        "j = 0 #iterate through first column\n",
        "for i in range(0, X.shape[0], 1):\n",
        "  if X[i, j] == '<30':\n",
        "    X[i, j] = 0\n",
        "  elif X[i, j] == '30-59':\n",
        "    X[i, j] = 1\n",
        "  elif X[i, j] == '>=60':\n",
        "    X[i, j] = 2\n",
        "  else:\n",
        "    print('error', i, X[i, j]) #for debugging...\n",
        "print(X[0:5, :])"
      ],
      "execution_count": null,
      "outputs": [
        {
          "output_type": "stream",
          "text": [
            "[[1 'female' 'adefalse' 'base' 0 0 0 1 0 0 0 1 0 0 1 0 0]\n",
            " [1 'female' 'adefalse' 'base' 0 0 0 0 1 0 0 0 0 0 0 0 0]\n",
            " [1 'female' 'adefalse' 'base' 0 0 0 1 1 0 0 0 0 0 0 0 0]\n",
            " [1 'male' 'adefalse' 'base' 0 0 0 0 0 1 0 0 0 0 0 0 0]\n",
            " [1 'male' 'adefalse' 'base' 1 0 0 0 0 0 0 0 0 0 0 0 0]]\n"
          ],
          "name": "stdout"
        }
      ]
    },
    {
      "cell_type": "code",
      "metadata": {
        "id": "Hf9EKNObLfZl",
        "colab": {
          "base_uri": "https://localhost:8080/",
          "height": 433
        },
        "outputId": "369b1a0d-2ce0-47cf-efcf-7f2f3577232d"
      },
      "source": [
        "# we'll do a simple 1/0 encoding for male, female, while checking capitalization\n",
        "j = 1\n",
        "for i in range(0, X.shape[0], 1):\n",
        "  if X[i, j].lower() == 'female':\n",
        "    X[i, j] = 0\n",
        "  elif X[i, j].lower() == 'male':\n",
        "    X[i, j] = 1\n",
        "  else:\n",
        "    print('error', i, X[i, j])\n",
        "X = pd.DataFrame(X, columns = columns)\n",
        "X"
      ],
      "execution_count": null,
      "outputs": [
        {
          "output_type": "execute_result",
          "data": {
            "text/html": [
              "<div>\n",
              "<style scoped>\n",
              "    .dataframe tbody tr th:only-of-type {\n",
              "        vertical-align: middle;\n",
              "    }\n",
              "\n",
              "    .dataframe tbody tr th {\n",
              "        vertical-align: top;\n",
              "    }\n",
              "\n",
              "    .dataframe thead th {\n",
              "        text-align: right;\n",
              "    }\n",
              "</style>\n",
              "<table border=\"1\" class=\"dataframe\">\n",
              "  <thead>\n",
              "    <tr style=\"text-align: right;\">\n",
              "      <th></th>\n",
              "      <th>age</th>\n",
              "      <th>sex</th>\n",
              "      <th>histologic-type</th>\n",
              "      <th>degree-of-diffe</th>\n",
              "      <th>bone</th>\n",
              "      <th>bone-marrow</th>\n",
              "      <th>lung</th>\n",
              "      <th>pleura</th>\n",
              "      <th>peritoneum</th>\n",
              "      <th>liver</th>\n",
              "      <th>brain</th>\n",
              "      <th>skin</th>\n",
              "      <th>neck</th>\n",
              "      <th>supraclavicular</th>\n",
              "      <th>axillar</th>\n",
              "      <th>mediastinum</th>\n",
              "      <th>abdominal</th>\n",
              "    </tr>\n",
              "  </thead>\n",
              "  <tbody>\n",
              "    <tr>\n",
              "      <th>0</th>\n",
              "      <td>1</td>\n",
              "      <td>0</td>\n",
              "      <td>adefalse</td>\n",
              "      <td>base</td>\n",
              "      <td>0</td>\n",
              "      <td>0</td>\n",
              "      <td>0</td>\n",
              "      <td>1</td>\n",
              "      <td>0</td>\n",
              "      <td>0</td>\n",
              "      <td>0</td>\n",
              "      <td>1</td>\n",
              "      <td>0</td>\n",
              "      <td>0</td>\n",
              "      <td>1</td>\n",
              "      <td>0</td>\n",
              "      <td>0</td>\n",
              "    </tr>\n",
              "    <tr>\n",
              "      <th>1</th>\n",
              "      <td>1</td>\n",
              "      <td>0</td>\n",
              "      <td>adefalse</td>\n",
              "      <td>base</td>\n",
              "      <td>0</td>\n",
              "      <td>0</td>\n",
              "      <td>0</td>\n",
              "      <td>0</td>\n",
              "      <td>1</td>\n",
              "      <td>0</td>\n",
              "      <td>0</td>\n",
              "      <td>0</td>\n",
              "      <td>0</td>\n",
              "      <td>0</td>\n",
              "      <td>0</td>\n",
              "      <td>0</td>\n",
              "      <td>0</td>\n",
              "    </tr>\n",
              "    <tr>\n",
              "      <th>2</th>\n",
              "      <td>1</td>\n",
              "      <td>0</td>\n",
              "      <td>adefalse</td>\n",
              "      <td>base</td>\n",
              "      <td>0</td>\n",
              "      <td>0</td>\n",
              "      <td>0</td>\n",
              "      <td>1</td>\n",
              "      <td>1</td>\n",
              "      <td>0</td>\n",
              "      <td>0</td>\n",
              "      <td>0</td>\n",
              "      <td>0</td>\n",
              "      <td>0</td>\n",
              "      <td>0</td>\n",
              "      <td>0</td>\n",
              "      <td>0</td>\n",
              "    </tr>\n",
              "    <tr>\n",
              "      <th>3</th>\n",
              "      <td>1</td>\n",
              "      <td>1</td>\n",
              "      <td>adefalse</td>\n",
              "      <td>base</td>\n",
              "      <td>0</td>\n",
              "      <td>0</td>\n",
              "      <td>0</td>\n",
              "      <td>0</td>\n",
              "      <td>0</td>\n",
              "      <td>1</td>\n",
              "      <td>0</td>\n",
              "      <td>0</td>\n",
              "      <td>0</td>\n",
              "      <td>0</td>\n",
              "      <td>0</td>\n",
              "      <td>0</td>\n",
              "      <td>0</td>\n",
              "    </tr>\n",
              "    <tr>\n",
              "      <th>4</th>\n",
              "      <td>1</td>\n",
              "      <td>1</td>\n",
              "      <td>adefalse</td>\n",
              "      <td>base</td>\n",
              "      <td>1</td>\n",
              "      <td>0</td>\n",
              "      <td>0</td>\n",
              "      <td>0</td>\n",
              "      <td>0</td>\n",
              "      <td>0</td>\n",
              "      <td>0</td>\n",
              "      <td>0</td>\n",
              "      <td>0</td>\n",
              "      <td>0</td>\n",
              "      <td>0</td>\n",
              "      <td>0</td>\n",
              "      <td>0</td>\n",
              "    </tr>\n",
              "    <tr>\n",
              "      <th>...</th>\n",
              "      <td>...</td>\n",
              "      <td>...</td>\n",
              "      <td>...</td>\n",
              "      <td>...</td>\n",
              "      <td>...</td>\n",
              "      <td>...</td>\n",
              "      <td>...</td>\n",
              "      <td>...</td>\n",
              "      <td>...</td>\n",
              "      <td>...</td>\n",
              "      <td>...</td>\n",
              "      <td>...</td>\n",
              "      <td>...</td>\n",
              "      <td>...</td>\n",
              "      <td>...</td>\n",
              "      <td>...</td>\n",
              "      <td>...</td>\n",
              "    </tr>\n",
              "    <tr>\n",
              "      <th>237</th>\n",
              "      <td>2</td>\n",
              "      <td>0</td>\n",
              "      <td>adefalse</td>\n",
              "      <td>base</td>\n",
              "      <td>0</td>\n",
              "      <td>0</td>\n",
              "      <td>1</td>\n",
              "      <td>1</td>\n",
              "      <td>1</td>\n",
              "      <td>0</td>\n",
              "      <td>0</td>\n",
              "      <td>0</td>\n",
              "      <td>0</td>\n",
              "      <td>0</td>\n",
              "      <td>0</td>\n",
              "      <td>0</td>\n",
              "      <td>1</td>\n",
              "    </tr>\n",
              "    <tr>\n",
              "      <th>238</th>\n",
              "      <td>1</td>\n",
              "      <td>1</td>\n",
              "      <td>adefalse</td>\n",
              "      <td>well</td>\n",
              "      <td>1</td>\n",
              "      <td>0</td>\n",
              "      <td>0</td>\n",
              "      <td>0</td>\n",
              "      <td>0</td>\n",
              "      <td>0</td>\n",
              "      <td>0</td>\n",
              "      <td>0</td>\n",
              "      <td>1</td>\n",
              "      <td>1</td>\n",
              "      <td>0</td>\n",
              "      <td>1</td>\n",
              "      <td>0</td>\n",
              "    </tr>\n",
              "    <tr>\n",
              "      <th>239</th>\n",
              "      <td>1</td>\n",
              "      <td>1</td>\n",
              "      <td>epidermoid</td>\n",
              "      <td>poorly</td>\n",
              "      <td>1</td>\n",
              "      <td>0</td>\n",
              "      <td>0</td>\n",
              "      <td>0</td>\n",
              "      <td>0</td>\n",
              "      <td>0</td>\n",
              "      <td>0</td>\n",
              "      <td>1</td>\n",
              "      <td>0</td>\n",
              "      <td>0</td>\n",
              "      <td>1</td>\n",
              "      <td>0</td>\n",
              "      <td>0</td>\n",
              "    </tr>\n",
              "    <tr>\n",
              "      <th>240</th>\n",
              "      <td>1</td>\n",
              "      <td>0</td>\n",
              "      <td>adefalse</td>\n",
              "      <td>well</td>\n",
              "      <td>0</td>\n",
              "      <td>0</td>\n",
              "      <td>0</td>\n",
              "      <td>1</td>\n",
              "      <td>1</td>\n",
              "      <td>0</td>\n",
              "      <td>0</td>\n",
              "      <td>0</td>\n",
              "      <td>0</td>\n",
              "      <td>0</td>\n",
              "      <td>0</td>\n",
              "      <td>0</td>\n",
              "      <td>0</td>\n",
              "    </tr>\n",
              "    <tr>\n",
              "      <th>241</th>\n",
              "      <td>1</td>\n",
              "      <td>0</td>\n",
              "      <td>adefalse</td>\n",
              "      <td>base</td>\n",
              "      <td>1</td>\n",
              "      <td>0</td>\n",
              "      <td>1</td>\n",
              "      <td>1</td>\n",
              "      <td>1</td>\n",
              "      <td>1</td>\n",
              "      <td>1</td>\n",
              "      <td>0</td>\n",
              "      <td>0</td>\n",
              "      <td>0</td>\n",
              "      <td>0</td>\n",
              "      <td>0</td>\n",
              "      <td>1</td>\n",
              "    </tr>\n",
              "  </tbody>\n",
              "</table>\n",
              "<p>242 rows × 17 columns</p>\n",
              "</div>"
            ],
            "text/plain": [
              "    age sex histologic-type  ... axillar mediastinum abdominal\n",
              "0     1   0        adefalse  ...       1           0         0\n",
              "1     1   0        adefalse  ...       0           0         0\n",
              "2     1   0        adefalse  ...       0           0         0\n",
              "3     1   1        adefalse  ...       0           0         0\n",
              "4     1   1        adefalse  ...       0           0         0\n",
              "..   ..  ..             ...  ...     ...         ...       ...\n",
              "237   2   0        adefalse  ...       0           0         1\n",
              "238   1   1        adefalse  ...       0           1         0\n",
              "239   1   1      epidermoid  ...       1           0         0\n",
              "240   1   0        adefalse  ...       0           0         0\n",
              "241   1   0        adefalse  ...       0           0         1\n",
              "\n",
              "[242 rows x 17 columns]"
            ]
          },
          "metadata": {
            "tags": []
          },
          "execution_count": 10
        }
      ]
    },
    {
      "cell_type": "code",
      "metadata": {
        "id": "_T7iBpNaRvUI",
        "colab": {
          "base_uri": "https://localhost:8080/"
        },
        "outputId": "6e71c82c-9a3a-4406-dfff-6bfb929ca632"
      },
      "source": [
        "#import our transformsers \n",
        "from sklearn.preprocessing import LabelBinarizer\n",
        "from sklearn.compose import ColumnTransformer\n",
        "from sklearn.preprocessing import OneHotEncoder\n",
        "from sklearn.preprocessing import OrdinalEncoder\n",
        "\n",
        "t = [('one_hot', OneHotEncoder(), [2, 3])]\n",
        "col_transformer = ColumnTransformer(transformers=t, remainder = 'passthrough')\n",
        "X = col_transformer.fit_transform(X)\n",
        "X"
      ],
      "execution_count": null,
      "outputs": [
        {
          "output_type": "execute_result",
          "data": {
            "text/plain": [
              "array([[1.0, 0.0, 0.0, ..., 1, 0, 0],\n",
              "       [1.0, 0.0, 0.0, ..., 0, 0, 0],\n",
              "       [1.0, 0.0, 0.0, ..., 0, 0, 0],\n",
              "       ...,\n",
              "       [0.0, 0.0, 1.0, ..., 1, 0, 0],\n",
              "       [1.0, 0.0, 0.0, ..., 0, 0, 0],\n",
              "       [1.0, 0.0, 0.0, ..., 0, 0, 1]], dtype=object)"
            ]
          },
          "metadata": {
            "tags": []
          },
          "execution_count": 11
        }
      ]
    },
    {
      "cell_type": "code",
      "metadata": {
        "id": "IWOn1FVBV9iz",
        "colab": {
          "base_uri": "https://localhost:8080/"
        },
        "outputId": "23f9e70d-a7c4-40ef-81d9-ab4607be6e08"
      },
      "source": [
        "# transform our outputs \n",
        "from sklearn.preprocessing import LabelEncoder\n",
        "\n",
        "y = LabelEncoder().fit_transform(y)\n",
        "y"
      ],
      "execution_count": null,
      "outputs": [
        {
          "output_type": "execute_result",
          "data": {
            "text/plain": [
              "array([ 0, 11, 11,  2, 13, 10, 13, 11,  7, 12, 10,  7, 10,  9, 10, 11,  8,\n",
              "       10, 15,  0, 14, 12, 10, 12, 13,  6,  0,  0,  6, 16, 16, 10, 18, 12,\n",
              "       12, 12, 12, 11, 16,  6, 18,  0, 16,  5,  0,  3, 14, 16, 13, 10, 18,\n",
              "        0, 12,  8,  8, 12, 10, 11, 10, 17, 10,  7, 10, 18,  7, 11, 10, 10,\n",
              "       16, 10,  8,  1, 16,  8,  6, 16, 16,  0, 18, 14,  9, 10, 16,  7, 11,\n",
              "        9, 10, 16, 16,  0, 16,  7, 12, 10, 11, 16,  0, 11, 16,  0,  8,  0,\n",
              "       14, 16,  5,  5, 16,  0, 10, 10, 10,  8, 10,  6, 16,  9, 12,  6,  3,\n",
              "       12,  2, 13, 18, 10, 13, 12, 12,  0,  2, 12,  8, 16, 10, 16,  6,  2,\n",
              "        0, 10,  2, 12, 12,  8,  2, 10, 11, 10,  8,  3, 16, 12,  8, 10, 13,\n",
              "        6,  8,  9,  2,  2, 16,  8,  5, 12, 10, 10,  3, 10,  8, 11, 16, 16,\n",
              "       16, 18,  0, 18,  6, 15,  6, 12,  4,  7,  9,  2, 12, 16, 14, 16, 12,\n",
              "       12,  5, 10,  3, 12, 16, 10,  6,  2, 16, 12,  7, 14, 16,  2, 10,  8,\n",
              "       10, 11,  0,  8, 10,  8,  8, 10, 10,  1, 18, 11, 16, 10, 10, 11,  9,\n",
              "       11, 18,  7,  2, 19, 10,  7,  8, 10,  6, 12, 16,  2, 16,  6,  8,  3,\n",
              "       13, 10, 11,  6])"
            ]
          },
          "metadata": {
            "tags": []
          },
          "execution_count": 12
        }
      ]
    },
    {
      "cell_type": "code",
      "metadata": {
        "id": "mxlNrxoVUaUW"
      },
      "source": [
        "from sklearn.model_selection import train_test_split\n",
        "from sklearn.model_selection import RepeatedKFold\n",
        "import random\n",
        "\n",
        "r = random.seed()\n",
        "X_train, X_test, y_train, y_test = train_test_split(X, y)\n",
        "\n",
        "# define the cross valdiator that will be used uniformly across all classifiers\n",
        "# for each trial\n",
        "cv = RepeatedKFold(n_splits = 5, n_repeats = 3)"
      ],
      "execution_count": null,
      "outputs": []
    },
    {
      "cell_type": "markdown",
      "metadata": {
        "id": "WraHhR1P6B9H"
      },
      "source": [
        "# **Logistic Regression**"
      ]
    },
    {
      "cell_type": "code",
      "metadata": {
        "id": "E4euG-fV-CUz"
      },
      "source": [
        "# Import library for our grid search\n",
        "from sklearn.model_selection import GridSearchCV\n",
        "#Import library for evalating the model \n",
        "from sklearn import metrics"
      ],
      "execution_count": null,
      "outputs": []
    },
    {
      "cell_type": "code",
      "metadata": {
        "colab": {
          "base_uri": "https://localhost:8080/"
        },
        "id": "uyzp1WQn6Kd_",
        "outputId": "169b1458-61d9-43e0-d5af-910438a91752"
      },
      "source": [
        "from sklearn.linear_model import LogisticRegression\n",
        "\n",
        "#define model\n",
        "model = LogisticRegression()\n",
        "#define search space\n",
        "space = dict()\n",
        "space['solver'] = ['newton-cg', 'lbfgs', 'liblinear']\n",
        "space['penalty'] = ['none', 'l1', 'l2']\n",
        "space['C'] = [1e-8, 1e-7, 1e-6, 1e-5, 1e-4, 1e-3, 1e-2, 1e-1, 1e0, 1e1, 1e2, 1e3, 1e4]\n",
        "#define search\n",
        "search = GridSearchCV(model, space, scoring = 'accuracy', n_jobs = -1, cv= cv)\n",
        "# execute search\n",
        "result = search.fit(X_train, y_train)\n",
        "results = search.return_train_score\n",
        "# summarize result\n",
        "print('Best Score: %s' % result.best_score_)\n",
        "print('Best Hyperparameters: %s' % result.best_params_)\n",
        "print('Best Estimator: %s' % result.best_estimator_)"
      ],
      "execution_count": null,
      "outputs": [
        {
          "output_type": "stream",
          "text": [
            "Best Score: 0.35055055055055057\n",
            "Best Hyperparameters: {'C': 1.0, 'penalty': 'l2', 'solver': 'liblinear'}\n",
            "Best Estimator: LogisticRegression(C=1.0, class_weight=None, dual=False, fit_intercept=True,\n",
            "                   intercept_scaling=1, l1_ratio=None, max_iter=100,\n",
            "                   multi_class='auto', n_jobs=None, penalty='l2',\n",
            "                   random_state=None, solver='liblinear', tol=0.0001, verbose=0,\n",
            "                   warm_start=False)\n"
          ],
          "name": "stdout"
        }
      ]
    },
    {
      "cell_type": "code",
      "metadata": {
        "colab": {
          "base_uri": "https://localhost:8080/"
        },
        "id": "_zRWDVLyrTau",
        "outputId": "74e282e3-0d23-4104-d1ca-8128bacf021a"
      },
      "source": [
        "# train on all of taining data and use best hyperparameters to evaluate accuracy \n",
        "# on test set\n",
        "optimalmodel = result.best_estimator_\n",
        "optimalmodel.fit(X_train, y_train)\n",
        "y_predict = optimalmodel.predict(X_test)\n",
        "accuracy = metrics.accuracy_score(y_test, y_predict)\n",
        "print('accuracy on test set: %s' % accuracy)\n"
      ],
      "execution_count": null,
      "outputs": [
        {
          "output_type": "stream",
          "text": [
            "accuracy on test set: 0.4098360655737705\n"
          ],
          "name": "stdout"
        }
      ]
    },
    {
      "cell_type": "markdown",
      "metadata": {
        "id": "RhFsr0JQkSrs"
      },
      "source": [
        "#**k-Nearest Neighbors**"
      ]
    },
    {
      "cell_type": "code",
      "metadata": {
        "colab": {
          "base_uri": "https://localhost:8080/"
        },
        "id": "slj1vbb4iYY4",
        "outputId": "56468717-82ed-4697-ca2d-b6df390ee518"
      },
      "source": [
        "from sklearn.neighbors import KNeighborsClassifier\n",
        "#the paper uses 26 values of K ranging from l = 1 to |trainset|\n",
        "\n",
        "#define model \n",
        "model = KNeighborsClassifier()\n",
        "# define search space\n",
        "k_range = list(range(1, 27))\n",
        "space = dict()\n",
        "space['weights'] = ['uniform', 'distance']\n",
        "space['n_neighbors'] = k_range\n",
        "#define search \n",
        "search = GridSearchCV(model, space, scoring = 'accuracy', n_jobs = -1, cv = cv)\n",
        "#execute search \n",
        "result = search.fit(X_train, y_train)\n",
        "# summarize result\n",
        "print('Best Score: %s' % result.best_score_)\n",
        "print('Best Hyperparameters: %s' % result.best_params_)\n",
        "print('Best Estimator: %s' % result.best_estimator_)"
      ],
      "execution_count": null,
      "outputs": [
        {
          "output_type": "stream",
          "text": [
            "Best Score: 0.32977977977977974\n",
            "Best Hyperparameters: {'n_neighbors': 10, 'weights': 'uniform'}\n",
            "Best Estimator: KNeighborsClassifier(algorithm='auto', leaf_size=30, metric='minkowski',\n",
            "                     metric_params=None, n_jobs=None, n_neighbors=10, p=2,\n",
            "                     weights='uniform')\n"
          ],
          "name": "stdout"
        }
      ]
    },
    {
      "cell_type": "code",
      "metadata": {
        "colab": {
          "base_uri": "https://localhost:8080/"
        },
        "id": "QGIB2IuIs4Rl",
        "outputId": "e86fb1fd-bb72-4339-9c5c-dfcbf06f9e72"
      },
      "source": [
        "# train on all of taining data and use best hyperparameters to evaluate accuracy \n",
        "# on test set\n",
        "optimalmodel = result.best_estimator_\n",
        "optimalmodel.fit(X_train, y_train)\n",
        "y_predict = optimalmodel.predict(X_test)\n",
        "accuracy = metrics.accuracy_score(y_test, y_predict)\n",
        "print('accuracy on test set: %s' % accuracy)"
      ],
      "execution_count": null,
      "outputs": [
        {
          "output_type": "stream",
          "text": [
            "accuracy on test set: 0.39344262295081966\n"
          ],
          "name": "stdout"
        }
      ]
    },
    {
      "cell_type": "markdown",
      "metadata": {
        "id": "3fd4aNzv5pZz"
      },
      "source": [
        "# **Random Forest**:"
      ]
    },
    {
      "cell_type": "code",
      "metadata": {
        "id": "6XDy3eAI85W7",
        "colab": {
          "base_uri": "https://localhost:8080/"
        },
        "outputId": "cb4b846b-3183-49ea-b6d7-410dcb271a58"
      },
      "source": [
        "from sklearn.ensemble import RandomForestClassifier\n",
        "# the paper uses 1024 trees, & the size of the feature set considered for each \n",
        "# split is 1,2,4,5,8,12,16, & 20. \n",
        "\n",
        "#define model \n",
        "model = RandomForestClassifier()\n",
        "#define search space\n",
        "max_features = [1, 2, 4, 5, 8, 12, 16, 20]\n",
        "space = dict()\n",
        "space['n_estimators'] = [1024]\n",
        "space['criterion'] = ['gini']\n",
        "space['max_features'] = max_features\n",
        "#define search:\n",
        "search = GridSearchCV(model, space, scoring = 'accuracy', n_jobs = -1, cv = cv)\n",
        "#execute search\n",
        "result = search.fit(X_train, y_train)\n",
        "#summarize result\n",
        "print('Best Score: %s' % result.best_score_)\n",
        "print('Best Hyperparameters: %s' % result.best_params_)\n",
        "print('Best Estimator: %s' % result.best_estimator_)"
      ],
      "execution_count": null,
      "outputs": [
        {
          "output_type": "stream",
          "text": [
            "Best Score: 0.2702702702702703\n",
            "Best Hyperparameters: {'criterion': 'gini', 'max_features': 1, 'n_estimators': 1024}\n",
            "Best Estimator: RandomForestClassifier(bootstrap=True, ccp_alpha=0.0, class_weight=None,\n",
            "                       criterion='gini', max_depth=None, max_features=1,\n",
            "                       max_leaf_nodes=None, max_samples=None,\n",
            "                       min_impurity_decrease=0.0, min_impurity_split=None,\n",
            "                       min_samples_leaf=1, min_samples_split=2,\n",
            "                       min_weight_fraction_leaf=0.0, n_estimators=1024,\n",
            "                       n_jobs=None, oob_score=False, random_state=None,\n",
            "                       verbose=0, warm_start=False)\n"
          ],
          "name": "stdout"
        }
      ]
    },
    {
      "cell_type": "code",
      "metadata": {
        "id": "rMWeDHUedOk2",
        "colab": {
          "base_uri": "https://localhost:8080/"
        },
        "outputId": "33c8e95d-d0ed-4158-ba6d-2461f270ef42"
      },
      "source": [
        "optimalmodel = result.best_estimator_\n",
        "optimalmodel.fit(X_train, y_train)\n",
        "y_predict = optimalmodel.predict(X_test)\n",
        "accuracy = metrics.accuracy_score(y_test, y_predict)\n",
        "print('accuracy on test set: %s' % accuracy)"
      ],
      "execution_count": null,
      "outputs": [
        {
          "output_type": "stream",
          "text": [
            "accuracy on test set: 0.3442622950819672\n"
          ],
          "name": "stdout"
        }
      ]
    }
  ]
}