{
  "nbformat": 4,
  "nbformat_minor": 0,
  "metadata": {
    "colab": {
      "name": "PrimaryTumor.ipynb",
      "provenance": [],
      "authorship_tag": "ABX9TyN7+ShVN5MS53zhXcTP+5sJ",
      "include_colab_link": true
    },
    "kernelspec": {
      "name": "python383jvsc74a57bd0a65e3aa414b4e42c60a32bfe81ca2ab7f2052218ca2c071f2deadcde481150db",
      "display_name": "Python 3.8.3 64-bit ('base': conda)"
    },
    "language_info": {
      "name": "python",
      "version": "3.8.3"
    }
  },
  "cells": [
    {
      "cell_type": "markdown",
      "metadata": {
        "id": "view-in-github",
        "colab_type": "text"
      },
      "source": [
        "<a href=\"https://colab.research.google.com/github/AndrewH707/TumorClassification/blob/main/PrimaryTumor.ipynb\" target=\"_parent\"><img src=\"https://colab.research.google.com/assets/colab-badge.svg\" alt=\"Open In Colab\"/></a>"
      ]
    },
    {
      "cell_type": "code",
      "metadata": {
        "id": "IlQUf47Uo_h6"
      },
      "source": [
        "import numpy as np\n",
        "from collections import Counter\n",
        "from matplotlib import pyplot as plt\n",
        "import pandas as pd"
      ],
      "execution_count": 1,
      "outputs": []
    },
    {
      "cell_type": "code",
      "metadata": {
        "id": "VXYOFbERrHKK",
        "colab": {
          "base_uri": "https://localhost:8080/",
          "height": 289
        },
        "outputId": "edd34fd5-1015-4cc6-cfea-20783f61ab7b"
      },
      "source": [
        "url = 'https://raw.githubusercontent.com/AndrewH707/BrainTumorDetection/main/primary-tumor.csv'\n",
        "data = pd.read_csv(url)\n",
        "print(\"The size of the data is: \", data.shape)\n",
        "data.head()"
      ],
      "execution_count": 2,
      "outputs": [
        {
          "output_type": "stream",
          "name": "stdout",
          "text": [
            "The size of the data is:  (309, 18)\n"
          ]
        },
        {
          "output_type": "execute_result",
          "data": {
            "text/plain": [
              "     age     sex histologic-type degree-of-diffe   bone  bone-marrow   lung  \\\n",
              "0   >=60  female             NaN             NaN  False        False  False   \n",
              "1   >=60    male             NaN          poorly  False        False  False   \n",
              "2  30-59  female        adefalse             NaN  False        False  False   \n",
              "3  30-59  female        adefalse             NaN  False        False  False   \n",
              "4  30-59  female        adefalse             NaN  False        False  False   \n",
              "\n",
              "   pleura  peritoneum  liver  brain   skin   neck  supraclavicular axillar  \\\n",
              "0   False       False   True  False  False  False            False   False   \n",
              "1   False       False   True  False  False  False             True   False   \n",
              "2    True       False  False  False   True  False            False    True   \n",
              "3   False        True  False  False  False  False            False   False   \n",
              "4    True        True  False  False  False  False            False   False   \n",
              "\n",
              "   mediastinum  abdominal   class  \n",
              "0        False      False    lung  \n",
              "1         True      False    lung  \n",
              "2        False      False  breast  \n",
              "3        False      False   ovary  \n",
              "4        False      False   ovary  "
            ],
            "text/html": "<div>\n<style scoped>\n    .dataframe tbody tr th:only-of-type {\n        vertical-align: middle;\n    }\n\n    .dataframe tbody tr th {\n        vertical-align: top;\n    }\n\n    .dataframe thead th {\n        text-align: right;\n    }\n</style>\n<table border=\"1\" class=\"dataframe\">\n  <thead>\n    <tr style=\"text-align: right;\">\n      <th></th>\n      <th>age</th>\n      <th>sex</th>\n      <th>histologic-type</th>\n      <th>degree-of-diffe</th>\n      <th>bone</th>\n      <th>bone-marrow</th>\n      <th>lung</th>\n      <th>pleura</th>\n      <th>peritoneum</th>\n      <th>liver</th>\n      <th>brain</th>\n      <th>skin</th>\n      <th>neck</th>\n      <th>supraclavicular</th>\n      <th>axillar</th>\n      <th>mediastinum</th>\n      <th>abdominal</th>\n      <th>class</th>\n    </tr>\n  </thead>\n  <tbody>\n    <tr>\n      <th>0</th>\n      <td>&gt;=60</td>\n      <td>female</td>\n      <td>NaN</td>\n      <td>NaN</td>\n      <td>False</td>\n      <td>False</td>\n      <td>False</td>\n      <td>False</td>\n      <td>False</td>\n      <td>True</td>\n      <td>False</td>\n      <td>False</td>\n      <td>False</td>\n      <td>False</td>\n      <td>False</td>\n      <td>False</td>\n      <td>False</td>\n      <td>lung</td>\n    </tr>\n    <tr>\n      <th>1</th>\n      <td>&gt;=60</td>\n      <td>male</td>\n      <td>NaN</td>\n      <td>poorly</td>\n      <td>False</td>\n      <td>False</td>\n      <td>False</td>\n      <td>False</td>\n      <td>False</td>\n      <td>True</td>\n      <td>False</td>\n      <td>False</td>\n      <td>False</td>\n      <td>True</td>\n      <td>False</td>\n      <td>True</td>\n      <td>False</td>\n      <td>lung</td>\n    </tr>\n    <tr>\n      <th>2</th>\n      <td>30-59</td>\n      <td>female</td>\n      <td>adefalse</td>\n      <td>NaN</td>\n      <td>False</td>\n      <td>False</td>\n      <td>False</td>\n      <td>True</td>\n      <td>False</td>\n      <td>False</td>\n      <td>False</td>\n      <td>True</td>\n      <td>False</td>\n      <td>False</td>\n      <td>True</td>\n      <td>False</td>\n      <td>False</td>\n      <td>breast</td>\n    </tr>\n    <tr>\n      <th>3</th>\n      <td>30-59</td>\n      <td>female</td>\n      <td>adefalse</td>\n      <td>NaN</td>\n      <td>False</td>\n      <td>False</td>\n      <td>False</td>\n      <td>False</td>\n      <td>True</td>\n      <td>False</td>\n      <td>False</td>\n      <td>False</td>\n      <td>False</td>\n      <td>False</td>\n      <td>False</td>\n      <td>False</td>\n      <td>False</td>\n      <td>ovary</td>\n    </tr>\n    <tr>\n      <th>4</th>\n      <td>30-59</td>\n      <td>female</td>\n      <td>adefalse</td>\n      <td>NaN</td>\n      <td>False</td>\n      <td>False</td>\n      <td>False</td>\n      <td>True</td>\n      <td>True</td>\n      <td>False</td>\n      <td>False</td>\n      <td>False</td>\n      <td>False</td>\n      <td>False</td>\n      <td>False</td>\n      <td>False</td>\n      <td>False</td>\n      <td>ovary</td>\n    </tr>\n  </tbody>\n</table>\n</div>"
          },
          "metadata": {},
          "execution_count": 2
        }
      ]
    },
    {
      "cell_type": "markdown",
      "metadata": {
        "id": "c1Cm_6oK7DGP"
      },
      "source": [
        "# Balanced or Imbalanced target c\n",
        "lass?"
      ]
    },
    {
      "cell_type": "code",
      "metadata": {
        "colab": {
          "base_uri": "https://localhost:8080/"
        },
        "id": "7rp3eOlH67NW",
        "outputId": "13e4bf58-a85e-42a3-a48c-1bc871077ed2"
      },
      "source": [
        "target = data.values[:, -1]\n",
        "counter  = Counter(target)\n",
        "for k, v in counter.items():\n",
        "  per = v/ len(target) *100\n",
        "  print('Class = %s, Count =%d, Percentage = %.3f%%' % (k, v, per)) "
      ],
      "execution_count": 3,
      "outputs": [
        {
          "output_type": "stream",
          "name": "stdout",
          "text": [
            "Class = lung, Count =81, Percentage = 26.214%\nClass = breast, Count =18, Percentage = 5.825%\nClass = ovary, Count =19, Percentage = 6.149%\nClass = colon, Count =14, Percentage = 4.531%\nClass = prostate, Count =8, Percentage = 2.589%\nClass = head and neck, Count =14, Percentage = 4.531%\nClass = thyroid, Count =14, Percentage = 4.531%\nClass = pancreas, Count =28, Percentage = 9.061%\nClass = liver, Count =7, Percentage = 2.265%\nClass = kidney, Count =23, Percentage = 7.443%\nClass = salivary glands, Count =2, Percentage = 0.647%\nClass = rectum, Count =6, Percentage = 1.942%\nClass = gallbladder, Count =15, Percentage = 4.854%\nClass = stomach, Count =38, Percentage = 12.298%\nClass = esophagus, Count =9, Percentage = 2.913%\nClass = corpus uteri, Count =6, Percentage = 1.942%\nClass = testis, Count =1, Percentage = 0.324%\nClass = cervix uteri, Count =2, Percentage = 0.647%\nClass = duoden and sm.int, Count =1, Percentage = 0.324%\nClass = bladder, Count =2, Percentage = 0.647%\nClass = vagina, Count =1, Percentage = 0.324%\n"
          ]
        }
      ]
    },
    {
      "cell_type": "markdown",
      "metadata": {
        "id": "k39LwffW6_Ex"
      },
      "source": [
        "# Missing Values"
      ]
    },
    {
      "cell_type": "code",
      "metadata": {
        "colab": {
          "base_uri": "https://localhost:8080/"
        },
        "id": "lquDfG8r3f-I",
        "outputId": "a0409b29-286f-4c07-e741-5d9162ea4538"
      },
      "source": [
        "print(\"The total amount of missing values is: \", data.isnull().sum().sum())\n",
        "# now we'll iterate through the columns..\n",
        "names = data.columns.to_list()\n",
        "print(names)\n",
        "for name in names:\n",
        "  numna = data[name].isnull().sum().sum() \n",
        "  print(\"Column, \", name, \"has \", numna, \" missing values\")"
      ],
      "execution_count": 4,
      "outputs": [
        {
          "output_type": "stream",
          "name": "stdout",
          "text": [
            "The total amount of missing values is:  207\n['age', 'sex', 'histologic-type', 'degree-of-diffe', 'bone', 'bone-marrow', 'lung', 'pleura', 'peritoneum', 'liver', 'brain', 'skin', 'neck', 'supraclavicular', 'axillar', 'mediastinum', 'abdominal', 'class']\nColumn,  age has  0  missing values\nColumn,  sex has  1  missing values\nColumn,  histologic-type has  65  missing values\nColumn,  degree-of-diffe has  139  missing values\nColumn,  bone has  0  missing values\nColumn,  bone-marrow has  0  missing values\nColumn,  lung has  0  missing values\nColumn,  pleura has  0  missing values\nColumn,  peritoneum has  0  missing values\nColumn,  liver has  0  missing values\nColumn,  brain has  0  missing values\nColumn,  skin has  1  missing values\nColumn,  neck has  0  missing values\nColumn,  supraclavicular has  0  missing values\nColumn,  axillar has  1  missing values\nColumn,  mediastinum has  0  missing values\nColumn,  abdominal has  0  missing values\nColumn,  class has  0  missing values\n"
          ]
        }
      ]
    },
    {
      "cell_type": "code",
      "metadata": {
        "colab": {
          "base_uri": "https://localhost:8080/",
          "height": 271
        },
        "id": "6Bmy6ISm7Uqe",
        "outputId": "ce869c1d-ba0a-4b02-d643-b628adbca90e"
      },
      "source": [
        "column = data['degree-of-diffe'].fillna('base') #instead of dropping na, we can fill with a base\n",
        "data['degree-of-diffe'] = column\n",
        "data.head()"
      ],
      "execution_count": 5,
      "outputs": [
        {
          "output_type": "execute_result",
          "data": {
            "text/plain": [
              "     age     sex histologic-type degree-of-diffe   bone  bone-marrow   lung  \\\n",
              "0   >=60  female             NaN            base  False        False  False   \n",
              "1   >=60    male             NaN          poorly  False        False  False   \n",
              "2  30-59  female        adefalse            base  False        False  False   \n",
              "3  30-59  female        adefalse            base  False        False  False   \n",
              "4  30-59  female        adefalse            base  False        False  False   \n",
              "\n",
              "   pleura  peritoneum  liver  brain   skin   neck  supraclavicular axillar  \\\n",
              "0   False       False   True  False  False  False            False   False   \n",
              "1   False       False   True  False  False  False             True   False   \n",
              "2    True       False  False  False   True  False            False    True   \n",
              "3   False        True  False  False  False  False            False   False   \n",
              "4    True        True  False  False  False  False            False   False   \n",
              "\n",
              "   mediastinum  abdominal   class  \n",
              "0        False      False    lung  \n",
              "1         True      False    lung  \n",
              "2        False      False  breast  \n",
              "3        False      False   ovary  \n",
              "4        False      False   ovary  "
            ],
            "text/html": "<div>\n<style scoped>\n    .dataframe tbody tr th:only-of-type {\n        vertical-align: middle;\n    }\n\n    .dataframe tbody tr th {\n        vertical-align: top;\n    }\n\n    .dataframe thead th {\n        text-align: right;\n    }\n</style>\n<table border=\"1\" class=\"dataframe\">\n  <thead>\n    <tr style=\"text-align: right;\">\n      <th></th>\n      <th>age</th>\n      <th>sex</th>\n      <th>histologic-type</th>\n      <th>degree-of-diffe</th>\n      <th>bone</th>\n      <th>bone-marrow</th>\n      <th>lung</th>\n      <th>pleura</th>\n      <th>peritoneum</th>\n      <th>liver</th>\n      <th>brain</th>\n      <th>skin</th>\n      <th>neck</th>\n      <th>supraclavicular</th>\n      <th>axillar</th>\n      <th>mediastinum</th>\n      <th>abdominal</th>\n      <th>class</th>\n    </tr>\n  </thead>\n  <tbody>\n    <tr>\n      <th>0</th>\n      <td>&gt;=60</td>\n      <td>female</td>\n      <td>NaN</td>\n      <td>base</td>\n      <td>False</td>\n      <td>False</td>\n      <td>False</td>\n      <td>False</td>\n      <td>False</td>\n      <td>True</td>\n      <td>False</td>\n      <td>False</td>\n      <td>False</td>\n      <td>False</td>\n      <td>False</td>\n      <td>False</td>\n      <td>False</td>\n      <td>lung</td>\n    </tr>\n    <tr>\n      <th>1</th>\n      <td>&gt;=60</td>\n      <td>male</td>\n      <td>NaN</td>\n      <td>poorly</td>\n      <td>False</td>\n      <td>False</td>\n      <td>False</td>\n      <td>False</td>\n      <td>False</td>\n      <td>True</td>\n      <td>False</td>\n      <td>False</td>\n      <td>False</td>\n      <td>True</td>\n      <td>False</td>\n      <td>True</td>\n      <td>False</td>\n      <td>lung</td>\n    </tr>\n    <tr>\n      <th>2</th>\n      <td>30-59</td>\n      <td>female</td>\n      <td>adefalse</td>\n      <td>base</td>\n      <td>False</td>\n      <td>False</td>\n      <td>False</td>\n      <td>True</td>\n      <td>False</td>\n      <td>False</td>\n      <td>False</td>\n      <td>True</td>\n      <td>False</td>\n      <td>False</td>\n      <td>True</td>\n      <td>False</td>\n      <td>False</td>\n      <td>breast</td>\n    </tr>\n    <tr>\n      <th>3</th>\n      <td>30-59</td>\n      <td>female</td>\n      <td>adefalse</td>\n      <td>base</td>\n      <td>False</td>\n      <td>False</td>\n      <td>False</td>\n      <td>False</td>\n      <td>True</td>\n      <td>False</td>\n      <td>False</td>\n      <td>False</td>\n      <td>False</td>\n      <td>False</td>\n      <td>False</td>\n      <td>False</td>\n      <td>False</td>\n      <td>ovary</td>\n    </tr>\n    <tr>\n      <th>4</th>\n      <td>30-59</td>\n      <td>female</td>\n      <td>adefalse</td>\n      <td>base</td>\n      <td>False</td>\n      <td>False</td>\n      <td>False</td>\n      <td>True</td>\n      <td>True</td>\n      <td>False</td>\n      <td>False</td>\n      <td>False</td>\n      <td>False</td>\n      <td>False</td>\n      <td>False</td>\n      <td>False</td>\n      <td>False</td>\n      <td>ovary</td>\n    </tr>\n  </tbody>\n</table>\n</div>"
          },
          "metadata": {},
          "execution_count": 5
        }
      ]
    },
    {
      "cell_type": "code",
      "metadata": {
        "colab": {
          "base_uri": "https://localhost:8080/"
        },
        "id": "hdFdU2vz-Dx1",
        "outputId": "fdbc4ef2-b7b0-4a65-df2b-f474cf6144e8"
      },
      "source": [
        "data = data.dropna()\n",
        "print(\"Current Shape of the data: \", data.shape)"
      ],
      "execution_count": 6,
      "outputs": [
        {
          "output_type": "stream",
          "name": "stdout",
          "text": [
            "Current Shape of the data:  (242, 18)\n"
          ]
        }
      ]
    },
    {
      "cell_type": "code",
      "metadata": {
        "colab": {
          "base_uri": "https://localhost:8080/"
        },
        "id": "1pWewZcIAWwK",
        "outputId": "aa7083a1-e33c-4434-eb97-7f7e79dcc490"
      },
      "source": [
        "X, y = data.drop('class', axis = 1), data['class']\n",
        "X.shape, y.shape #shapes of our inputs and outputs"
      ],
      "execution_count": 7,
      "outputs": [
        {
          "output_type": "execute_result",
          "data": {
            "text/plain": [
              "((242, 17), (242,))"
            ]
          },
          "metadata": {},
          "execution_count": 7
        }
      ]
    },
    {
      "cell_type": "code",
      "metadata": {
        "colab": {
          "base_uri": "https://localhost:8080/"
        },
        "id": "OsF6nv_MCg6z",
        "outputId": "34064a06-df79-4bfb-91f5-91ed1958811a"
      },
      "source": [
        "hist = X.columns.get_loc('histologic-type')\n",
        "deg = X.columns.get_loc('degree-of-diffe')\n",
        "one_hot = [hist, deg]"
      ],
      "execution_count": 8,
      "outputs": []
    },
    {
      "cell_type": "code",
      "execution_count": 21,
      "metadata": {},
      "outputs": [],
      "source": [
        "data['bone'].replace({True: 1, False: 0}, inplace=True)\n",
        "data['bone-marrow'].replace({True: 1, False: 0}, inplace=True)\n",
        "data['lung'].replace({True: 1, False: 0}, inplace=True)\n",
        "data['pleura'].replace({True: 1, False: 0}, inplace=True)\n",
        "data['peritoneum'].replace({True: 1, False: 0}, inplace=True)\n",
        "data['liver'].replace({True: 1, False: 0}, inplace=True)\n",
        "data['brain'].replace({True: 1, False: 0}, inplace=True)\n",
        "data['skin'].replace({True: 1, False: 0}, inplace=True)\n",
        "data['neck'].replace({True: 1, False: 0}, inplace=True)\n",
        "data['supraclavicular'].replace({True: 1, False: 0}, inplace=True)\n",
        "data['axillar'].replace({True: 1, False: 0}, inplace=True)\n",
        "data['mediastinum'].replace({True: 1, False: 0}, inplace=True)\n",
        "data['abdominal'].replace({True: 1, False: 0}, inplace=True)"
      ]
    },
    {
      "cell_type": "code",
      "execution_count": 22,
      "metadata": {},
      "outputs": [
        {
          "output_type": "execute_result",
          "data": {
            "text/plain": [
              "       age     sex histologic-type degree-of-diffe  bone  bone-marrow  lung  \\\n",
              "2    30-59  female        adefalse            base     0            0     0   \n",
              "3    30-59  female        adefalse            base     0            0     0   \n",
              "4    30-59  female        adefalse            base     0            0     0   \n",
              "5    30-59    male        adefalse            base     0            0     0   \n",
              "6    30-59    male        adefalse            base     1            0     0   \n",
              "..     ...     ...             ...             ...   ...          ...   ...   \n",
              "303   >=60  female        adefalse            base     0            0     1   \n",
              "305  30-59    male        adefalse            well     1            0     0   \n",
              "306  30-59    male      epidermoid          poorly     1            0     0   \n",
              "307  30-59  female        adefalse            well     0            0     0   \n",
              "308  30-59  female        adefalse            base     1            0     1   \n",
              "\n",
              "     pleura  peritoneum  liver  brain  skin  neck  supraclavicular  axillar  \\\n",
              "2         1           0      0      0     1     0                0        1   \n",
              "3         0           1      0      0     0     0                0        0   \n",
              "4         1           1      0      0     0     0                0        0   \n",
              "5         0           0      1      0     0     0                0        0   \n",
              "6         0           0      0      0     0     0                0        0   \n",
              "..      ...         ...    ...    ...   ...   ...              ...      ...   \n",
              "303       1           1      0      0     0     0                0        0   \n",
              "305       0           0      0      0     0     1                1        0   \n",
              "306       0           0      0      0     1     0                0        1   \n",
              "307       1           1      0      0     0     0                0        0   \n",
              "308       1           1      1      1     0     0                0        0   \n",
              "\n",
              "     mediastinum  abdominal         class  \n",
              "2              0          0        breast  \n",
              "3              0          0         ovary  \n",
              "4              0          0         ovary  \n",
              "5              0          0         colon  \n",
              "6              0          0      prostate  \n",
              "..           ...        ...           ...  \n",
              "303            0          1  corpus uteri  \n",
              "305            1          0      prostate  \n",
              "306            0          0          lung  \n",
              "307            0          0         ovary  \n",
              "308            0          1   gallbladder  \n",
              "\n",
              "[242 rows x 18 columns]"
            ],
            "text/html": "<div>\n<style scoped>\n    .dataframe tbody tr th:only-of-type {\n        vertical-align: middle;\n    }\n\n    .dataframe tbody tr th {\n        vertical-align: top;\n    }\n\n    .dataframe thead th {\n        text-align: right;\n    }\n</style>\n<table border=\"1\" class=\"dataframe\">\n  <thead>\n    <tr style=\"text-align: right;\">\n      <th></th>\n      <th>age</th>\n      <th>sex</th>\n      <th>histologic-type</th>\n      <th>degree-of-diffe</th>\n      <th>bone</th>\n      <th>bone-marrow</th>\n      <th>lung</th>\n      <th>pleura</th>\n      <th>peritoneum</th>\n      <th>liver</th>\n      <th>brain</th>\n      <th>skin</th>\n      <th>neck</th>\n      <th>supraclavicular</th>\n      <th>axillar</th>\n      <th>mediastinum</th>\n      <th>abdominal</th>\n      <th>class</th>\n    </tr>\n  </thead>\n  <tbody>\n    <tr>\n      <th>2</th>\n      <td>30-59</td>\n      <td>female</td>\n      <td>adefalse</td>\n      <td>base</td>\n      <td>0</td>\n      <td>0</td>\n      <td>0</td>\n      <td>1</td>\n      <td>0</td>\n      <td>0</td>\n      <td>0</td>\n      <td>1</td>\n      <td>0</td>\n      <td>0</td>\n      <td>1</td>\n      <td>0</td>\n      <td>0</td>\n      <td>breast</td>\n    </tr>\n    <tr>\n      <th>3</th>\n      <td>30-59</td>\n      <td>female</td>\n      <td>adefalse</td>\n      <td>base</td>\n      <td>0</td>\n      <td>0</td>\n      <td>0</td>\n      <td>0</td>\n      <td>1</td>\n      <td>0</td>\n      <td>0</td>\n      <td>0</td>\n      <td>0</td>\n      <td>0</td>\n      <td>0</td>\n      <td>0</td>\n      <td>0</td>\n      <td>ovary</td>\n    </tr>\n    <tr>\n      <th>4</th>\n      <td>30-59</td>\n      <td>female</td>\n      <td>adefalse</td>\n      <td>base</td>\n      <td>0</td>\n      <td>0</td>\n      <td>0</td>\n      <td>1</td>\n      <td>1</td>\n      <td>0</td>\n      <td>0</td>\n      <td>0</td>\n      <td>0</td>\n      <td>0</td>\n      <td>0</td>\n      <td>0</td>\n      <td>0</td>\n      <td>ovary</td>\n    </tr>\n    <tr>\n      <th>5</th>\n      <td>30-59</td>\n      <td>male</td>\n      <td>adefalse</td>\n      <td>base</td>\n      <td>0</td>\n      <td>0</td>\n      <td>0</td>\n      <td>0</td>\n      <td>0</td>\n      <td>1</td>\n      <td>0</td>\n      <td>0</td>\n      <td>0</td>\n      <td>0</td>\n      <td>0</td>\n      <td>0</td>\n      <td>0</td>\n      <td>colon</td>\n    </tr>\n    <tr>\n      <th>6</th>\n      <td>30-59</td>\n      <td>male</td>\n      <td>adefalse</td>\n      <td>base</td>\n      <td>1</td>\n      <td>0</td>\n      <td>0</td>\n      <td>0</td>\n      <td>0</td>\n      <td>0</td>\n      <td>0</td>\n      <td>0</td>\n      <td>0</td>\n      <td>0</td>\n      <td>0</td>\n      <td>0</td>\n      <td>0</td>\n      <td>prostate</td>\n    </tr>\n    <tr>\n      <th>...</th>\n      <td>...</td>\n      <td>...</td>\n      <td>...</td>\n      <td>...</td>\n      <td>...</td>\n      <td>...</td>\n      <td>...</td>\n      <td>...</td>\n      <td>...</td>\n      <td>...</td>\n      <td>...</td>\n      <td>...</td>\n      <td>...</td>\n      <td>...</td>\n      <td>...</td>\n      <td>...</td>\n      <td>...</td>\n      <td>...</td>\n    </tr>\n    <tr>\n      <th>303</th>\n      <td>&gt;=60</td>\n      <td>female</td>\n      <td>adefalse</td>\n      <td>base</td>\n      <td>0</td>\n      <td>0</td>\n      <td>1</td>\n      <td>1</td>\n      <td>1</td>\n      <td>0</td>\n      <td>0</td>\n      <td>0</td>\n      <td>0</td>\n      <td>0</td>\n      <td>0</td>\n      <td>0</td>\n      <td>1</td>\n      <td>corpus uteri</td>\n    </tr>\n    <tr>\n      <th>305</th>\n      <td>30-59</td>\n      <td>male</td>\n      <td>adefalse</td>\n      <td>well</td>\n      <td>1</td>\n      <td>0</td>\n      <td>0</td>\n      <td>0</td>\n      <td>0</td>\n      <td>0</td>\n      <td>0</td>\n      <td>0</td>\n      <td>1</td>\n      <td>1</td>\n      <td>0</td>\n      <td>1</td>\n      <td>0</td>\n      <td>prostate</td>\n    </tr>\n    <tr>\n      <th>306</th>\n      <td>30-59</td>\n      <td>male</td>\n      <td>epidermoid</td>\n      <td>poorly</td>\n      <td>1</td>\n      <td>0</td>\n      <td>0</td>\n      <td>0</td>\n      <td>0</td>\n      <td>0</td>\n      <td>0</td>\n      <td>1</td>\n      <td>0</td>\n      <td>0</td>\n      <td>1</td>\n      <td>0</td>\n      <td>0</td>\n      <td>lung</td>\n    </tr>\n    <tr>\n      <th>307</th>\n      <td>30-59</td>\n      <td>female</td>\n      <td>adefalse</td>\n      <td>well</td>\n      <td>0</td>\n      <td>0</td>\n      <td>0</td>\n      <td>1</td>\n      <td>1</td>\n      <td>0</td>\n      <td>0</td>\n      <td>0</td>\n      <td>0</td>\n      <td>0</td>\n      <td>0</td>\n      <td>0</td>\n      <td>0</td>\n      <td>ovary</td>\n    </tr>\n    <tr>\n      <th>308</th>\n      <td>30-59</td>\n      <td>female</td>\n      <td>adefalse</td>\n      <td>base</td>\n      <td>1</td>\n      <td>0</td>\n      <td>1</td>\n      <td>1</td>\n      <td>1</td>\n      <td>1</td>\n      <td>1</td>\n      <td>0</td>\n      <td>0</td>\n      <td>0</td>\n      <td>0</td>\n      <td>0</td>\n      <td>1</td>\n      <td>gallbladder</td>\n    </tr>\n  </tbody>\n</table>\n<p>242 rows × 18 columns</p>\n</div>"
          },
          "metadata": {},
          "execution_count": 22
        }
      ],
      "source": [
        "data"
      ]
    },
    {
      "cell_type": "code",
      "execution_count": 26,
      "metadata": {},
      "outputs": [],
      "source": [
        "count_classes = (data.groupby('class').count()).get('age')"
      ]
    },
    {
      "cell_type": "code",
      "execution_count": 27,
      "metadata": {},
      "outputs": [
        {
          "output_type": "execute_result",
          "data": {
            "text/plain": [
              "class\n",
              "breast               17\n",
              "cervix uteri          2\n",
              "colon                13\n",
              "corpus uteri          6\n",
              "duoden and sm.int     1\n",
              "esophagus             5\n",
              "gallbladder          14\n",
              "head and neck        10\n",
              "kidney               20\n",
              "liver                 7\n",
              "lung                 43\n",
              "ovary                17\n",
              "pancreas             26\n",
              "prostate              8\n",
              "rectum                6\n",
              "salivary glands       2\n",
              "stomach              33\n",
              "testis                1\n",
              "thyroid              10\n",
              "vagina                1\n",
              "Name: age, dtype: int64"
            ]
          },
          "metadata": {},
          "execution_count": 27
        }
      ],
      "source": [
        "count_classes"
      ]
    },
    {
      "cell_type": "code",
      "execution_count": null,
      "metadata": {},
      "outputs": [],
      "source": []
    }
  ]
}