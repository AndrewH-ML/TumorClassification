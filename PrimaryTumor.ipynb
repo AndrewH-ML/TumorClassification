{
  "nbformat": 4,
  "nbformat_minor": 0,
  "metadata": {
    "colab": {
      "name": "PrimaryTumor.ipynb",
      "provenance": [],
      "authorship_tag": "ABX9TyN7+ShVN5MS53zhXcTP+5sJ",
      "include_colab_link": true
    },
    "kernelspec": {
      "name": "python3",
      "display_name": "Python 3"
    },
    "language_info": {
      "name": "python"
    }
  },
  "cells": [
    {
      "cell_type": "markdown",
      "metadata": {
        "id": "view-in-github",
        "colab_type": "text"
      },
      "source": [
        "<a href=\"https://colab.research.google.com/github/AndrewH707/TumorClassification/blob/main/PrimaryTumor.ipynb\" target=\"_parent\"><img src=\"https://colab.research.google.com/assets/colab-badge.svg\" alt=\"Open In Colab\"/></a>"
      ]
    },
    {
      "cell_type": "code",
      "metadata": {
        "id": "IlQUf47Uo_h6"
      },
      "source": [
        "import numpy as np\n",
        "from collections import Counter\n",
        "from matplotlib import pyplot as plt\n",
        "import pandas as pd"
      ],
      "execution_count": null,
      "outputs": []
    },
    {
      "cell_type": "code",
      "metadata": {
        "id": "VXYOFbERrHKK",
        "colab": {
          "base_uri": "https://localhost:8080/",
          "height": 289
        },
        "outputId": "edd34fd5-1015-4cc6-cfea-20783f61ab7b"
      },
      "source": [
        "url = 'https://raw.githubusercontent.com/AndrewH707/BrainTumorDetection/main/primary-tumor.csv'\n",
        "data = pd.read_csv(url)\n",
        "print(\"The size of the data is: \", data.shape)\n",
        "data.head()"
      ],
      "execution_count": null,
      "outputs": [
        {
          "output_type": "stream",
          "text": [
            "The size of the data is:  (309, 18)\n"
          ],
          "name": "stdout"
        },
        {
          "output_type": "execute_result",
          "data": {
            "text/html": [
              "<div>\n",
              "<style scoped>\n",
              "    .dataframe tbody tr th:only-of-type {\n",
              "        vertical-align: middle;\n",
              "    }\n",
              "\n",
              "    .dataframe tbody tr th {\n",
              "        vertical-align: top;\n",
              "    }\n",
              "\n",
              "    .dataframe thead th {\n",
              "        text-align: right;\n",
              "    }\n",
              "</style>\n",
              "<table border=\"1\" class=\"dataframe\">\n",
              "  <thead>\n",
              "    <tr style=\"text-align: right;\">\n",
              "      <th></th>\n",
              "      <th>age</th>\n",
              "      <th>sex</th>\n",
              "      <th>histologic-type</th>\n",
              "      <th>degree-of-diffe</th>\n",
              "      <th>bone</th>\n",
              "      <th>bone-marrow</th>\n",
              "      <th>lung</th>\n",
              "      <th>pleura</th>\n",
              "      <th>peritoneum</th>\n",
              "      <th>liver</th>\n",
              "      <th>brain</th>\n",
              "      <th>skin</th>\n",
              "      <th>neck</th>\n",
              "      <th>supraclavicular</th>\n",
              "      <th>axillar</th>\n",
              "      <th>mediastinum</th>\n",
              "      <th>abdominal</th>\n",
              "      <th>class</th>\n",
              "    </tr>\n",
              "  </thead>\n",
              "  <tbody>\n",
              "    <tr>\n",
              "      <th>0</th>\n",
              "      <td>&gt;=60</td>\n",
              "      <td>female</td>\n",
              "      <td>NaN</td>\n",
              "      <td>NaN</td>\n",
              "      <td>False</td>\n",
              "      <td>False</td>\n",
              "      <td>False</td>\n",
              "      <td>False</td>\n",
              "      <td>False</td>\n",
              "      <td>True</td>\n",
              "      <td>False</td>\n",
              "      <td>False</td>\n",
              "      <td>False</td>\n",
              "      <td>False</td>\n",
              "      <td>False</td>\n",
              "      <td>False</td>\n",
              "      <td>False</td>\n",
              "      <td>lung</td>\n",
              "    </tr>\n",
              "    <tr>\n",
              "      <th>1</th>\n",
              "      <td>&gt;=60</td>\n",
              "      <td>male</td>\n",
              "      <td>NaN</td>\n",
              "      <td>poorly</td>\n",
              "      <td>False</td>\n",
              "      <td>False</td>\n",
              "      <td>False</td>\n",
              "      <td>False</td>\n",
              "      <td>False</td>\n",
              "      <td>True</td>\n",
              "      <td>False</td>\n",
              "      <td>False</td>\n",
              "      <td>False</td>\n",
              "      <td>True</td>\n",
              "      <td>False</td>\n",
              "      <td>True</td>\n",
              "      <td>False</td>\n",
              "      <td>lung</td>\n",
              "    </tr>\n",
              "    <tr>\n",
              "      <th>2</th>\n",
              "      <td>30-59</td>\n",
              "      <td>female</td>\n",
              "      <td>adefalse</td>\n",
              "      <td>NaN</td>\n",
              "      <td>False</td>\n",
              "      <td>False</td>\n",
              "      <td>False</td>\n",
              "      <td>True</td>\n",
              "      <td>False</td>\n",
              "      <td>False</td>\n",
              "      <td>False</td>\n",
              "      <td>True</td>\n",
              "      <td>False</td>\n",
              "      <td>False</td>\n",
              "      <td>True</td>\n",
              "      <td>False</td>\n",
              "      <td>False</td>\n",
              "      <td>breast</td>\n",
              "    </tr>\n",
              "    <tr>\n",
              "      <th>3</th>\n",
              "      <td>30-59</td>\n",
              "      <td>female</td>\n",
              "      <td>adefalse</td>\n",
              "      <td>NaN</td>\n",
              "      <td>False</td>\n",
              "      <td>False</td>\n",
              "      <td>False</td>\n",
              "      <td>False</td>\n",
              "      <td>True</td>\n",
              "      <td>False</td>\n",
              "      <td>False</td>\n",
              "      <td>False</td>\n",
              "      <td>False</td>\n",
              "      <td>False</td>\n",
              "      <td>False</td>\n",
              "      <td>False</td>\n",
              "      <td>False</td>\n",
              "      <td>ovary</td>\n",
              "    </tr>\n",
              "    <tr>\n",
              "      <th>4</th>\n",
              "      <td>30-59</td>\n",
              "      <td>female</td>\n",
              "      <td>adefalse</td>\n",
              "      <td>NaN</td>\n",
              "      <td>False</td>\n",
              "      <td>False</td>\n",
              "      <td>False</td>\n",
              "      <td>True</td>\n",
              "      <td>True</td>\n",
              "      <td>False</td>\n",
              "      <td>False</td>\n",
              "      <td>False</td>\n",
              "      <td>False</td>\n",
              "      <td>False</td>\n",
              "      <td>False</td>\n",
              "      <td>False</td>\n",
              "      <td>False</td>\n",
              "      <td>ovary</td>\n",
              "    </tr>\n",
              "  </tbody>\n",
              "</table>\n",
              "</div>"
            ],
            "text/plain": [
              "     age     sex histologic-type  ... mediastinum  abdominal   class\n",
              "0   >=60  female             NaN  ...       False      False    lung\n",
              "1   >=60    male             NaN  ...        True      False    lung\n",
              "2  30-59  female        adefalse  ...       False      False  breast\n",
              "3  30-59  female        adefalse  ...       False      False   ovary\n",
              "4  30-59  female        adefalse  ...       False      False   ovary\n",
              "\n",
              "[5 rows x 18 columns]"
            ]
          },
          "metadata": {
            "tags": []
          },
          "execution_count": 106
        }
      ]
    },
    {
      "cell_type": "markdown",
      "metadata": {
        "id": "c1Cm_6oK7DGP"
      },
      "source": [
        "# Balanced or Imbalanced target c\n",
        "lass?"
      ]
    },
    {
      "cell_type": "code",
      "metadata": {
        "colab": {
          "base_uri": "https://localhost:8080/"
        },
        "id": "7rp3eOlH67NW",
        "outputId": "13e4bf58-a85e-42a3-a48c-1bc871077ed2"
      },
      "source": [
        "target = data.values[:, -1]\n",
        "counter  = Counter(target)\n",
        "for k, v in counter.items():\n",
        "  per = v/ len(target) *100\n",
        "  print('Class = %s, Count =%d, Percentage = %.3f%%' % (k, v, per)) "
      ],
      "execution_count": null,
      "outputs": [
        {
          "output_type": "stream",
          "text": [
            "Class = lung, Count =81, Percentage = 26.214%\n",
            "Class = breast, Count =18, Percentage = 5.825%\n",
            "Class = ovary, Count =19, Percentage = 6.149%\n",
            "Class = colon, Count =14, Percentage = 4.531%\n",
            "Class = prostate, Count =8, Percentage = 2.589%\n",
            "Class = head and neck, Count =14, Percentage = 4.531%\n",
            "Class = thyroid, Count =14, Percentage = 4.531%\n",
            "Class = pancreas, Count =28, Percentage = 9.061%\n",
            "Class = liver, Count =7, Percentage = 2.265%\n",
            "Class = kidney, Count =23, Percentage = 7.443%\n",
            "Class = salivary glands, Count =2, Percentage = 0.647%\n",
            "Class = rectum, Count =6, Percentage = 1.942%\n",
            "Class = gallbladder, Count =15, Percentage = 4.854%\n",
            "Class = stomach, Count =38, Percentage = 12.298%\n",
            "Class = esophagus, Count =9, Percentage = 2.913%\n",
            "Class = corpus uteri, Count =6, Percentage = 1.942%\n",
            "Class = testis, Count =1, Percentage = 0.324%\n",
            "Class = cervix uteri, Count =2, Percentage = 0.647%\n",
            "Class = duoden and sm.int, Count =1, Percentage = 0.324%\n",
            "Class = bladder, Count =2, Percentage = 0.647%\n",
            "Class = vagina, Count =1, Percentage = 0.324%\n"
          ],
          "name": "stdout"
        }
      ]
    },
    {
      "cell_type": "markdown",
      "metadata": {
        "id": "k39LwffW6_Ex"
      },
      "source": [
        "# Missing Values"
      ]
    },
    {
      "cell_type": "code",
      "metadata": {
        "colab": {
          "base_uri": "https://localhost:8080/"
        },
        "id": "lquDfG8r3f-I",
        "outputId": "a0409b29-286f-4c07-e741-5d9162ea4538"
      },
      "source": [
        "print(\"The total amount of missing values is: \", data.isnull().sum().sum())\n",
        "# now we'll iterate through the columns..\n",
        "names = data.columns.to_list()\n",
        "print(names)\n",
        "for name in names:\n",
        "  numna = data[name].isnull().sum().sum() \n",
        "  print(\"Column, \", name, \"has \", numna, \" missing values\")"
      ],
      "execution_count": null,
      "outputs": [
        {
          "output_type": "stream",
          "text": [
            "The total amount of missing values is:  207\n",
            "['age', 'sex', 'histologic-type', 'degree-of-diffe', 'bone', 'bone-marrow', 'lung', 'pleura', 'peritoneum', 'liver', 'brain', 'skin', 'neck', 'supraclavicular', 'axillar', 'mediastinum', 'abdominal', 'class']\n",
            "Column,  age has  0  missing values\n",
            "Column,  sex has  1  missing values\n",
            "Column,  histologic-type has  65  missing values\n",
            "Column,  degree-of-diffe has  139  missing values\n",
            "Column,  bone has  0  missing values\n",
            "Column,  bone-marrow has  0  missing values\n",
            "Column,  lung has  0  missing values\n",
            "Column,  pleura has  0  missing values\n",
            "Column,  peritoneum has  0  missing values\n",
            "Column,  liver has  0  missing values\n",
            "Column,  brain has  0  missing values\n",
            "Column,  skin has  1  missing values\n",
            "Column,  neck has  0  missing values\n",
            "Column,  supraclavicular has  0  missing values\n",
            "Column,  axillar has  1  missing values\n",
            "Column,  mediastinum has  0  missing values\n",
            "Column,  abdominal has  0  missing values\n",
            "Column,  class has  0  missing values\n"
          ],
          "name": "stdout"
        }
      ]
    },
    {
      "cell_type": "code",
      "metadata": {
        "colab": {
          "base_uri": "https://localhost:8080/",
          "height": 271
        },
        "id": "6Bmy6ISm7Uqe",
        "outputId": "ce869c1d-ba0a-4b02-d643-b628adbca90e"
      },
      "source": [
        "column = data['degree-of-diffe'].fillna('base') #instead of dropping na, we can fill with a base\n",
        "data['degree-of-diffe'] = column\n",
        "data.head()"
      ],
      "execution_count": null,
      "outputs": [
        {
          "output_type": "execute_result",
          "data": {
            "text/html": [
              "<div>\n",
              "<style scoped>\n",
              "    .dataframe tbody tr th:only-of-type {\n",
              "        vertical-align: middle;\n",
              "    }\n",
              "\n",
              "    .dataframe tbody tr th {\n",
              "        vertical-align: top;\n",
              "    }\n",
              "\n",
              "    .dataframe thead th {\n",
              "        text-align: right;\n",
              "    }\n",
              "</style>\n",
              "<table border=\"1\" class=\"dataframe\">\n",
              "  <thead>\n",
              "    <tr style=\"text-align: right;\">\n",
              "      <th></th>\n",
              "      <th>age</th>\n",
              "      <th>sex</th>\n",
              "      <th>histologic-type</th>\n",
              "      <th>degree-of-diffe</th>\n",
              "      <th>bone</th>\n",
              "      <th>bone-marrow</th>\n",
              "      <th>lung</th>\n",
              "      <th>pleura</th>\n",
              "      <th>peritoneum</th>\n",
              "      <th>liver</th>\n",
              "      <th>brain</th>\n",
              "      <th>skin</th>\n",
              "      <th>neck</th>\n",
              "      <th>supraclavicular</th>\n",
              "      <th>axillar</th>\n",
              "      <th>mediastinum</th>\n",
              "      <th>abdominal</th>\n",
              "      <th>class</th>\n",
              "    </tr>\n",
              "  </thead>\n",
              "  <tbody>\n",
              "    <tr>\n",
              "      <th>0</th>\n",
              "      <td>&gt;=60</td>\n",
              "      <td>female</td>\n",
              "      <td>NaN</td>\n",
              "      <td>base</td>\n",
              "      <td>False</td>\n",
              "      <td>False</td>\n",
              "      <td>False</td>\n",
              "      <td>False</td>\n",
              "      <td>False</td>\n",
              "      <td>True</td>\n",
              "      <td>False</td>\n",
              "      <td>False</td>\n",
              "      <td>False</td>\n",
              "      <td>False</td>\n",
              "      <td>False</td>\n",
              "      <td>False</td>\n",
              "      <td>False</td>\n",
              "      <td>lung</td>\n",
              "    </tr>\n",
              "    <tr>\n",
              "      <th>1</th>\n",
              "      <td>&gt;=60</td>\n",
              "      <td>male</td>\n",
              "      <td>NaN</td>\n",
              "      <td>poorly</td>\n",
              "      <td>False</td>\n",
              "      <td>False</td>\n",
              "      <td>False</td>\n",
              "      <td>False</td>\n",
              "      <td>False</td>\n",
              "      <td>True</td>\n",
              "      <td>False</td>\n",
              "      <td>False</td>\n",
              "      <td>False</td>\n",
              "      <td>True</td>\n",
              "      <td>False</td>\n",
              "      <td>True</td>\n",
              "      <td>False</td>\n",
              "      <td>lung</td>\n",
              "    </tr>\n",
              "    <tr>\n",
              "      <th>2</th>\n",
              "      <td>30-59</td>\n",
              "      <td>female</td>\n",
              "      <td>adefalse</td>\n",
              "      <td>base</td>\n",
              "      <td>False</td>\n",
              "      <td>False</td>\n",
              "      <td>False</td>\n",
              "      <td>True</td>\n",
              "      <td>False</td>\n",
              "      <td>False</td>\n",
              "      <td>False</td>\n",
              "      <td>True</td>\n",
              "      <td>False</td>\n",
              "      <td>False</td>\n",
              "      <td>True</td>\n",
              "      <td>False</td>\n",
              "      <td>False</td>\n",
              "      <td>breast</td>\n",
              "    </tr>\n",
              "    <tr>\n",
              "      <th>3</th>\n",
              "      <td>30-59</td>\n",
              "      <td>female</td>\n",
              "      <td>adefalse</td>\n",
              "      <td>base</td>\n",
              "      <td>False</td>\n",
              "      <td>False</td>\n",
              "      <td>False</td>\n",
              "      <td>False</td>\n",
              "      <td>True</td>\n",
              "      <td>False</td>\n",
              "      <td>False</td>\n",
              "      <td>False</td>\n",
              "      <td>False</td>\n",
              "      <td>False</td>\n",
              "      <td>False</td>\n",
              "      <td>False</td>\n",
              "      <td>False</td>\n",
              "      <td>ovary</td>\n",
              "    </tr>\n",
              "    <tr>\n",
              "      <th>4</th>\n",
              "      <td>30-59</td>\n",
              "      <td>female</td>\n",
              "      <td>adefalse</td>\n",
              "      <td>base</td>\n",
              "      <td>False</td>\n",
              "      <td>False</td>\n",
              "      <td>False</td>\n",
              "      <td>True</td>\n",
              "      <td>True</td>\n",
              "      <td>False</td>\n",
              "      <td>False</td>\n",
              "      <td>False</td>\n",
              "      <td>False</td>\n",
              "      <td>False</td>\n",
              "      <td>False</td>\n",
              "      <td>False</td>\n",
              "      <td>False</td>\n",
              "      <td>ovary</td>\n",
              "    </tr>\n",
              "  </tbody>\n",
              "</table>\n",
              "</div>"
            ],
            "text/plain": [
              "     age     sex histologic-type  ... mediastinum  abdominal   class\n",
              "0   >=60  female             NaN  ...       False      False    lung\n",
              "1   >=60    male             NaN  ...        True      False    lung\n",
              "2  30-59  female        adefalse  ...       False      False  breast\n",
              "3  30-59  female        adefalse  ...       False      False   ovary\n",
              "4  30-59  female        adefalse  ...       False      False   ovary\n",
              "\n",
              "[5 rows x 18 columns]"
            ]
          },
          "metadata": {
            "tags": []
          },
          "execution_count": 109
        }
      ]
    },
    {
      "cell_type": "code",
      "metadata": {
        "colab": {
          "base_uri": "https://localhost:8080/"
        },
        "id": "hdFdU2vz-Dx1",
        "outputId": "fdbc4ef2-b7b0-4a65-df2b-f474cf6144e8"
      },
      "source": [
        "data = data.dropna()\n",
        "print(\"Current Shape of the data: \", data.shape)"
      ],
      "execution_count": null,
      "outputs": [
        {
          "output_type": "stream",
          "text": [
            "Current Shape of the data:  (242, 18)\n"
          ],
          "name": "stdout"
        }
      ]
    },
    {
      "cell_type": "code",
      "metadata": {
        "colab": {
          "base_uri": "https://localhost:8080/"
        },
        "id": "1pWewZcIAWwK",
        "outputId": "aa7083a1-e33c-4434-eb97-7f7e79dcc490"
      },
      "source": [
        "X, y = data.drop('class', axis = 1), data['class']\n",
        "X.shape, y.shape #shapes of our inputs and outputs"
      ],
      "execution_count": null,
      "outputs": [
        {
          "output_type": "execute_result",
          "data": {
            "text/plain": [
              "((242, 17), (242,))"
            ]
          },
          "metadata": {
            "tags": []
          },
          "execution_count": 115
        }
      ]
    },
    {
      "cell_type": "code",
      "metadata": {
        "colab": {
          "base_uri": "https://localhost:8080/"
        },
        "id": "OsF6nv_MCg6z",
        "outputId": "34064a06-df79-4bfb-91f5-91ed1958811a"
      },
      "source": [
        "hist = X.columns.get_loc('histologic-type')\n",
        "deg = X.columns.get_loc('degree-of-diffe')\n",
        "one_hot = [hist, deg]"
      ],
      "execution_count": null,
      "outputs": [
        {
          "output_type": "execute_result",
          "data": {
            "text/plain": [
              "(2, 3)"
            ]
          },
          "metadata": {
            "tags": []
          },
          "execution_count": 116
        }
      ]
    }
  ]
}