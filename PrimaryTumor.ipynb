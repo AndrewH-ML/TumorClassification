{
  "nbformat": 4,
  "nbformat_minor": 0,
  "metadata": {
    "colab": {
      "name": "PrimaryTumor.ipynb",
      "provenance": [],
      "machine_shape": "hm",
      "include_colab_link": true
    },
    "kernelspec": {
      "display_name": "Python 3",
      "name": "python3"
    },
    "language_info": {
      "name": "python"
    },
    "accelerator": "GPU"
  },
  "cells": [
    {
      "cell_type": "markdown",
      "metadata": {
        "id": "view-in-github",
        "colab_type": "text"
      },
      "source": [
        "<a href=\"https://colab.research.google.com/github/AndrewH707/TumorClassification/blob/main/PrimaryTumor.ipynb\" target=\"_parent\"><img src=\"https://colab.research.google.com/assets/colab-badge.svg\" alt=\"Open In Colab\"/></a>"
      ]
    },
    {
      "cell_type": "code",
      "metadata": {
        "id": "IlQUf47Uo_h6"
      },
      "source": [
        "import numpy as np\n",
        "from collections import Counter\n",
        "from matplotlib import pyplot as plt\n",
        "import pandas as pd\n",
        "from sklearn.metrics import confusion_matrix\n",
        "import seaborn as sn"
      ],
      "execution_count": 1,
      "outputs": []
    },
    {
      "cell_type": "code",
      "metadata": {
        "id": "VXYOFbERrHKK",
        "colab": {
          "base_uri": "https://localhost:8080/",
          "height": 302
        },
        "outputId": "2fd9ca51-de55-4588-967f-464db71fffa1"
      },
      "source": [
        "url = 'https://raw.githubusercontent.com/AndrewH707/BrainTumorDetection/main/primary-tumor.csv'\n",
        "data = pd.read_csv(url)\n",
        "print(\"The size of the data is: \", data.shape)\n",
        "data.head()"
      ],
      "execution_count": 2,
      "outputs": [
        {
          "output_type": "stream",
          "text": [
            "The size of the data is:  (309, 18)\n"
          ],
          "name": "stdout"
        },
        {
          "output_type": "execute_result",
          "data": {
            "text/html": [
              "<div>\n",
              "<style scoped>\n",
              "    .dataframe tbody tr th:only-of-type {\n",
              "        vertical-align: middle;\n",
              "    }\n",
              "\n",
              "    .dataframe tbody tr th {\n",
              "        vertical-align: top;\n",
              "    }\n",
              "\n",
              "    .dataframe thead th {\n",
              "        text-align: right;\n",
              "    }\n",
              "</style>\n",
              "<table border=\"1\" class=\"dataframe\">\n",
              "  <thead>\n",
              "    <tr style=\"text-align: right;\">\n",
              "      <th></th>\n",
              "      <th>age</th>\n",
              "      <th>sex</th>\n",
              "      <th>histologic-type</th>\n",
              "      <th>degree-of-diffe</th>\n",
              "      <th>bone</th>\n",
              "      <th>bone-marrow</th>\n",
              "      <th>lung</th>\n",
              "      <th>pleura</th>\n",
              "      <th>peritoneum</th>\n",
              "      <th>liver</th>\n",
              "      <th>brain</th>\n",
              "      <th>skin</th>\n",
              "      <th>neck</th>\n",
              "      <th>supraclavicular</th>\n",
              "      <th>axillar</th>\n",
              "      <th>mediastinum</th>\n",
              "      <th>abdominal</th>\n",
              "      <th>class</th>\n",
              "    </tr>\n",
              "  </thead>\n",
              "  <tbody>\n",
              "    <tr>\n",
              "      <th>0</th>\n",
              "      <td>&gt;=60</td>\n",
              "      <td>female</td>\n",
              "      <td>NaN</td>\n",
              "      <td>NaN</td>\n",
              "      <td>False</td>\n",
              "      <td>False</td>\n",
              "      <td>False</td>\n",
              "      <td>False</td>\n",
              "      <td>False</td>\n",
              "      <td>True</td>\n",
              "      <td>False</td>\n",
              "      <td>False</td>\n",
              "      <td>False</td>\n",
              "      <td>False</td>\n",
              "      <td>False</td>\n",
              "      <td>False</td>\n",
              "      <td>False</td>\n",
              "      <td>lung</td>\n",
              "    </tr>\n",
              "    <tr>\n",
              "      <th>1</th>\n",
              "      <td>&gt;=60</td>\n",
              "      <td>male</td>\n",
              "      <td>NaN</td>\n",
              "      <td>poorly</td>\n",
              "      <td>False</td>\n",
              "      <td>False</td>\n",
              "      <td>False</td>\n",
              "      <td>False</td>\n",
              "      <td>False</td>\n",
              "      <td>True</td>\n",
              "      <td>False</td>\n",
              "      <td>False</td>\n",
              "      <td>False</td>\n",
              "      <td>True</td>\n",
              "      <td>False</td>\n",
              "      <td>True</td>\n",
              "      <td>False</td>\n",
              "      <td>lung</td>\n",
              "    </tr>\n",
              "    <tr>\n",
              "      <th>2</th>\n",
              "      <td>30-59</td>\n",
              "      <td>female</td>\n",
              "      <td>adefalse</td>\n",
              "      <td>NaN</td>\n",
              "      <td>False</td>\n",
              "      <td>False</td>\n",
              "      <td>False</td>\n",
              "      <td>True</td>\n",
              "      <td>False</td>\n",
              "      <td>False</td>\n",
              "      <td>False</td>\n",
              "      <td>True</td>\n",
              "      <td>False</td>\n",
              "      <td>False</td>\n",
              "      <td>True</td>\n",
              "      <td>False</td>\n",
              "      <td>False</td>\n",
              "      <td>breast</td>\n",
              "    </tr>\n",
              "    <tr>\n",
              "      <th>3</th>\n",
              "      <td>30-59</td>\n",
              "      <td>female</td>\n",
              "      <td>adefalse</td>\n",
              "      <td>NaN</td>\n",
              "      <td>False</td>\n",
              "      <td>False</td>\n",
              "      <td>False</td>\n",
              "      <td>False</td>\n",
              "      <td>True</td>\n",
              "      <td>False</td>\n",
              "      <td>False</td>\n",
              "      <td>False</td>\n",
              "      <td>False</td>\n",
              "      <td>False</td>\n",
              "      <td>False</td>\n",
              "      <td>False</td>\n",
              "      <td>False</td>\n",
              "      <td>ovary</td>\n",
              "    </tr>\n",
              "    <tr>\n",
              "      <th>4</th>\n",
              "      <td>30-59</td>\n",
              "      <td>female</td>\n",
              "      <td>adefalse</td>\n",
              "      <td>NaN</td>\n",
              "      <td>False</td>\n",
              "      <td>False</td>\n",
              "      <td>False</td>\n",
              "      <td>True</td>\n",
              "      <td>True</td>\n",
              "      <td>False</td>\n",
              "      <td>False</td>\n",
              "      <td>False</td>\n",
              "      <td>False</td>\n",
              "      <td>False</td>\n",
              "      <td>False</td>\n",
              "      <td>False</td>\n",
              "      <td>False</td>\n",
              "      <td>ovary</td>\n",
              "    </tr>\n",
              "  </tbody>\n",
              "</table>\n",
              "</div>"
            ],
            "text/plain": [
              "     age     sex histologic-type  ... mediastinum  abdominal   class\n",
              "0   >=60  female             NaN  ...       False      False    lung\n",
              "1   >=60    male             NaN  ...        True      False    lung\n",
              "2  30-59  female        adefalse  ...       False      False  breast\n",
              "3  30-59  female        adefalse  ...       False      False   ovary\n",
              "4  30-59  female        adefalse  ...       False      False   ovary\n",
              "\n",
              "[5 rows x 18 columns]"
            ]
          },
          "metadata": {
            "tags": []
          },
          "execution_count": 2
        }
      ]
    },
    {
      "cell_type": "markdown",
      "metadata": {
        "id": "c1Cm_6oK7DGP"
      },
      "source": [
        "# Balanced or Imbalanced target class\n"
      ]
    },
    {
      "cell_type": "code",
      "metadata": {
        "id": "7rp3eOlH67NW",
        "colab": {
          "base_uri": "https://localhost:8080/"
        },
        "outputId": "b41c1731-8982-4ea2-b278-60695629a7b3"
      },
      "source": [
        "target = data.values[:, -1]\n",
        "counter  = Counter(target)\n",
        "for k, v in counter.items():\n",
        "  per = v/ len(target) *100\n",
        "  print('Class = %s, Count =%d, Percentage = %.3f%%' % (k, v, per)) "
      ],
      "execution_count": 3,
      "outputs": [
        {
          "output_type": "stream",
          "text": [
            "Class = lung, Count =81, Percentage = 26.214%\n",
            "Class = breast, Count =18, Percentage = 5.825%\n",
            "Class = ovary, Count =19, Percentage = 6.149%\n",
            "Class = colon, Count =14, Percentage = 4.531%\n",
            "Class = prostate, Count =8, Percentage = 2.589%\n",
            "Class = head and neck, Count =14, Percentage = 4.531%\n",
            "Class = thyroid, Count =14, Percentage = 4.531%\n",
            "Class = pancreas, Count =28, Percentage = 9.061%\n",
            "Class = liver, Count =7, Percentage = 2.265%\n",
            "Class = kidney, Count =23, Percentage = 7.443%\n",
            "Class = salivary glands, Count =2, Percentage = 0.647%\n",
            "Class = rectum, Count =6, Percentage = 1.942%\n",
            "Class = gallbladder, Count =15, Percentage = 4.854%\n",
            "Class = stomach, Count =38, Percentage = 12.298%\n",
            "Class = esophagus, Count =9, Percentage = 2.913%\n",
            "Class = corpus uteri, Count =6, Percentage = 1.942%\n",
            "Class = testis, Count =1, Percentage = 0.324%\n",
            "Class = cervix uteri, Count =2, Percentage = 0.647%\n",
            "Class = duoden and sm.int, Count =1, Percentage = 0.324%\n",
            "Class = bladder, Count =2, Percentage = 0.647%\n",
            "Class = vagina, Count =1, Percentage = 0.324%\n"
          ],
          "name": "stdout"
        }
      ]
    },
    {
      "cell_type": "code",
      "metadata": {
        "colab": {
          "base_uri": "https://localhost:8080/"
        },
        "id": "ifI8bAWaFJ0a",
        "outputId": "5802ede9-374e-4e01-9140-805498221906"
      },
      "source": [
        "# we'll reduce the number of classes by removing those with counts less than 6\n",
        "# we can list the above in a list, and iterate through the labels to remove all\n",
        "# instances\n",
        "\n",
        "from collections import defaultdict\n",
        "\n",
        "#list of classes we'll remove\n",
        "classes_to_remove = ['testis', 'cervix uteri', 'duoden and sm.int', 'bladder', 'vagina', 'salivary glands', 'corpus uteri', 'prostate', 'rectum', 'liver', 'esophagus']\n",
        "\n",
        "data = data[~data['class'].isin(classes_to_remove)]\n",
        "\n",
        "#re-do our counter\n",
        "target = data.values[:, -1]\n",
        "counter  = Counter(target)\n",
        "for k, v in counter.items():\n",
        "  per = v/ len(target) *100\n",
        "  print('Class = %s, Count =%d, Percentage = %.3f%%' % (k, v, per)) "
      ],
      "execution_count": 4,
      "outputs": [
        {
          "output_type": "stream",
          "text": [
            "Class = lung, Count =81, Percentage = 30.682%\n",
            "Class = breast, Count =18, Percentage = 6.818%\n",
            "Class = ovary, Count =19, Percentage = 7.197%\n",
            "Class = colon, Count =14, Percentage = 5.303%\n",
            "Class = head and neck, Count =14, Percentage = 5.303%\n",
            "Class = thyroid, Count =14, Percentage = 5.303%\n",
            "Class = pancreas, Count =28, Percentage = 10.606%\n",
            "Class = kidney, Count =23, Percentage = 8.712%\n",
            "Class = gallbladder, Count =15, Percentage = 5.682%\n",
            "Class = stomach, Count =38, Percentage = 14.394%\n"
          ],
          "name": "stdout"
        }
      ]
    },
    {
      "cell_type": "code",
      "metadata": {
        "colab": {
          "base_uri": "https://localhost:8080/",
          "height": 302
        },
        "id": "MS9DADxIpqpZ",
        "outputId": "5e53db56-4a64-4a8e-ac73-1470b50a60c3"
      },
      "source": [
        "# print new shape of data\n",
        "print(\"New size of the data: \", data.shape)\n",
        "data.head()"
      ],
      "execution_count": 5,
      "outputs": [
        {
          "output_type": "stream",
          "text": [
            "New size of the data:  (264, 18)\n"
          ],
          "name": "stdout"
        },
        {
          "output_type": "execute_result",
          "data": {
            "text/html": [
              "<div>\n",
              "<style scoped>\n",
              "    .dataframe tbody tr th:only-of-type {\n",
              "        vertical-align: middle;\n",
              "    }\n",
              "\n",
              "    .dataframe tbody tr th {\n",
              "        vertical-align: top;\n",
              "    }\n",
              "\n",
              "    .dataframe thead th {\n",
              "        text-align: right;\n",
              "    }\n",
              "</style>\n",
              "<table border=\"1\" class=\"dataframe\">\n",
              "  <thead>\n",
              "    <tr style=\"text-align: right;\">\n",
              "      <th></th>\n",
              "      <th>age</th>\n",
              "      <th>sex</th>\n",
              "      <th>histologic-type</th>\n",
              "      <th>degree-of-diffe</th>\n",
              "      <th>bone</th>\n",
              "      <th>bone-marrow</th>\n",
              "      <th>lung</th>\n",
              "      <th>pleura</th>\n",
              "      <th>peritoneum</th>\n",
              "      <th>liver</th>\n",
              "      <th>brain</th>\n",
              "      <th>skin</th>\n",
              "      <th>neck</th>\n",
              "      <th>supraclavicular</th>\n",
              "      <th>axillar</th>\n",
              "      <th>mediastinum</th>\n",
              "      <th>abdominal</th>\n",
              "      <th>class</th>\n",
              "    </tr>\n",
              "  </thead>\n",
              "  <tbody>\n",
              "    <tr>\n",
              "      <th>0</th>\n",
              "      <td>&gt;=60</td>\n",
              "      <td>female</td>\n",
              "      <td>NaN</td>\n",
              "      <td>NaN</td>\n",
              "      <td>False</td>\n",
              "      <td>False</td>\n",
              "      <td>False</td>\n",
              "      <td>False</td>\n",
              "      <td>False</td>\n",
              "      <td>True</td>\n",
              "      <td>False</td>\n",
              "      <td>False</td>\n",
              "      <td>False</td>\n",
              "      <td>False</td>\n",
              "      <td>False</td>\n",
              "      <td>False</td>\n",
              "      <td>False</td>\n",
              "      <td>lung</td>\n",
              "    </tr>\n",
              "    <tr>\n",
              "      <th>1</th>\n",
              "      <td>&gt;=60</td>\n",
              "      <td>male</td>\n",
              "      <td>NaN</td>\n",
              "      <td>poorly</td>\n",
              "      <td>False</td>\n",
              "      <td>False</td>\n",
              "      <td>False</td>\n",
              "      <td>False</td>\n",
              "      <td>False</td>\n",
              "      <td>True</td>\n",
              "      <td>False</td>\n",
              "      <td>False</td>\n",
              "      <td>False</td>\n",
              "      <td>True</td>\n",
              "      <td>False</td>\n",
              "      <td>True</td>\n",
              "      <td>False</td>\n",
              "      <td>lung</td>\n",
              "    </tr>\n",
              "    <tr>\n",
              "      <th>2</th>\n",
              "      <td>30-59</td>\n",
              "      <td>female</td>\n",
              "      <td>adefalse</td>\n",
              "      <td>NaN</td>\n",
              "      <td>False</td>\n",
              "      <td>False</td>\n",
              "      <td>False</td>\n",
              "      <td>True</td>\n",
              "      <td>False</td>\n",
              "      <td>False</td>\n",
              "      <td>False</td>\n",
              "      <td>True</td>\n",
              "      <td>False</td>\n",
              "      <td>False</td>\n",
              "      <td>True</td>\n",
              "      <td>False</td>\n",
              "      <td>False</td>\n",
              "      <td>breast</td>\n",
              "    </tr>\n",
              "    <tr>\n",
              "      <th>3</th>\n",
              "      <td>30-59</td>\n",
              "      <td>female</td>\n",
              "      <td>adefalse</td>\n",
              "      <td>NaN</td>\n",
              "      <td>False</td>\n",
              "      <td>False</td>\n",
              "      <td>False</td>\n",
              "      <td>False</td>\n",
              "      <td>True</td>\n",
              "      <td>False</td>\n",
              "      <td>False</td>\n",
              "      <td>False</td>\n",
              "      <td>False</td>\n",
              "      <td>False</td>\n",
              "      <td>False</td>\n",
              "      <td>False</td>\n",
              "      <td>False</td>\n",
              "      <td>ovary</td>\n",
              "    </tr>\n",
              "    <tr>\n",
              "      <th>4</th>\n",
              "      <td>30-59</td>\n",
              "      <td>female</td>\n",
              "      <td>adefalse</td>\n",
              "      <td>NaN</td>\n",
              "      <td>False</td>\n",
              "      <td>False</td>\n",
              "      <td>False</td>\n",
              "      <td>True</td>\n",
              "      <td>True</td>\n",
              "      <td>False</td>\n",
              "      <td>False</td>\n",
              "      <td>False</td>\n",
              "      <td>False</td>\n",
              "      <td>False</td>\n",
              "      <td>False</td>\n",
              "      <td>False</td>\n",
              "      <td>False</td>\n",
              "      <td>ovary</td>\n",
              "    </tr>\n",
              "  </tbody>\n",
              "</table>\n",
              "</div>"
            ],
            "text/plain": [
              "     age     sex histologic-type  ... mediastinum  abdominal   class\n",
              "0   >=60  female             NaN  ...       False      False    lung\n",
              "1   >=60    male             NaN  ...        True      False    lung\n",
              "2  30-59  female        adefalse  ...       False      False  breast\n",
              "3  30-59  female        adefalse  ...       False      False   ovary\n",
              "4  30-59  female        adefalse  ...       False      False   ovary\n",
              "\n",
              "[5 rows x 18 columns]"
            ]
          },
          "metadata": {
            "tags": []
          },
          "execution_count": 5
        }
      ]
    },
    {
      "cell_type": "markdown",
      "metadata": {
        "id": "k39LwffW6_Ex"
      },
      "source": [
        "# Missing Values"
      ]
    },
    {
      "cell_type": "code",
      "metadata": {
        "id": "lquDfG8r3f-I",
        "colab": {
          "base_uri": "https://localhost:8080/"
        },
        "outputId": "d5f2aaf6-7a69-4335-d195-586c5187b621"
      },
      "source": [
        "print(\"The total amount of missing values is: \", data.isnull().sum().sum())\n",
        "# now we'll iterate through the columns.\n",
        "names = data.columns.to_list()\n",
        "target_names = data['class'].unique() #save this for later.. confusion matrix\n",
        "print(names)\n",
        "for name in names:\n",
        "  numna = data[name].isnull().sum().sum() \n",
        "  print(\"Column, \", name, \"has \", numna, \" missing values\")"
      ],
      "execution_count": 6,
      "outputs": [
        {
          "output_type": "stream",
          "text": [
            "The total amount of missing values is:  180\n",
            "['age', 'sex', 'histologic-type', 'degree-of-diffe', 'bone', 'bone-marrow', 'lung', 'pleura', 'peritoneum', 'liver', 'brain', 'skin', 'neck', 'supraclavicular', 'axillar', 'mediastinum', 'abdominal', 'class']\n",
            "Column,  age has  0  missing values\n",
            "Column,  sex has  1  missing values\n",
            "Column,  histologic-type has  59  missing values\n",
            "Column,  degree-of-diffe has  118  missing values\n",
            "Column,  bone has  0  missing values\n",
            "Column,  bone-marrow has  0  missing values\n",
            "Column,  lung has  0  missing values\n",
            "Column,  pleura has  0  missing values\n",
            "Column,  peritoneum has  0  missing values\n",
            "Column,  liver has  0  missing values\n",
            "Column,  brain has  0  missing values\n",
            "Column,  skin has  1  missing values\n",
            "Column,  neck has  0  missing values\n",
            "Column,  supraclavicular has  0  missing values\n",
            "Column,  axillar has  1  missing values\n",
            "Column,  mediastinum has  0  missing values\n",
            "Column,  abdominal has  0  missing values\n",
            "Column,  class has  0  missing values\n"
          ],
          "name": "stdout"
        }
      ]
    },
    {
      "cell_type": "code",
      "metadata": {
        "colab": {
          "base_uri": "https://localhost:8080/"
        },
        "id": "Sa3t4gPIoB0V",
        "outputId": "e8a143f7-ce8c-41b6-d367-03d5d9317930"
      },
      "source": [
        "target = data.values[:, 3] #print a count of the number of instances of the 'degree-of-diffe' class\n",
        "counter  = Counter(target)\n",
        "for k, v in counter.items():\n",
        "  per = v/ len(target) *100\n",
        "  print('Class = %s, Count =%d, Percentage = %.3f%%' % (k, v, per)) "
      ],
      "execution_count": 7,
      "outputs": [
        {
          "output_type": "stream",
          "text": [
            "Class = nan, Count =118, Percentage = 44.697%\n",
            "Class = poorly, Count =89, Percentage = 33.712%\n",
            "Class = well, Count =40, Percentage = 15.152%\n",
            "Class = fairly, Count =17, Percentage = 6.439%\n"
          ],
          "name": "stdout"
        }
      ]
    },
    {
      "cell_type": "code",
      "metadata": {
        "id": "6Bmy6ISm7Uqe",
        "colab": {
          "base_uri": "https://localhost:8080/"
        },
        "outputId": "f7fbb4f5-5229-4b02-accc-76faac5401ac"
      },
      "source": [
        "mode = data['degree-of-diffe'].mode() #mode is 'poorly'\n",
        "print(type(mode), mode)\n",
        "data['degree-of-diffe'] = data['degree-of-diffe'].fillna('poorly')\n",
        "target = data.values[:, 3]\n",
        "counter  = Counter(target)\n",
        "for k, v in counter.items():\n",
        "  per = v/ len(target) *100\n",
        "  print('Class = %s, Count =%d, Percentage = %.3f%%' % (k, v, per)) "
      ],
      "execution_count": 8,
      "outputs": [
        {
          "output_type": "stream",
          "text": [
            "<class 'pandas.core.series.Series'> 0    poorly\n",
            "dtype: object\n",
            "Class = poorly, Count =207, Percentage = 78.409%\n",
            "Class = well, Count =40, Percentage = 15.152%\n",
            "Class = fairly, Count =17, Percentage = 6.439%\n"
          ],
          "name": "stdout"
        }
      ]
    },
    {
      "cell_type": "code",
      "metadata": {
        "id": "hdFdU2vz-Dx1",
        "colab": {
          "base_uri": "https://localhost:8080/"
        },
        "outputId": "21dcdf61-7771-4ecb-de10-c270774a5a2f"
      },
      "source": [
        "data = data.dropna()\n",
        "print(\"Current Shape of the data: \", data.shape)\n",
        "target = data.values[:, -1]\n",
        "counter  = Counter(target)\n",
        "for k, v in counter.items():\n",
        "  per = v/ len(target) *100\n",
        "  print('Class = %s, Count =%d, Percentage = %.3f%%' % (k, v, per)) "
      ],
      "execution_count": 9,
      "outputs": [
        {
          "output_type": "stream",
          "text": [
            "Current Shape of the data:  (203, 18)\n",
            "Class = breast, Count =17, Percentage = 8.374%\n",
            "Class = ovary, Count =17, Percentage = 8.374%\n",
            "Class = colon, Count =13, Percentage = 6.404%\n",
            "Class = lung, Count =43, Percentage = 21.182%\n",
            "Class = head and neck, Count =10, Percentage = 4.926%\n",
            "Class = pancreas, Count =26, Percentage = 12.808%\n",
            "Class = kidney, Count =20, Percentage = 9.852%\n",
            "Class = gallbladder, Count =14, Percentage = 6.897%\n",
            "Class = stomach, Count =33, Percentage = 16.256%\n",
            "Class = thyroid, Count =10, Percentage = 4.926%\n"
          ],
          "name": "stdout"
        }
      ]
    },
    {
      "cell_type": "code",
      "metadata": {
        "id": "1pWewZcIAWwK",
        "colab": {
          "base_uri": "https://localhost:8080/",
          "height": 319
        },
        "outputId": "8e4bc509-3dfe-412e-ccf4-3264a1d972fd"
      },
      "source": [
        "X, y = data.drop('class', axis = 1), data['class']\n",
        "print(X.shape, y.shape) #shapes of our inputs and outputs]\n",
        "X.head()"
      ],
      "execution_count": 10,
      "outputs": [
        {
          "output_type": "stream",
          "text": [
            "(203, 17) (203,)\n"
          ],
          "name": "stdout"
        },
        {
          "output_type": "execute_result",
          "data": {
            "text/html": [
              "<div>\n",
              "<style scoped>\n",
              "    .dataframe tbody tr th:only-of-type {\n",
              "        vertical-align: middle;\n",
              "    }\n",
              "\n",
              "    .dataframe tbody tr th {\n",
              "        vertical-align: top;\n",
              "    }\n",
              "\n",
              "    .dataframe thead th {\n",
              "        text-align: right;\n",
              "    }\n",
              "</style>\n",
              "<table border=\"1\" class=\"dataframe\">\n",
              "  <thead>\n",
              "    <tr style=\"text-align: right;\">\n",
              "      <th></th>\n",
              "      <th>age</th>\n",
              "      <th>sex</th>\n",
              "      <th>histologic-type</th>\n",
              "      <th>degree-of-diffe</th>\n",
              "      <th>bone</th>\n",
              "      <th>bone-marrow</th>\n",
              "      <th>lung</th>\n",
              "      <th>pleura</th>\n",
              "      <th>peritoneum</th>\n",
              "      <th>liver</th>\n",
              "      <th>brain</th>\n",
              "      <th>skin</th>\n",
              "      <th>neck</th>\n",
              "      <th>supraclavicular</th>\n",
              "      <th>axillar</th>\n",
              "      <th>mediastinum</th>\n",
              "      <th>abdominal</th>\n",
              "    </tr>\n",
              "  </thead>\n",
              "  <tbody>\n",
              "    <tr>\n",
              "      <th>2</th>\n",
              "      <td>30-59</td>\n",
              "      <td>female</td>\n",
              "      <td>adefalse</td>\n",
              "      <td>poorly</td>\n",
              "      <td>False</td>\n",
              "      <td>False</td>\n",
              "      <td>False</td>\n",
              "      <td>True</td>\n",
              "      <td>False</td>\n",
              "      <td>False</td>\n",
              "      <td>False</td>\n",
              "      <td>True</td>\n",
              "      <td>False</td>\n",
              "      <td>False</td>\n",
              "      <td>True</td>\n",
              "      <td>False</td>\n",
              "      <td>False</td>\n",
              "    </tr>\n",
              "    <tr>\n",
              "      <th>3</th>\n",
              "      <td>30-59</td>\n",
              "      <td>female</td>\n",
              "      <td>adefalse</td>\n",
              "      <td>poorly</td>\n",
              "      <td>False</td>\n",
              "      <td>False</td>\n",
              "      <td>False</td>\n",
              "      <td>False</td>\n",
              "      <td>True</td>\n",
              "      <td>False</td>\n",
              "      <td>False</td>\n",
              "      <td>False</td>\n",
              "      <td>False</td>\n",
              "      <td>False</td>\n",
              "      <td>False</td>\n",
              "      <td>False</td>\n",
              "      <td>False</td>\n",
              "    </tr>\n",
              "    <tr>\n",
              "      <th>4</th>\n",
              "      <td>30-59</td>\n",
              "      <td>female</td>\n",
              "      <td>adefalse</td>\n",
              "      <td>poorly</td>\n",
              "      <td>False</td>\n",
              "      <td>False</td>\n",
              "      <td>False</td>\n",
              "      <td>True</td>\n",
              "      <td>True</td>\n",
              "      <td>False</td>\n",
              "      <td>False</td>\n",
              "      <td>False</td>\n",
              "      <td>False</td>\n",
              "      <td>False</td>\n",
              "      <td>False</td>\n",
              "      <td>False</td>\n",
              "      <td>False</td>\n",
              "    </tr>\n",
              "    <tr>\n",
              "      <th>5</th>\n",
              "      <td>30-59</td>\n",
              "      <td>male</td>\n",
              "      <td>adefalse</td>\n",
              "      <td>poorly</td>\n",
              "      <td>False</td>\n",
              "      <td>False</td>\n",
              "      <td>False</td>\n",
              "      <td>False</td>\n",
              "      <td>False</td>\n",
              "      <td>True</td>\n",
              "      <td>False</td>\n",
              "      <td>False</td>\n",
              "      <td>False</td>\n",
              "      <td>False</td>\n",
              "      <td>False</td>\n",
              "      <td>False</td>\n",
              "      <td>False</td>\n",
              "    </tr>\n",
              "    <tr>\n",
              "      <th>7</th>\n",
              "      <td>30-59</td>\n",
              "      <td>female</td>\n",
              "      <td>adefalse</td>\n",
              "      <td>poorly</td>\n",
              "      <td>True</td>\n",
              "      <td>False</td>\n",
              "      <td>False</td>\n",
              "      <td>False</td>\n",
              "      <td>False</td>\n",
              "      <td>False</td>\n",
              "      <td>True</td>\n",
              "      <td>False</td>\n",
              "      <td>False</td>\n",
              "      <td>False</td>\n",
              "      <td>False</td>\n",
              "      <td>True</td>\n",
              "      <td>False</td>\n",
              "    </tr>\n",
              "  </tbody>\n",
              "</table>\n",
              "</div>"
            ],
            "text/plain": [
              "     age     sex histologic-type  ... axillar  mediastinum  abdominal\n",
              "2  30-59  female        adefalse  ...    True        False      False\n",
              "3  30-59  female        adefalse  ...   False        False      False\n",
              "4  30-59  female        adefalse  ...   False        False      False\n",
              "5  30-59    male        adefalse  ...   False        False      False\n",
              "7  30-59  female        adefalse  ...   False         True      False\n",
              "\n",
              "[5 rows x 17 columns]"
            ]
          },
          "metadata": {
            "tags": []
          },
          "execution_count": 10
        }
      ]
    },
    {
      "cell_type": "code",
      "metadata": {
        "id": "w-FdMSvUqDLQ",
        "colab": {
          "base_uri": "https://localhost:8080/"
        },
        "outputId": "07f535a2-7e6b-4971-8319-ea416d08f7d4"
      },
      "source": [
        "# find indicies of True/False Values we want to transform\n",
        "bools = X.select_dtypes(include = ['bool', 'object']).columns\n",
        "bools = bools.delete((0, 1, 2, 3)) #delete indicies of columns that aren't in True/False Format\n",
        "print(bools)\n",
        "\n",
        "for i in bools:\n",
        "  temp = X[i].astype(int)\n",
        "  X[i] = temp\n",
        "\n",
        "print(X)"
      ],
      "execution_count": 11,
      "outputs": [
        {
          "output_type": "stream",
          "text": [
            "Index(['bone', 'bone-marrow', 'lung', 'pleura', 'peritoneum', 'liver', 'brain',\n",
            "       'skin', 'neck', 'supraclavicular', 'axillar', 'mediastinum',\n",
            "       'abdominal'],\n",
            "      dtype='object')\n",
            "       age     sex histologic-type  ... axillar  mediastinum  abdominal\n",
            "2    30-59  female        adefalse  ...       1            0          0\n",
            "3    30-59  female        adefalse  ...       0            0          0\n",
            "4    30-59  female        adefalse  ...       0            0          0\n",
            "5    30-59    male        adefalse  ...       0            0          0\n",
            "7    30-59  female        adefalse  ...       0            1          0\n",
            "..     ...     ...             ...  ...     ...          ...        ...\n",
            "298   >=60  female        adefalse  ...       0            0          1\n",
            "302  30-59    male        adefalse  ...       0            1          0\n",
            "306  30-59    male      epidermoid  ...       1            0          0\n",
            "307  30-59  female        adefalse  ...       0            0          0\n",
            "308  30-59  female        adefalse  ...       0            0          1\n",
            "\n",
            "[203 rows x 17 columns]\n"
          ],
          "name": "stdout"
        }
      ]
    },
    {
      "cell_type": "code",
      "metadata": {
        "id": "rsdW5z8FHo6i",
        "colab": {
          "base_uri": "https://localhost:8080/"
        },
        "outputId": "e45ea46f-f58f-4d6e-ebc4-571f7764254e"
      },
      "source": [
        "# ordinal encoding for age, meaning we care about the ordering of the labels\n",
        "columns = X.columns.to_list()\n",
        "X = X.to_numpy()\n",
        "j = 0 #iterate through first column\n",
        "for i in range(0, X.shape[0], 1):\n",
        "  if X[i, j] == '<30':\n",
        "    X[i, j] = 0\n",
        "  elif X[i, j] == '30-59':\n",
        "    X[i, j] = 1\n",
        "  elif X[i, j] == '>=60':\n",
        "    X[i, j] = 2\n",
        "  else:\n",
        "    print('error', i, X[i, j]) #for debugging...\n",
        "print(X[0:5, :])"
      ],
      "execution_count": 12,
      "outputs": [
        {
          "output_type": "stream",
          "text": [
            "[[1 'female' 'adefalse' 'poorly' 0 0 0 1 0 0 0 1 0 0 1 0 0]\n",
            " [1 'female' 'adefalse' 'poorly' 0 0 0 0 1 0 0 0 0 0 0 0 0]\n",
            " [1 'female' 'adefalse' 'poorly' 0 0 0 1 1 0 0 0 0 0 0 0 0]\n",
            " [1 'male' 'adefalse' 'poorly' 0 0 0 0 0 1 0 0 0 0 0 0 0]\n",
            " [1 'female' 'adefalse' 'poorly' 1 0 0 0 0 0 1 0 0 0 0 1 0]]\n"
          ],
          "name": "stdout"
        }
      ]
    },
    {
      "cell_type": "code",
      "metadata": {
        "id": "Hf9EKNObLfZl",
        "colab": {
          "base_uri": "https://localhost:8080/",
          "height": 427
        },
        "outputId": "7c931fae-072d-47a9-b2b0-94c4289296bf"
      },
      "source": [
        "# we'll do a simple 1/0 encoding for male, female, while checking capitalization\n",
        "j = 1\n",
        "for i in range(0, X.shape[0], 1):\n",
        "  if X[i, j].lower() == 'female':\n",
        "    X[i, j] = 0\n",
        "  elif X[i, j].lower() == 'male':\n",
        "    X[i, j] = 1\n",
        "  else:\n",
        "    print('error', i, X[i, j])\n",
        "X = pd.DataFrame(X, columns = columns)\n",
        "X"
      ],
      "execution_count": 13,
      "outputs": [
        {
          "output_type": "execute_result",
          "data": {
            "text/html": [
              "<div>\n",
              "<style scoped>\n",
              "    .dataframe tbody tr th:only-of-type {\n",
              "        vertical-align: middle;\n",
              "    }\n",
              "\n",
              "    .dataframe tbody tr th {\n",
              "        vertical-align: top;\n",
              "    }\n",
              "\n",
              "    .dataframe thead th {\n",
              "        text-align: right;\n",
              "    }\n",
              "</style>\n",
              "<table border=\"1\" class=\"dataframe\">\n",
              "  <thead>\n",
              "    <tr style=\"text-align: right;\">\n",
              "      <th></th>\n",
              "      <th>age</th>\n",
              "      <th>sex</th>\n",
              "      <th>histologic-type</th>\n",
              "      <th>degree-of-diffe</th>\n",
              "      <th>bone</th>\n",
              "      <th>bone-marrow</th>\n",
              "      <th>lung</th>\n",
              "      <th>pleura</th>\n",
              "      <th>peritoneum</th>\n",
              "      <th>liver</th>\n",
              "      <th>brain</th>\n",
              "      <th>skin</th>\n",
              "      <th>neck</th>\n",
              "      <th>supraclavicular</th>\n",
              "      <th>axillar</th>\n",
              "      <th>mediastinum</th>\n",
              "      <th>abdominal</th>\n",
              "    </tr>\n",
              "  </thead>\n",
              "  <tbody>\n",
              "    <tr>\n",
              "      <th>0</th>\n",
              "      <td>1</td>\n",
              "      <td>0</td>\n",
              "      <td>adefalse</td>\n",
              "      <td>poorly</td>\n",
              "      <td>0</td>\n",
              "      <td>0</td>\n",
              "      <td>0</td>\n",
              "      <td>1</td>\n",
              "      <td>0</td>\n",
              "      <td>0</td>\n",
              "      <td>0</td>\n",
              "      <td>1</td>\n",
              "      <td>0</td>\n",
              "      <td>0</td>\n",
              "      <td>1</td>\n",
              "      <td>0</td>\n",
              "      <td>0</td>\n",
              "    </tr>\n",
              "    <tr>\n",
              "      <th>1</th>\n",
              "      <td>1</td>\n",
              "      <td>0</td>\n",
              "      <td>adefalse</td>\n",
              "      <td>poorly</td>\n",
              "      <td>0</td>\n",
              "      <td>0</td>\n",
              "      <td>0</td>\n",
              "      <td>0</td>\n",
              "      <td>1</td>\n",
              "      <td>0</td>\n",
              "      <td>0</td>\n",
              "      <td>0</td>\n",
              "      <td>0</td>\n",
              "      <td>0</td>\n",
              "      <td>0</td>\n",
              "      <td>0</td>\n",
              "      <td>0</td>\n",
              "    </tr>\n",
              "    <tr>\n",
              "      <th>2</th>\n",
              "      <td>1</td>\n",
              "      <td>0</td>\n",
              "      <td>adefalse</td>\n",
              "      <td>poorly</td>\n",
              "      <td>0</td>\n",
              "      <td>0</td>\n",
              "      <td>0</td>\n",
              "      <td>1</td>\n",
              "      <td>1</td>\n",
              "      <td>0</td>\n",
              "      <td>0</td>\n",
              "      <td>0</td>\n",
              "      <td>0</td>\n",
              "      <td>0</td>\n",
              "      <td>0</td>\n",
              "      <td>0</td>\n",
              "      <td>0</td>\n",
              "    </tr>\n",
              "    <tr>\n",
              "      <th>3</th>\n",
              "      <td>1</td>\n",
              "      <td>1</td>\n",
              "      <td>adefalse</td>\n",
              "      <td>poorly</td>\n",
              "      <td>0</td>\n",
              "      <td>0</td>\n",
              "      <td>0</td>\n",
              "      <td>0</td>\n",
              "      <td>0</td>\n",
              "      <td>1</td>\n",
              "      <td>0</td>\n",
              "      <td>0</td>\n",
              "      <td>0</td>\n",
              "      <td>0</td>\n",
              "      <td>0</td>\n",
              "      <td>0</td>\n",
              "      <td>0</td>\n",
              "    </tr>\n",
              "    <tr>\n",
              "      <th>4</th>\n",
              "      <td>1</td>\n",
              "      <td>0</td>\n",
              "      <td>adefalse</td>\n",
              "      <td>poorly</td>\n",
              "      <td>1</td>\n",
              "      <td>0</td>\n",
              "      <td>0</td>\n",
              "      <td>0</td>\n",
              "      <td>0</td>\n",
              "      <td>0</td>\n",
              "      <td>1</td>\n",
              "      <td>0</td>\n",
              "      <td>0</td>\n",
              "      <td>0</td>\n",
              "      <td>0</td>\n",
              "      <td>1</td>\n",
              "      <td>0</td>\n",
              "    </tr>\n",
              "    <tr>\n",
              "      <th>...</th>\n",
              "      <td>...</td>\n",
              "      <td>...</td>\n",
              "      <td>...</td>\n",
              "      <td>...</td>\n",
              "      <td>...</td>\n",
              "      <td>...</td>\n",
              "      <td>...</td>\n",
              "      <td>...</td>\n",
              "      <td>...</td>\n",
              "      <td>...</td>\n",
              "      <td>...</td>\n",
              "      <td>...</td>\n",
              "      <td>...</td>\n",
              "      <td>...</td>\n",
              "      <td>...</td>\n",
              "      <td>...</td>\n",
              "      <td>...</td>\n",
              "    </tr>\n",
              "    <tr>\n",
              "      <th>198</th>\n",
              "      <td>2</td>\n",
              "      <td>0</td>\n",
              "      <td>adefalse</td>\n",
              "      <td>poorly</td>\n",
              "      <td>0</td>\n",
              "      <td>0</td>\n",
              "      <td>0</td>\n",
              "      <td>0</td>\n",
              "      <td>0</td>\n",
              "      <td>1</td>\n",
              "      <td>0</td>\n",
              "      <td>0</td>\n",
              "      <td>0</td>\n",
              "      <td>0</td>\n",
              "      <td>0</td>\n",
              "      <td>0</td>\n",
              "      <td>1</td>\n",
              "    </tr>\n",
              "    <tr>\n",
              "      <th>199</th>\n",
              "      <td>1</td>\n",
              "      <td>1</td>\n",
              "      <td>adefalse</td>\n",
              "      <td>poorly</td>\n",
              "      <td>1</td>\n",
              "      <td>0</td>\n",
              "      <td>0</td>\n",
              "      <td>0</td>\n",
              "      <td>0</td>\n",
              "      <td>0</td>\n",
              "      <td>0</td>\n",
              "      <td>0</td>\n",
              "      <td>0</td>\n",
              "      <td>0</td>\n",
              "      <td>0</td>\n",
              "      <td>1</td>\n",
              "      <td>0</td>\n",
              "    </tr>\n",
              "    <tr>\n",
              "      <th>200</th>\n",
              "      <td>1</td>\n",
              "      <td>1</td>\n",
              "      <td>epidermoid</td>\n",
              "      <td>poorly</td>\n",
              "      <td>1</td>\n",
              "      <td>0</td>\n",
              "      <td>0</td>\n",
              "      <td>0</td>\n",
              "      <td>0</td>\n",
              "      <td>0</td>\n",
              "      <td>0</td>\n",
              "      <td>1</td>\n",
              "      <td>0</td>\n",
              "      <td>0</td>\n",
              "      <td>1</td>\n",
              "      <td>0</td>\n",
              "      <td>0</td>\n",
              "    </tr>\n",
              "    <tr>\n",
              "      <th>201</th>\n",
              "      <td>1</td>\n",
              "      <td>0</td>\n",
              "      <td>adefalse</td>\n",
              "      <td>well</td>\n",
              "      <td>0</td>\n",
              "      <td>0</td>\n",
              "      <td>0</td>\n",
              "      <td>1</td>\n",
              "      <td>1</td>\n",
              "      <td>0</td>\n",
              "      <td>0</td>\n",
              "      <td>0</td>\n",
              "      <td>0</td>\n",
              "      <td>0</td>\n",
              "      <td>0</td>\n",
              "      <td>0</td>\n",
              "      <td>0</td>\n",
              "    </tr>\n",
              "    <tr>\n",
              "      <th>202</th>\n",
              "      <td>1</td>\n",
              "      <td>0</td>\n",
              "      <td>adefalse</td>\n",
              "      <td>poorly</td>\n",
              "      <td>1</td>\n",
              "      <td>0</td>\n",
              "      <td>1</td>\n",
              "      <td>1</td>\n",
              "      <td>1</td>\n",
              "      <td>1</td>\n",
              "      <td>1</td>\n",
              "      <td>0</td>\n",
              "      <td>0</td>\n",
              "      <td>0</td>\n",
              "      <td>0</td>\n",
              "      <td>0</td>\n",
              "      <td>1</td>\n",
              "    </tr>\n",
              "  </tbody>\n",
              "</table>\n",
              "<p>203 rows × 17 columns</p>\n",
              "</div>"
            ],
            "text/plain": [
              "    age sex histologic-type  ... axillar mediastinum abdominal\n",
              "0     1   0        adefalse  ...       1           0         0\n",
              "1     1   0        adefalse  ...       0           0         0\n",
              "2     1   0        adefalse  ...       0           0         0\n",
              "3     1   1        adefalse  ...       0           0         0\n",
              "4     1   0        adefalse  ...       0           1         0\n",
              "..   ..  ..             ...  ...     ...         ...       ...\n",
              "198   2   0        adefalse  ...       0           0         1\n",
              "199   1   1        adefalse  ...       0           1         0\n",
              "200   1   1      epidermoid  ...       1           0         0\n",
              "201   1   0        adefalse  ...       0           0         0\n",
              "202   1   0        adefalse  ...       0           0         1\n",
              "\n",
              "[203 rows x 17 columns]"
            ]
          },
          "metadata": {
            "tags": []
          },
          "execution_count": 13
        }
      ]
    },
    {
      "cell_type": "code",
      "metadata": {
        "id": "_T7iBpNaRvUI",
        "colab": {
          "base_uri": "https://localhost:8080/"
        },
        "outputId": "0d38d7ae-aef7-475e-9966-f44d17914974"
      },
      "source": [
        "#import our transformsers \n",
        "from sklearn.preprocessing import LabelBinarizer\n",
        "from sklearn.compose import ColumnTransformer\n",
        "from sklearn.preprocessing import OneHotEncoder\n",
        "from sklearn.preprocessing import OrdinalEncoder\n",
        "\n",
        "t = [('one_hot', OneHotEncoder(), [2, 3])]\n",
        "col_transformer = ColumnTransformer(transformers=t, remainder = 'passthrough')\n",
        "X = col_transformer.fit_transform(X)\n",
        "X"
      ],
      "execution_count": 14,
      "outputs": [
        {
          "output_type": "execute_result",
          "data": {
            "text/plain": [
              "array([[1.0, 0.0, 0.0, ..., 1, 0, 0],\n",
              "       [1.0, 0.0, 0.0, ..., 0, 0, 0],\n",
              "       [1.0, 0.0, 0.0, ..., 0, 0, 0],\n",
              "       ...,\n",
              "       [0.0, 0.0, 1.0, ..., 1, 0, 0],\n",
              "       [1.0, 0.0, 0.0, ..., 0, 0, 0],\n",
              "       [1.0, 0.0, 0.0, ..., 0, 0, 1]], dtype=object)"
            ]
          },
          "metadata": {
            "tags": []
          },
          "execution_count": 14
        }
      ]
    },
    {
      "cell_type": "code",
      "metadata": {
        "id": "IWOn1FVBV9iz",
        "colab": {
          "base_uri": "https://localhost:8080/"
        },
        "outputId": "77c16088-70a3-40c5-e678-003600473595"
      },
      "source": [
        "# transform our outputs \n",
        "from sklearn.preprocessing import LabelEncoder\n",
        "\n",
        "y = LabelEncoder().fit_transform(y)\n",
        "y"
      ],
      "execution_count": 15,
      "outputs": [
        {
          "output_type": "execute_result",
          "data": {
            "text/plain": [
              "array([0, 6, 6, 1, 5, 6, 3, 7, 5, 3, 5, 5, 6, 4, 5, 0, 7, 5, 7, 2, 0, 0,\n",
              "       2, 8, 8, 5, 9, 7, 7, 7, 7, 6, 8, 2, 9, 0, 8, 0, 8, 5, 9, 0, 7, 4,\n",
              "       4, 7, 5, 6, 5, 5, 3, 5, 9, 3, 6, 5, 5, 8, 5, 4, 8, 4, 2, 8, 8, 0,\n",
              "       9, 5, 8, 3, 6, 5, 8, 8, 0, 8, 3, 7, 5, 6, 8, 0, 6, 8, 0, 4, 0, 8,\n",
              "       8, 0, 5, 5, 5, 4, 5, 2, 8, 7, 2, 7, 1, 9, 5, 7, 7, 0, 1, 7, 4, 8,\n",
              "       5, 8, 2, 1, 0, 5, 1, 7, 7, 4, 1, 5, 6, 5, 4, 8, 7, 4, 5, 2, 4, 1,\n",
              "       1, 8, 4, 7, 5, 5, 5, 4, 6, 8, 8, 8, 9, 0, 9, 2, 2, 7, 3, 1, 7, 8,\n",
              "       8, 7, 7, 5, 7, 8, 5, 2, 1, 8, 7, 3, 8, 1, 5, 4, 5, 6, 0, 4, 5, 4,\n",
              "       4, 5, 5, 9, 6, 8, 5, 5, 6, 6, 9, 3, 1, 5, 3, 4, 5, 2, 7, 8, 1, 8,\n",
              "       2, 4, 5, 6, 2])"
            ]
          },
          "metadata": {
            "tags": []
          },
          "execution_count": 15
        }
      ]
    },
    {
      "cell_type": "code",
      "metadata": {
        "id": "mxlNrxoVUaUW"
      },
      "source": [
        "from sklearn.model_selection import train_test_split\n",
        "from sklearn.model_selection import RepeatedKFold\n",
        "import random\n",
        "\n",
        "r = random.seed()\n",
        "X_train, X_test, y_train, y_test = train_test_split(X, y, stratify = y)\n",
        "\n",
        "# define the cross valdiator that will be used uniformly across all classifiers\n",
        "# for each trial\n",
        "cv = RepeatedKFold(n_splits = 3, n_repeats = 3)"
      ],
      "execution_count": 16,
      "outputs": []
    },
    {
      "cell_type": "markdown",
      "metadata": {
        "id": "WraHhR1P6B9H"
      },
      "source": [
        "# **Logistic Regression**"
      ]
    },
    {
      "cell_type": "code",
      "metadata": {
        "id": "E4euG-fV-CUz"
      },
      "source": [
        "# Import library for our grid search\n",
        "from sklearn.model_selection import GridSearchCV\n",
        "#Import library for evalating the model \n",
        "from sklearn import metrics"
      ],
      "execution_count": 17,
      "outputs": []
    },
    {
      "cell_type": "code",
      "metadata": {
        "id": "uyzp1WQn6Kd_",
        "colab": {
          "base_uri": "https://localhost:8080/"
        },
        "outputId": "7e0f60e6-2730-4d1b-dd07-f6e47ee43bb3"
      },
      "source": [
        "from sklearn.linear_model import LogisticRegression\n",
        "\n",
        "#define model\n",
        "model = LogisticRegression()\n",
        "#define search space\n",
        "space = dict()\n",
        "space['solver'] = ['newton-cg', 'lbfgs', 'liblinear']\n",
        "space['penalty'] = ['none', 'l1', 'l2']\n",
        "space['C'] = [1e-8, 1e-7, 1e-6, 1e-5, 1e-4, 1e-3, 1e-2, 1e-1, 1e0, 1e1, 1e2, 1e3, 1e4]\n",
        "#define search\n",
        "search = GridSearchCV(model, space, scoring = 'accuracy', n_jobs = -1, cv= cv)\n",
        "# execute search\n",
        "result = search.fit(X_train, y_train)\n",
        "results = search.return_train_score\n",
        "# summarize result\n",
        "print('Best Score: %s' % result.best_score_)\n",
        "print('Best Hyperparameters: %s' % result.best_params_)\n",
        "print('Best Estimator: %s' % result.best_estimator_)"
      ],
      "execution_count": 18,
      "outputs": [
        {
          "output_type": "stream",
          "text": [
            "Best Score: 0.4213071895424837\n",
            "Best Hyperparameters: {'C': 1.0, 'penalty': 'l1', 'solver': 'liblinear'}\n",
            "Best Estimator: LogisticRegression(C=1.0, class_weight=None, dual=False, fit_intercept=True,\n",
            "                   intercept_scaling=1, l1_ratio=None, max_iter=100,\n",
            "                   multi_class='auto', n_jobs=None, penalty='l1',\n",
            "                   random_state=None, solver='liblinear', tol=0.0001, verbose=0,\n",
            "                   warm_start=False)\n"
          ],
          "name": "stdout"
        }
      ]
    },
    {
      "cell_type": "code",
      "metadata": {
        "id": "_zRWDVLyrTau",
        "colab": {
          "base_uri": "https://localhost:8080/"
        },
        "outputId": "96f6d4ad-95ef-4e25-8700-19fc7b24c3e3"
      },
      "source": [
        "# train on all of taining data and use best hyperparameters to evaluate accuracy \n",
        "# on test set\n",
        "optimalmodel = result.best_estimator_\n",
        "optimalmodel.fit(X_train, y_train)\n",
        "y_predict = optimalmodel.predict(X_test)\n",
        "accuracy = metrics.accuracy_score(y_test, y_predict)\n",
        "print('accuracy on test set: %s' % accuracy)\n"
      ],
      "execution_count": 19,
      "outputs": [
        {
          "output_type": "stream",
          "text": [
            "accuracy on test set: 0.45098039215686275\n"
          ],
          "name": "stdout"
        }
      ]
    },
    {
      "cell_type": "code",
      "metadata": {
        "colab": {
          "base_uri": "https://localhost:8080/",
          "height": 513
        },
        "id": "PhoMIyeXqg0W",
        "outputId": "db9fc439-e2c9-4d86-a3fa-7b0662cba4cf"
      },
      "source": [
        "#confusion matrix for Log. Regression\n",
        "conf_mx = confusion_matrix(y_test, y_predict)\n",
        "df = pd.DataFrame(conf_mx, index = [i for i in target_names], columns = [i for i in target_names])\n",
        "plt.figure(figsize = (10, 7))\n",
        "sn.heatmap(df, annot = True)"
      ],
      "execution_count": 20,
      "outputs": [
        {
          "output_type": "execute_result",
          "data": {
            "text/plain": [
              "<matplotlib.axes._subplots.AxesSubplot at 0x7f5dd9dcab50>"
            ]
          },
          "metadata": {
            "tags": []
          },
          "execution_count": 20
        },
        {
          "output_type": "display_data",
          "data": {
            "image/png": "[encoded data removed]",
            "text/plain": [
              "<Figure size 720x504 with 2 Axes>"
            ]
          },
          "metadata": {
            "tags": [],
            "needs_background": "light"
          }
        }
      ]
    },
    {
      "cell_type": "markdown",
      "metadata": {
        "id": "RhFsr0JQkSrs"
      },
      "source": [
        "#**k-Nearest Neighbors**"
      ]
    },
    {
      "cell_type": "code",
      "metadata": {
        "id": "slj1vbb4iYY4",
        "colab": {
          "base_uri": "https://localhost:8080/"
        },
        "outputId": "bd6aab2e-fcc2-48aa-8bdd-a4701e6208f2"
      },
      "source": [
        "from sklearn.neighbors import KNeighborsClassifier\n",
        "#the paper uses 26 values of K ranging from l = 1 to |trainset|\n",
        "\n",
        "#define model \n",
        "model = KNeighborsClassifier()\n",
        "# define search space\n",
        "k_range = list(range(1, 27))\n",
        "space = dict()\n",
        "space['weights'] = ['uniform', 'distance']\n",
        "space['n_neighbors'] = k_range\n",
        "#define search \n",
        "search = GridSearchCV(model, space, scoring = 'accuracy', n_jobs = -1, cv = cv)\n",
        "#execute search \n",
        "result = search.fit(X_train, y_train)\n",
        "# summarize result\n",
        "print('Best Score: %s' % result.best_score_)\n",
        "print('Best Hyperparameters: %s' % result.best_params_)\n",
        "print('Best Estimator: %s' % result.best_estimator_)"
      ],
      "execution_count": 21,
      "outputs": [
        {
          "output_type": "stream",
          "text": [
            "Best Score: 0.35089324618736384\n",
            "Best Hyperparameters: {'n_neighbors': 4, 'weights': 'uniform'}\n",
            "Best Estimator: KNeighborsClassifier(algorithm='auto', leaf_size=30, metric='minkowski',\n",
            "                     metric_params=None, n_jobs=None, n_neighbors=4, p=2,\n",
            "                     weights='uniform')\n"
          ],
          "name": "stdout"
        }
      ]
    },
    {
      "cell_type": "code",
      "metadata": {
        "id": "QGIB2IuIs4Rl",
        "colab": {
          "base_uri": "https://localhost:8080/"
        },
        "outputId": "58f89dce-0976-4e39-ddef-b8b8633783e9"
      },
      "source": [
        "# train on all of taining data and use best hyperparameters to evaluate accuracy \n",
        "# on test set\n",
        "optimalmodel = result.best_estimator_\n",
        "optimalmodel.fit(X_train, y_train)\n",
        "y_predict = optimalmodel.predict(X_test)\n",
        "accuracy = metrics.accuracy_score(y_test, y_predict)\n",
        "print('accuracy on test set: %s' % accuracy)"
      ],
      "execution_count": 22,
      "outputs": [
        {
          "output_type": "stream",
          "text": [
            "accuracy on test set: 0.37254901960784315\n"
          ],
          "name": "stdout"
        }
      ]
    },
    {
      "cell_type": "code",
      "metadata": {
        "colab": {
          "base_uri": "https://localhost:8080/",
          "height": 513
        },
        "id": "YYqQEzb_ywqN",
        "outputId": "1d711d66-2c7f-4eea-e973-1292e14ea51b"
      },
      "source": [
        "#confusion matrix for K-NN\n",
        "conf_mx = confusion_matrix(y_test, y_predict)\n",
        "df = pd.DataFrame(conf_mx, index = [i for i in target_names], columns = [i for i in target_names])\n",
        "plt.figure(figsize = (10, 7))\n",
        "sn.heatmap(df, annot = True)"
      ],
      "execution_count": 23,
      "outputs": [
        {
          "output_type": "execute_result",
          "data": {
            "text/plain": [
              "<matplotlib.axes._subplots.AxesSubplot at 0x7f5dd9d85050>"
            ]
          },
          "metadata": {
            "tags": []
          },
          "execution_count": 23
        },
        {
          "output_type": "display_data",
          "data": {
            "image/png": "[encoded data removed]",
            "text/plain": [
              "<Figure size 720x504 with 2 Axes>"
            ]
          },
          "metadata": {
            "tags": [],
            "needs_background": "light"
          }
        }
      ]
    },
    {
      "cell_type": "markdown",
      "metadata": {
        "id": "3fd4aNzv5pZz"
      },
      "source": [
        "# **Random Forest**:"
      ]
    },
    {
      "cell_type": "code",
      "metadata": {
        "id": "6XDy3eAI85W7",
        "colab": {
          "base_uri": "https://localhost:8080/"
        },
        "outputId": "481dbd40-3c6a-47f6-b5d9-79a9c3135a7f"
      },
      "source": [
        "from sklearn.ensemble import RandomForestClassifier\n",
        "# the paper uses 1024 trees, & the size of the feature set considered for each \n",
        "# split is 1,2,4,5,8,12,16, & 20. \n",
        "\n",
        "#define model \n",
        "model = RandomForestClassifier()\n",
        "#define search space\n",
        "max_features = [1, 2, 4, 5, 8, 12, 16, 20]\n",
        "space = dict()\n",
        "space['n_estimators'] = [1024]\n",
        "space['criterion'] = ['gini']\n",
        "space['max_features'] = max_features\n",
        "#define search:\n",
        "search = GridSearchCV(model, space, scoring = 'accuracy', n_jobs = -1, cv = cv)\n",
        "#execute search\n",
        "result = search.fit(X_train, y_train)\n",
        "#summarize result\n",
        "print('Best Score: %s' % result.best_score_)\n",
        "print('Best Hyperparameters: %s' % result.best_params_)\n",
        "print('Best Estimator: %s' % result.best_estimator_)"
      ],
      "execution_count": 24,
      "outputs": [
        {
          "output_type": "stream",
          "text": [
            "Best Score: 0.37533769063180833\n",
            "Best Hyperparameters: {'criterion': 'gini', 'max_features': 1, 'n_estimators': 1024}\n",
            "Best Estimator: RandomForestClassifier(bootstrap=True, ccp_alpha=0.0, class_weight=None,\n",
            "                       criterion='gini', max_depth=None, max_features=1,\n",
            "                       max_leaf_nodes=None, max_samples=None,\n",
            "                       min_impurity_decrease=0.0, min_impurity_split=None,\n",
            "                       min_samples_leaf=1, min_samples_split=2,\n",
            "                       min_weight_fraction_leaf=0.0, n_estimators=1024,\n",
            "                       n_jobs=None, oob_score=False, random_state=None,\n",
            "                       verbose=0, warm_start=False)\n"
          ],
          "name": "stdout"
        }
      ]
    },
    {
      "cell_type": "code",
      "metadata": {
        "colab": {
          "base_uri": "https://localhost:8080/",
          "height": 513
        },
        "id": "M2B7sRjRyzZP",
        "outputId": "3c2e16e4-e356-4ca9-a2e7-5dbf4d3e4f98"
      },
      "source": [
        "#confusion matrix for RF\n",
        "conf_mx = confusion_matrix(y_test, y_predict)\n",
        "df = pd.DataFrame(conf_mx, index = [i for i in target_names], columns = [i for i in target_names])\n",
        "plt.figure(figsize = (10, 7))\n",
        "sn.heatmap(df, annot = True)"
      ],
      "execution_count": 25,
      "outputs": [
        {
          "output_type": "execute_result",
          "data": {
            "text/plain": [
              "<matplotlib.axes._subplots.AxesSubplot at 0x7f5dcf91afd0>"
            ]
          },
          "metadata": {
            "tags": []
          },
          "execution_count": 25
        },
        {
          "output_type": "display_data",
          "data": {
            "image/png": "[encoded data removed]",
            "text/plain": [
              "<Figure size 720x504 with 2 Axes>"
            ]
          },
          "metadata": {
            "tags": [],
            "needs_background": "light"
          }
        }
      ]
    },
    {
      "cell_type": "code",
      "metadata": {
        "id": "rMWeDHUedOk2",
        "colab": {
          "base_uri": "https://localhost:8080/"
        },
        "outputId": "da6e7360-e9e2-48d6-a262-47e94ce3e980"
      },
      "source": [
        "optimalmodel = result.best_estimator_\n",
        "optimalmodel.fit(X_train, y_train)\n",
        "y_predict = optimalmodel.predict(X_test)\n",
        "accuracy = metrics.accuracy_score(y_test, y_predict)\n",
        "print('accuracy on test set: %s' % accuracy)"
      ],
      "execution_count": 26,
      "outputs": [
        {
          "output_type": "stream",
          "text": [
            "accuracy on test set: 0.43137254901960786\n"
          ],
          "name": "stdout"
        }
      ]
    },
    {
      "cell_type": "markdown",
      "metadata": {
        "id": "UNYZ_jGtwSgI"
      },
      "source": [
        "# Support Vector Machine "
      ]
    },
    {
      "cell_type": "code",
      "metadata": {
        "id": "LSdJnrjvwUn2",
        "colab": {
          "base_uri": "https://localhost:8080/"
        },
        "outputId": "24a006bb-9e5f-4e2d-ae5f-aecb09d96295"
      },
      "source": [
        "from sklearn import model_selection\n",
        "from sklearn import svm\n",
        "\n",
        "# define search space\n",
        "model = svm.SVC()\n",
        "# define search space\n",
        "space = dict()\n",
        "space['C'] = [0.001, 0.01, 0.1, 1, 10, 100]\n",
        "space['gamma'] = [0.0001, 0.001, 0.01, 0.1]\n",
        "space['kernel'] = ['rbf', 'linear']\n",
        "#define search:\n",
        "search = GridSearchCV(model, space, scoring = 'accuracy', n_jobs = -1, cv = cv)\n",
        "#execute search\n",
        "result = search.fit(X_train, y_train)\n",
        "#summarize result\n",
        "print('Best Score: %s' % result.best_score_)\n",
        "print('Best Hyperparameters: %s' % result.best_params_)\n",
        "print('Best Estimator: %s' % result.best_estimator_)"
      ],
      "execution_count": 27,
      "outputs": [
        {
          "output_type": "stream",
          "text": [
            "Best Score: 0.4057516339869281\n",
            "Best Hyperparameters: {'C': 1, 'gamma': 0.0001, 'kernel': 'linear'}\n",
            "Best Estimator: SVC(C=1, break_ties=False, cache_size=200, class_weight=None, coef0=0.0,\n",
            "    decision_function_shape='ovr', degree=3, gamma=0.0001, kernel='linear',\n",
            "    max_iter=-1, probability=False, random_state=None, shrinking=True,\n",
            "    tol=0.001, verbose=False)\n"
          ],
          "name": "stdout"
        }
      ]
    },
    {
      "cell_type": "code",
      "metadata": {
        "colab": {
          "base_uri": "https://localhost:8080/"
        },
        "id": "IF2S8lak5zY9",
        "outputId": "0424a5be-cd4d-4e76-9f2d-4a154685063d"
      },
      "source": [
        "optimalmodel = result.best_estimator_\n",
        "optimalmodel.fit(X_train, y_train)\n",
        "y_predict = optimalmodel.predict(X_test)\n",
        "accuracy = metrics.accuracy_score(y_test, y_predict)\n",
        "print('accuracy on test set: %s' % accuracy)"
      ],
      "execution_count": 28,
      "outputs": [
        {
          "output_type": "stream",
          "text": [
            "accuracy on test set: 0.37254901960784315\n"
          ],
          "name": "stdout"
        }
      ]
    },
    {
      "cell_type": "code",
      "metadata": {
        "colab": {
          "base_uri": "https://localhost:8080/",
          "height": 513
        },
        "id": "n-dJrqTx55wz",
        "outputId": "6ea0c2fa-0856-4ea5-abab-8570f437a52c"
      },
      "source": [
        "#confusion matrix for RF\n",
        "conf_mx = confusion_matrix(y_test, y_predict)\n",
        "df = pd.DataFrame(conf_mx, index = [i for i in target_names], columns = [i for i in target_names])\n",
        "plt.figure(figsize = (10, 7))\n",
        "sn.heatmap(df, annot = True)"
      ],
      "execution_count": 29,
      "outputs": [
        {
          "output_type": "execute_result",
          "data": {
            "text/plain": [
              "<matplotlib.axes._subplots.AxesSubplot at 0x7f5dd0bbae90>"
            ]
          },
          "metadata": {
            "tags": []
          },
          "execution_count": 29
        },
        {
          "output_type": "display_data",
          "data": {
            "image/png": "[encoded data removed]",
            "text/plain": [
              "<Figure size 720x504 with 2 Axes>"
            ]
          },
          "metadata": {
            "tags": [],
            "needs_background": "light"
          }
        }
      ]
    }
  ]
}