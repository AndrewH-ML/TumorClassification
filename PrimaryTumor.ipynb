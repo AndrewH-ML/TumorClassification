{
  "nbformat": 4,
  "nbformat_minor": 0,
  "metadata": {
    "colab": {
      "name": "PrimaryTumor.ipynb",
      "provenance": [],
      "machine_shape": "hm",
      "include_colab_link": true
    },
    "kernelspec": {
      "name": "python383jvsc74a57bd0a65e3aa414b4e42c60a32bfe81ca2ab7f2052218ca2c071f2deadcde481150db",
      "display_name": "Python 3.8.3 64-bit ('base': conda)"
    },
    "language_info": {
      "name": "python",
      "version": "3.8.3"
    },
    "accelerator": "GPU"
  },
  "cells": [
    {
      "cell_type": "markdown",
      "metadata": {
        "id": "view-in-github",
        "colab_type": "text"
      },
      "source": [
        "<a href=\"https://colab.research.google.com/github/AndrewH707/TumorClassification/blob/main/PrimaryTumor.ipynb\" target=\"_parent\"><img src=\"https://colab.research.google.com/assets/colab-badge.svg\" alt=\"Open In Colab\"/></a>"
      ]
    },
    {
      "cell_type": "code",
      "metadata": {
        "id": "IlQUf47Uo_h6"
      },
      "source": [
        "import numpy as np\n",
        "from collections import Counter\n",
        "from matplotlib import pyplot as plt\n",
        "import pandas as pd"
      ],
      "execution_count": 3,
      "outputs": []
    },
    {
      "cell_type": "code",
      "metadata": {
        "id": "VXYOFbERrHKK",
        "colab": {
          "base_uri": "https://localhost:8080/",
          "height": 326
        },
        "outputId": "5f0eaa9d-8676-459a-cb91-e999cbadad20"
      },
      "source": [
        "url = 'https://raw.githubusercontent.com/AndrewH707/BrainTumorDetection/main/primary-tumor.csv'\n",
        "data = pd.read_csv(url)\n",
        "print(\"The size of the data is: \", data.shape)\n",
        "data.head()"
      ],
      "execution_count": 4,
      "outputs": [
        {
          "output_type": "stream",
          "name": "stdout",
          "text": [
            "The size of the data is:  (309, 18)\n"
          ]
        },
        {
          "output_type": "execute_result",
          "data": {
            "text/plain": [
              "     age     sex histologic-type degree-of-diffe   bone  bone-marrow   lung  \\\n",
              "0   >=60  female             NaN             NaN  False        False  False   \n",
              "1   >=60    male             NaN          poorly  False        False  False   \n",
              "2  30-59  female        adefalse             NaN  False        False  False   \n",
              "3  30-59  female        adefalse             NaN  False        False  False   \n",
              "4  30-59  female        adefalse             NaN  False        False  False   \n",
              "\n",
              "   pleura  peritoneum  liver  brain   skin   neck  supraclavicular axillar  \\\n",
              "0   False       False   True  False  False  False            False   False   \n",
              "1   False       False   True  False  False  False             True   False   \n",
              "2    True       False  False  False   True  False            False    True   \n",
              "3   False        True  False  False  False  False            False   False   \n",
              "4    True        True  False  False  False  False            False   False   \n",
              "\n",
              "   mediastinum  abdominal   class  \n",
              "0        False      False    lung  \n",
              "1         True      False    lung  \n",
              "2        False      False  breast  \n",
              "3        False      False   ovary  \n",
              "4        False      False   ovary  "
            ],
            "text/html": "<div>\n<style scoped>\n    .dataframe tbody tr th:only-of-type {\n        vertical-align: middle;\n    }\n\n    .dataframe tbody tr th {\n        vertical-align: top;\n    }\n\n    .dataframe thead th {\n        text-align: right;\n    }\n</style>\n<table border=\"1\" class=\"dataframe\">\n  <thead>\n    <tr style=\"text-align: right;\">\n      <th></th>\n      <th>age</th>\n      <th>sex</th>\n      <th>histologic-type</th>\n      <th>degree-of-diffe</th>\n      <th>bone</th>\n      <th>bone-marrow</th>\n      <th>lung</th>\n      <th>pleura</th>\n      <th>peritoneum</th>\n      <th>liver</th>\n      <th>brain</th>\n      <th>skin</th>\n      <th>neck</th>\n      <th>supraclavicular</th>\n      <th>axillar</th>\n      <th>mediastinum</th>\n      <th>abdominal</th>\n      <th>class</th>\n    </tr>\n  </thead>\n  <tbody>\n    <tr>\n      <th>0</th>\n      <td>&gt;=60</td>\n      <td>female</td>\n      <td>NaN</td>\n      <td>NaN</td>\n      <td>False</td>\n      <td>False</td>\n      <td>False</td>\n      <td>False</td>\n      <td>False</td>\n      <td>True</td>\n      <td>False</td>\n      <td>False</td>\n      <td>False</td>\n      <td>False</td>\n      <td>False</td>\n      <td>False</td>\n      <td>False</td>\n      <td>lung</td>\n    </tr>\n    <tr>\n      <th>1</th>\n      <td>&gt;=60</td>\n      <td>male</td>\n      <td>NaN</td>\n      <td>poorly</td>\n      <td>False</td>\n      <td>False</td>\n      <td>False</td>\n      <td>False</td>\n      <td>False</td>\n      <td>True</td>\n      <td>False</td>\n      <td>False</td>\n      <td>False</td>\n      <td>True</td>\n      <td>False</td>\n      <td>True</td>\n      <td>False</td>\n      <td>lung</td>\n    </tr>\n    <tr>\n      <th>2</th>\n      <td>30-59</td>\n      <td>female</td>\n      <td>adefalse</td>\n      <td>NaN</td>\n      <td>False</td>\n      <td>False</td>\n      <td>False</td>\n      <td>True</td>\n      <td>False</td>\n      <td>False</td>\n      <td>False</td>\n      <td>True</td>\n      <td>False</td>\n      <td>False</td>\n      <td>True</td>\n      <td>False</td>\n      <td>False</td>\n      <td>breast</td>\n    </tr>\n    <tr>\n      <th>3</th>\n      <td>30-59</td>\n      <td>female</td>\n      <td>adefalse</td>\n      <td>NaN</td>\n      <td>False</td>\n      <td>False</td>\n      <td>False</td>\n      <td>False</td>\n      <td>True</td>\n      <td>False</td>\n      <td>False</td>\n      <td>False</td>\n      <td>False</td>\n      <td>False</td>\n      <td>False</td>\n      <td>False</td>\n      <td>False</td>\n      <td>ovary</td>\n    </tr>\n    <tr>\n      <th>4</th>\n      <td>30-59</td>\n      <td>female</td>\n      <td>adefalse</td>\n      <td>NaN</td>\n      <td>False</td>\n      <td>False</td>\n      <td>False</td>\n      <td>True</td>\n      <td>True</td>\n      <td>False</td>\n      <td>False</td>\n      <td>False</td>\n      <td>False</td>\n      <td>False</td>\n      <td>False</td>\n      <td>False</td>\n      <td>False</td>\n      <td>ovary</td>\n    </tr>\n  </tbody>\n</table>\n</div>"
          },
          "metadata": {},
          "execution_count": 4
        }
      ]
    },
    {
      "cell_type": "markdown",
      "metadata": {
        "id": "c1Cm_6oK7DGP"
      },
      "source": [
        "# Balanced or Imbalanced target class\n"
      ]
    },
    {
      "cell_type": "code",
      "metadata": {
        "id": "7rp3eOlH67NW",
        "colab": {
          "base_uri": "https://localhost:8080/"
        },
        "outputId": "57f21433-5327-44f0-d9ac-3e909f92da72"
      },
      "source": [
        "target = data.values[:, -1]\n",
        "counter  = Counter(target)\n",
        "for k, v in counter.items():\n",
        "  per = v/ len(target) *100\n",
        "  print('Class = %s, Count =%d, Percentage = %.3f%%' % (k, v, per)) "
      ],
      "execution_count": 5,
      "outputs": [
        {
          "output_type": "stream",
          "name": "stdout",
          "text": [
            "Class = lung, Count =81, Percentage = 26.214%\nClass = breast, Count =18, Percentage = 5.825%\nClass = ovary, Count =19, Percentage = 6.149%\nClass = colon, Count =14, Percentage = 4.531%\nClass = prostate, Count =8, Percentage = 2.589%\nClass = head and neck, Count =14, Percentage = 4.531%\nClass = thyroid, Count =14, Percentage = 4.531%\nClass = pancreas, Count =28, Percentage = 9.061%\nClass = liver, Count =7, Percentage = 2.265%\nClass = kidney, Count =23, Percentage = 7.443%\nClass = salivary glands, Count =2, Percentage = 0.647%\nClass = rectum, Count =6, Percentage = 1.942%\nClass = gallbladder, Count =15, Percentage = 4.854%\nClass = stomach, Count =38, Percentage = 12.298%\nClass = esophagus, Count =9, Percentage = 2.913%\nClass = corpus uteri, Count =6, Percentage = 1.942%\nClass = testis, Count =1, Percentage = 0.324%\nClass = cervix uteri, Count =2, Percentage = 0.647%\nClass = duoden and sm.int, Count =1, Percentage = 0.324%\nClass = bladder, Count =2, Percentage = 0.647%\nClass = vagina, Count =1, Percentage = 0.324%\n"
          ]
        }
      ]
    },
    {
      "cell_type": "code",
      "metadata": {
        "colab": {
          "base_uri": "https://localhost:8080/"
        },
        "id": "ifI8bAWaFJ0a",
        "outputId": "43708d1c-4697-4a92-8ccb-bcd38d980890"
      },
      "source": [
        "# we'll reduce the number of classes by removing those with counts less than 6\n",
        "# we can list the above in a list, and iterate through the labels to remove all\n",
        "# instances\n",
        "\n",
        "from collections import defaultdict\n",
        "\n",
        "#list of classes we'll remove\n",
        "classes_to_remove = ['testis', 'cervix uteri', 'duoden and sm.int', 'bladder', 'vagina', 'salivary glands', 'corpus uteri']\n",
        "\n",
        "data = data[~data['class'].isin(classes_to_remove)]\n",
        "\n",
        "#re-do our counter\n",
        "target = data.values[:, -1]\n",
        "counter  = Counter(target)\n",
        "for k, v in counter.items():\n",
        "  per = v/ len(target) *100\n",
        "  print('Class = %s, Count =%d, Percentage = %.3f%%' % (k, v, per)) "
      ],
      "execution_count": 6,
      "outputs": [
        {
          "output_type": "stream",
          "name": "stdout",
          "text": [
            "Class = lung, Count =81, Percentage = 27.551%\nClass = breast, Count =18, Percentage = 6.122%\nClass = ovary, Count =19, Percentage = 6.463%\nClass = colon, Count =14, Percentage = 4.762%\nClass = prostate, Count =8, Percentage = 2.721%\nClass = head and neck, Count =14, Percentage = 4.762%\nClass = thyroid, Count =14, Percentage = 4.762%\nClass = pancreas, Count =28, Percentage = 9.524%\nClass = liver, Count =7, Percentage = 2.381%\nClass = kidney, Count =23, Percentage = 7.823%\nClass = rectum, Count =6, Percentage = 2.041%\nClass = gallbladder, Count =15, Percentage = 5.102%\nClass = stomach, Count =38, Percentage = 12.925%\nClass = esophagus, Count =9, Percentage = 3.061%\n"
          ]
        }
      ]
    },
    {
      "cell_type": "markdown",
      "metadata": {
        "id": "k39LwffW6_Ex"
      },
      "source": [
        "# Missing Values"
      ]
    },
    {
      "cell_type": "code",
      "metadata": {
        "id": "lquDfG8r3f-I",
        "colab": {
          "base_uri": "https://localhost:8080/"
        },
        "outputId": "49051203-3eb0-4ff3-b070-3bc4247e1508"
      },
      "source": [
        "print(\"The total amount of missing values is: \", data.isnull().sum().sum())\n",
        "# now we'll iterate through the columns.\n",
        "names = data.columns.to_list()\n",
        "print(names)\n",
        "for name in names:\n",
        "  numna = data[name].isnull().sum().sum() \n",
        "  print(\"Column, \", name, \"has \", numna, \" missing values\")"
      ],
      "execution_count": 7,
      "outputs": [
        {
          "output_type": "stream",
          "name": "stdout",
          "text": [
            "The total amount of missing values is:  197\n",
            "['age', 'sex', 'histologic-type', 'degree-of-diffe', 'bone', 'bone-marrow', 'lung', 'pleura', 'peritoneum', 'liver', 'brain', 'skin', 'neck', 'supraclavicular', 'axillar', 'mediastinum', 'abdominal', 'class']\n",
            "Column,  age has  0  missing values\n",
            "Column,  sex has  1  missing values\n",
            "Column,  histologic-type has  63  missing values\n",
            "Column,  degree-of-diffe has  131  missing values\n",
            "Column,  bone has  0  missing values\n",
            "Column,  bone-marrow has  0  missing values\n",
            "Column,  lung has  0  missing values\n",
            "Column,  pleura has  0  missing values\n",
            "Column,  peritoneum has  0  missing values\n",
            "Column,  liver has  0  missing values\n",
            "Column,  brain has  0  missing values\n",
            "Column,  skin has  1  missing values\n",
            "Column,  neck has  0  missing values\n",
            "Column,  supraclavicular has  0  missing values\n",
            "Column,  axillar has  1  missing values\n",
            "Column,  mediastinum has  0  missing values\n",
            "Column,  abdominal has  0  missing values\n",
            "Column,  class has  0  missing values\n"
          ]
        }
      ]
    },
    {
      "cell_type": "code",
      "metadata": {
        "colab": {
          "base_uri": "https://localhost:8080/"
        },
        "id": "Sa3t4gPIoB0V",
        "outputId": "9e4d7112-afd4-436e-c912-6ecc4e38e15c"
      },
      "source": [
        "target = data.values[:, 3] #print a count of the number of instances of the 'degree-of-diffe' class\n",
        "counter  = Counter(target)\n",
        "for k, v in counter.items():\n",
        "  per = v/ len(target) *100\n",
        "  print('Class = %s, Count =%d, Percentage = %.3f%%' % (k, v, per)) "
      ],
      "execution_count": 8,
      "outputs": [
        {
          "output_type": "stream",
          "name": "stdout",
          "text": [
            "Class = nan, Count =131, Percentage = 44.558%\nClass = poorly, Count =95, Percentage = 32.313%\nClass = fairly, Count =20, Percentage = 6.803%\nClass = well, Count =48, Percentage = 16.327%\n"
          ]
        }
      ]
    },
    {
      "cell_type": "code",
      "metadata": {
        "id": "6Bmy6ISm7Uqe",
        "colab": {
          "base_uri": "https://localhost:8080/"
        },
        "outputId": "9dba9c1e-63a3-456b-badb-d2d5a4c5906e"
      },
      "source": [
        "mode = data['degree-of-diffe'].mode() #mode is 'poorly'\n",
        "print(type(mode), mode)\n",
        "data['degree-of-diffe'] = data['degree-of-diffe'].fillna('poorly')\n",
        "target = data.values[:, 3]\n",
        "counter  = Counter(target)\n",
        "for k, v in counter.items():\n",
        "  per = v/ len(target) *100\n",
        "  print('Class = %s, Count =%d, Percentage = %.3f%%' % (k, v, per)) "
      ],
      "execution_count": 9,
      "outputs": [
        {
          "output_type": "stream",
          "name": "stdout",
          "text": [
            "<class 'pandas.core.series.Series'> 0    poorly\ndtype: object\nClass = poorly, Count =226, Percentage = 76.871%\nClass = fairly, Count =20, Percentage = 6.803%\nClass = well, Count =48, Percentage = 16.327%\n"
          ]
        }
      ]
    },
    {
      "cell_type": "code",
      "metadata": {
        "id": "hdFdU2vz-Dx1",
        "colab": {
          "base_uri": "https://localhost:8080/"
        },
        "outputId": "f933db4d-0a56-46c9-c04a-9384c05b793d"
      },
      "source": [
        "data = data.dropna()\n",
        "print(\"Current Shape of the data: \", data.shape)\n",
        "target = data.values[:, -1]\n",
        "counter  = Counter(target)\n",
        "for k, v in counter.items():\n",
        "  per = v/ len(target) *100\n",
        "  print('Class = %s, Count =%d, Percentage = %.3f%%' % (k, v, per)) "
      ],
      "execution_count": 10,
      "outputs": [
        {
          "output_type": "stream",
          "name": "stdout",
          "text": [
            "Current Shape of the data:  (229, 18)\nClass = breast, Count =17, Percentage = 7.424%\nClass = ovary, Count =17, Percentage = 7.424%\nClass = colon, Count =13, Percentage = 5.677%\nClass = prostate, Count =8, Percentage = 3.493%\nClass = lung, Count =43, Percentage = 18.777%\nClass = head and neck, Count =10, Percentage = 4.367%\nClass = pancreas, Count =26, Percentage = 11.354%\nClass = liver, Count =7, Percentage = 3.057%\nClass = kidney, Count =20, Percentage = 8.734%\nClass = rectum, Count =6, Percentage = 2.620%\nClass = gallbladder, Count =14, Percentage = 6.114%\nClass = stomach, Count =33, Percentage = 14.410%\nClass = thyroid, Count =10, Percentage = 4.367%\nClass = esophagus, Count =5, Percentage = 2.183%\n"
          ]
        }
      ]
    },
    {
      "cell_type": "code",
      "metadata": {
        "id": "1pWewZcIAWwK",
        "colab": {
          "base_uri": "https://localhost:8080/",
          "height": 361
        },
        "outputId": "54691d4e-0368-4811-e2e1-53dce2d801fa"
      },
      "source": [
        "X, y = data.drop('class', axis = 1), data['class']\n",
        "print(X.shape, y.shape) #shapes of our inputs and outputs]\n",
        "X.head()"
      ],
      "execution_count": 11,
      "outputs": [
        {
          "output_type": "stream",
          "name": "stdout",
          "text": [
            "(229, 17) (229,)\n"
          ]
        },
        {
          "output_type": "execute_result",
          "data": {
            "text/plain": [
              "     age     sex histologic-type degree-of-diffe   bone  bone-marrow   lung  \\\n",
              "2  30-59  female        adefalse          poorly  False        False  False   \n",
              "3  30-59  female        adefalse          poorly  False        False  False   \n",
              "4  30-59  female        adefalse          poorly  False        False  False   \n",
              "5  30-59    male        adefalse          poorly  False        False  False   \n",
              "6  30-59    male        adefalse          poorly   True        False  False   \n",
              "\n",
              "   pleura  peritoneum  liver  brain   skin   neck  supraclavicular axillar  \\\n",
              "2    True       False  False  False   True  False            False    True   \n",
              "3   False        True  False  False  False  False            False   False   \n",
              "4    True        True  False  False  False  False            False   False   \n",
              "5   False       False   True  False  False  False            False   False   \n",
              "6   False       False  False  False  False  False            False   False   \n",
              "\n",
              "   mediastinum  abdominal  \n",
              "2        False      False  \n",
              "3        False      False  \n",
              "4        False      False  \n",
              "5        False      False  \n",
              "6        False      False  "
            ],
            "text/html": "<div>\n<style scoped>\n    .dataframe tbody tr th:only-of-type {\n        vertical-align: middle;\n    }\n\n    .dataframe tbody tr th {\n        vertical-align: top;\n    }\n\n    .dataframe thead th {\n        text-align: right;\n    }\n</style>\n<table border=\"1\" class=\"dataframe\">\n  <thead>\n    <tr style=\"text-align: right;\">\n      <th></th>\n      <th>age</th>\n      <th>sex</th>\n      <th>histologic-type</th>\n      <th>degree-of-diffe</th>\n      <th>bone</th>\n      <th>bone-marrow</th>\n      <th>lung</th>\n      <th>pleura</th>\n      <th>peritoneum</th>\n      <th>liver</th>\n      <th>brain</th>\n      <th>skin</th>\n      <th>neck</th>\n      <th>supraclavicular</th>\n      <th>axillar</th>\n      <th>mediastinum</th>\n      <th>abdominal</th>\n    </tr>\n  </thead>\n  <tbody>\n    <tr>\n      <th>2</th>\n      <td>30-59</td>\n      <td>female</td>\n      <td>adefalse</td>\n      <td>poorly</td>\n      <td>False</td>\n      <td>False</td>\n      <td>False</td>\n      <td>True</td>\n      <td>False</td>\n      <td>False</td>\n      <td>False</td>\n      <td>True</td>\n      <td>False</td>\n      <td>False</td>\n      <td>True</td>\n      <td>False</td>\n      <td>False</td>\n    </tr>\n    <tr>\n      <th>3</th>\n      <td>30-59</td>\n      <td>female</td>\n      <td>adefalse</td>\n      <td>poorly</td>\n      <td>False</td>\n      <td>False</td>\n      <td>False</td>\n      <td>False</td>\n      <td>True</td>\n      <td>False</td>\n      <td>False</td>\n      <td>False</td>\n      <td>False</td>\n      <td>False</td>\n      <td>False</td>\n      <td>False</td>\n      <td>False</td>\n    </tr>\n    <tr>\n      <th>4</th>\n      <td>30-59</td>\n      <td>female</td>\n      <td>adefalse</td>\n      <td>poorly</td>\n      <td>False</td>\n      <td>False</td>\n      <td>False</td>\n      <td>True</td>\n      <td>True</td>\n      <td>False</td>\n      <td>False</td>\n      <td>False</td>\n      <td>False</td>\n      <td>False</td>\n      <td>False</td>\n      <td>False</td>\n      <td>False</td>\n    </tr>\n    <tr>\n      <th>5</th>\n      <td>30-59</td>\n      <td>male</td>\n      <td>adefalse</td>\n      <td>poorly</td>\n      <td>False</td>\n      <td>False</td>\n      <td>False</td>\n      <td>False</td>\n      <td>False</td>\n      <td>True</td>\n      <td>False</td>\n      <td>False</td>\n      <td>False</td>\n      <td>False</td>\n      <td>False</td>\n      <td>False</td>\n      <td>False</td>\n    </tr>\n    <tr>\n      <th>6</th>\n      <td>30-59</td>\n      <td>male</td>\n      <td>adefalse</td>\n      <td>poorly</td>\n      <td>True</td>\n      <td>False</td>\n      <td>False</td>\n      <td>False</td>\n      <td>False</td>\n      <td>False</td>\n      <td>False</td>\n      <td>False</td>\n      <td>False</td>\n      <td>False</td>\n      <td>False</td>\n      <td>False</td>\n      <td>False</td>\n    </tr>\n  </tbody>\n</table>\n</div>"
          },
          "metadata": {},
          "execution_count": 11
        }
      ]
    },
    {
      "cell_type": "code",
      "metadata": {
        "id": "w-FdMSvUqDLQ",
        "colab": {
          "base_uri": "https://localhost:8080/"
        },
        "outputId": "0d011dfd-a6a9-4864-89b1-c23aea0bd70d"
      },
      "source": [
        "# find indicies of True/False Values we want to transform\n",
        "bools = X.select_dtypes(include = ['bool', 'object']).columns\n",
        "bools = bools.delete((0, 1, 2, 3)) #delete indicies of columns that aren't in True/False Format\n",
        "print(bools)\n",
        "\n",
        "for i in bools:\n",
        "  temp = X[i].astype(int)\n",
        "  X[i] = temp\n",
        "\n",
        "print(X)"
      ],
      "execution_count": 12,
      "outputs": [
        {
          "output_type": "stream",
          "name": "stdout",
          "text": [
            "Index(['bone', 'bone-marrow', 'lung', 'pleura', 'peritoneum', 'liver', 'brain',\n       'skin', 'neck', 'supraclavicular', 'axillar', 'mediastinum',\n       'abdominal'],\n      dtype='object')\n       age     sex histologic-type degree-of-diffe  bone  bone-marrow  lung  \\\n2    30-59  female        adefalse          poorly     0            0     0   \n3    30-59  female        adefalse          poorly     0            0     0   \n4    30-59  female        adefalse          poorly     0            0     0   \n5    30-59    male        adefalse          poorly     0            0     0   \n6    30-59    male        adefalse          poorly     1            0     0   \n..     ...     ...             ...             ...   ...          ...   ...   \n302  30-59    male        adefalse          poorly     1            0     0   \n305  30-59    male        adefalse            well     1            0     0   \n306  30-59    male      epidermoid          poorly     1            0     0   \n307  30-59  female        adefalse            well     0            0     0   \n308  30-59  female        adefalse          poorly     1            0     1   \n\n     pleura  peritoneum  liver  brain  skin  neck  supraclavicular  axillar  \\\n2         1           0      0      0     1     0                0        1   \n3         0           1      0      0     0     0                0        0   \n4         1           1      0      0     0     0                0        0   \n5         0           0      1      0     0     0                0        0   \n6         0           0      0      0     0     0                0        0   \n..      ...         ...    ...    ...   ...   ...              ...      ...   \n302       0           0      0      0     0     0                0        0   \n305       0           0      0      0     0     1                1        0   \n306       0           0      0      0     1     0                0        1   \n307       1           1      0      0     0     0                0        0   \n308       1           1      1      1     0     0                0        0   \n\n     mediastinum  abdominal  \n2              0          0  \n3              0          0  \n4              0          0  \n5              0          0  \n6              0          0  \n..           ...        ...  \n302            1          0  \n305            1          0  \n306            0          0  \n307            0          0  \n308            0          1  \n\n[229 rows x 17 columns]\n"
          ]
        }
      ]
    },
    {
      "cell_type": "code",
      "metadata": {
        "id": "rsdW5z8FHo6i",
        "colab": {
          "base_uri": "https://localhost:8080/"
        },
        "outputId": "86550f6f-6ce8-4f33-cb3f-6eaffb37e91e"
      },
      "source": [
        "# ordinal encoding for age, meaning we care about the ordering of the labels\n",
        "columns = X.columns.to_list()\n",
        "X = X.to_numpy()\n",
        "j = 0 #iterate through first column\n",
        "for i in range(0, X.shape[0], 1):\n",
        "  if X[i, j] == '<30':\n",
        "    X[i, j] = 0\n",
        "  elif X[i, j] == '30-59':\n",
        "    X[i, j] = 1\n",
        "  elif X[i, j] == '>=60':\n",
        "    X[i, j] = 2\n",
        "  else:\n",
        "    print('error', i, X[i, j]) #for debugging...\n",
        "print(X[0:5, :])"
      ],
      "execution_count": 13,
      "outputs": [
        {
          "output_type": "stream",
          "name": "stdout",
          "text": [
            "[[1 'female' 'adefalse' 'poorly' 0 0 0 1 0 0 0 1 0 0 1 0 0]\n [1 'female' 'adefalse' 'poorly' 0 0 0 0 1 0 0 0 0 0 0 0 0]\n [1 'female' 'adefalse' 'poorly' 0 0 0 1 1 0 0 0 0 0 0 0 0]\n [1 'male' 'adefalse' 'poorly' 0 0 0 0 0 1 0 0 0 0 0 0 0]\n [1 'male' 'adefalse' 'poorly' 1 0 0 0 0 0 0 0 0 0 0 0 0]]\n"
          ]
        }
      ]
    },
    {
      "cell_type": "code",
      "metadata": {
        "id": "Hf9EKNObLfZl",
        "colab": {
          "base_uri": "https://localhost:8080/",
          "height": 470
        },
        "outputId": "74947a71-b45a-4650-e573-e6a4b7f3d5a5"
      },
      "source": [
        "# we'll do a simple 1/0 encoding for male, female, while checking capitalization\n",
        "j = 1\n",
        "for i in range(0, X.shape[0], 1):\n",
        "  if X[i, j].lower() == 'female':\n",
        "    X[i, j] = 0\n",
        "  elif X[i, j].lower() == 'male':\n",
        "    X[i, j] = 1\n",
        "  else:\n",
        "    print('error', i, X[i, j])\n",
        "X = pd.DataFrame(X, columns = columns)\n",
        "X"
      ],
      "execution_count": 14,
      "outputs": [
        {
          "output_type": "execute_result",
          "data": {
            "text/plain": [
              "    age sex histologic-type degree-of-diffe bone bone-marrow lung pleura  \\\n",
              "0     1   0        adefalse          poorly    0           0    0      1   \n",
              "1     1   0        adefalse          poorly    0           0    0      0   \n",
              "2     1   0        adefalse          poorly    0           0    0      1   \n",
              "3     1   1        adefalse          poorly    0           0    0      0   \n",
              "4     1   1        adefalse          poorly    1           0    0      0   \n",
              "..   ..  ..             ...             ...  ...         ...  ...    ...   \n",
              "224   1   1        adefalse          poorly    1           0    0      0   \n",
              "225   1   1        adefalse            well    1           0    0      0   \n",
              "226   1   1      epidermoid          poorly    1           0    0      0   \n",
              "227   1   0        adefalse            well    0           0    0      1   \n",
              "228   1   0        adefalse          poorly    1           0    1      1   \n",
              "\n",
              "    peritoneum liver brain skin neck supraclavicular axillar mediastinum  \\\n",
              "0            0     0     0    1    0               0       1           0   \n",
              "1            1     0     0    0    0               0       0           0   \n",
              "2            1     0     0    0    0               0       0           0   \n",
              "3            0     1     0    0    0               0       0           0   \n",
              "4            0     0     0    0    0               0       0           0   \n",
              "..         ...   ...   ...  ...  ...             ...     ...         ...   \n",
              "224          0     0     0    0    0               0       0           1   \n",
              "225          0     0     0    0    1               1       0           1   \n",
              "226          0     0     0    1    0               0       1           0   \n",
              "227          1     0     0    0    0               0       0           0   \n",
              "228          1     1     1    0    0               0       0           0   \n",
              "\n",
              "    abdominal  \n",
              "0           0  \n",
              "1           0  \n",
              "2           0  \n",
              "3           0  \n",
              "4           0  \n",
              "..        ...  \n",
              "224         0  \n",
              "225         0  \n",
              "226         0  \n",
              "227         0  \n",
              "228         1  \n",
              "\n",
              "[229 rows x 17 columns]"
            ],
            "text/html": "<div>\n<style scoped>\n    .dataframe tbody tr th:only-of-type {\n        vertical-align: middle;\n    }\n\n    .dataframe tbody tr th {\n        vertical-align: top;\n    }\n\n    .dataframe thead th {\n        text-align: right;\n    }\n</style>\n<table border=\"1\" class=\"dataframe\">\n  <thead>\n    <tr style=\"text-align: right;\">\n      <th></th>\n      <th>age</th>\n      <th>sex</th>\n      <th>histologic-type</th>\n      <th>degree-of-diffe</th>\n      <th>bone</th>\n      <th>bone-marrow</th>\n      <th>lung</th>\n      <th>pleura</th>\n      <th>peritoneum</th>\n      <th>liver</th>\n      <th>brain</th>\n      <th>skin</th>\n      <th>neck</th>\n      <th>supraclavicular</th>\n      <th>axillar</th>\n      <th>mediastinum</th>\n      <th>abdominal</th>\n    </tr>\n  </thead>\n  <tbody>\n    <tr>\n      <th>0</th>\n      <td>1</td>\n      <td>0</td>\n      <td>adefalse</td>\n      <td>poorly</td>\n      <td>0</td>\n      <td>0</td>\n      <td>0</td>\n      <td>1</td>\n      <td>0</td>\n      <td>0</td>\n      <td>0</td>\n      <td>1</td>\n      <td>0</td>\n      <td>0</td>\n      <td>1</td>\n      <td>0</td>\n      <td>0</td>\n    </tr>\n    <tr>\n      <th>1</th>\n      <td>1</td>\n      <td>0</td>\n      <td>adefalse</td>\n      <td>poorly</td>\n      <td>0</td>\n      <td>0</td>\n      <td>0</td>\n      <td>0</td>\n      <td>1</td>\n      <td>0</td>\n      <td>0</td>\n      <td>0</td>\n      <td>0</td>\n      <td>0</td>\n      <td>0</td>\n      <td>0</td>\n      <td>0</td>\n    </tr>\n    <tr>\n      <th>2</th>\n      <td>1</td>\n      <td>0</td>\n      <td>adefalse</td>\n      <td>poorly</td>\n      <td>0</td>\n      <td>0</td>\n      <td>0</td>\n      <td>1</td>\n      <td>1</td>\n      <td>0</td>\n      <td>0</td>\n      <td>0</td>\n      <td>0</td>\n      <td>0</td>\n      <td>0</td>\n      <td>0</td>\n      <td>0</td>\n    </tr>\n    <tr>\n      <th>3</th>\n      <td>1</td>\n      <td>1</td>\n      <td>adefalse</td>\n      <td>poorly</td>\n      <td>0</td>\n      <td>0</td>\n      <td>0</td>\n      <td>0</td>\n      <td>0</td>\n      <td>1</td>\n      <td>0</td>\n      <td>0</td>\n      <td>0</td>\n      <td>0</td>\n      <td>0</td>\n      <td>0</td>\n      <td>0</td>\n    </tr>\n    <tr>\n      <th>4</th>\n      <td>1</td>\n      <td>1</td>\n      <td>adefalse</td>\n      <td>poorly</td>\n      <td>1</td>\n      <td>0</td>\n      <td>0</td>\n      <td>0</td>\n      <td>0</td>\n      <td>0</td>\n      <td>0</td>\n      <td>0</td>\n      <td>0</td>\n      <td>0</td>\n      <td>0</td>\n      <td>0</td>\n      <td>0</td>\n    </tr>\n    <tr>\n      <th>...</th>\n      <td>...</td>\n      <td>...</td>\n      <td>...</td>\n      <td>...</td>\n      <td>...</td>\n      <td>...</td>\n      <td>...</td>\n      <td>...</td>\n      <td>...</td>\n      <td>...</td>\n      <td>...</td>\n      <td>...</td>\n      <td>...</td>\n      <td>...</td>\n      <td>...</td>\n      <td>...</td>\n      <td>...</td>\n    </tr>\n    <tr>\n      <th>224</th>\n      <td>1</td>\n      <td>1</td>\n      <td>adefalse</td>\n      <td>poorly</td>\n      <td>1</td>\n      <td>0</td>\n      <td>0</td>\n      <td>0</td>\n      <td>0</td>\n      <td>0</td>\n      <td>0</td>\n      <td>0</td>\n      <td>0</td>\n      <td>0</td>\n      <td>0</td>\n      <td>1</td>\n      <td>0</td>\n    </tr>\n    <tr>\n      <th>225</th>\n      <td>1</td>\n      <td>1</td>\n      <td>adefalse</td>\n      <td>well</td>\n      <td>1</td>\n      <td>0</td>\n      <td>0</td>\n      <td>0</td>\n      <td>0</td>\n      <td>0</td>\n      <td>0</td>\n      <td>0</td>\n      <td>1</td>\n      <td>1</td>\n      <td>0</td>\n      <td>1</td>\n      <td>0</td>\n    </tr>\n    <tr>\n      <th>226</th>\n      <td>1</td>\n      <td>1</td>\n      <td>epidermoid</td>\n      <td>poorly</td>\n      <td>1</td>\n      <td>0</td>\n      <td>0</td>\n      <td>0</td>\n      <td>0</td>\n      <td>0</td>\n      <td>0</td>\n      <td>1</td>\n      <td>0</td>\n      <td>0</td>\n      <td>1</td>\n      <td>0</td>\n      <td>0</td>\n    </tr>\n    <tr>\n      <th>227</th>\n      <td>1</td>\n      <td>0</td>\n      <td>adefalse</td>\n      <td>well</td>\n      <td>0</td>\n      <td>0</td>\n      <td>0</td>\n      <td>1</td>\n      <td>1</td>\n      <td>0</td>\n      <td>0</td>\n      <td>0</td>\n      <td>0</td>\n      <td>0</td>\n      <td>0</td>\n      <td>0</td>\n      <td>0</td>\n    </tr>\n    <tr>\n      <th>228</th>\n      <td>1</td>\n      <td>0</td>\n      <td>adefalse</td>\n      <td>poorly</td>\n      <td>1</td>\n      <td>0</td>\n      <td>1</td>\n      <td>1</td>\n      <td>1</td>\n      <td>1</td>\n      <td>1</td>\n      <td>0</td>\n      <td>0</td>\n      <td>0</td>\n      <td>0</td>\n      <td>0</td>\n      <td>1</td>\n    </tr>\n  </tbody>\n</table>\n<p>229 rows × 17 columns</p>\n</div>"
          },
          "metadata": {},
          "execution_count": 14
        }
      ]
    },
    {
      "cell_type": "code",
      "metadata": {
        "id": "_T7iBpNaRvUI",
        "colab": {
          "base_uri": "https://localhost:8080/"
        },
        "outputId": "9a6606b3-f7cb-4f77-ba71-e6651d553d07"
      },
      "source": [
        "#import our transformsers \n",
        "from sklearn.preprocessing import LabelBinarizer\n",
        "from sklearn.compose import ColumnTransformer\n",
        "from sklearn.preprocessing import OneHotEncoder\n",
        "from sklearn.preprocessing import OrdinalEncoder\n",
        "\n",
        "t = [('one_hot', OneHotEncoder(), [2, 3])]\n",
        "col_transformer = ColumnTransformer(transformers=t, remainder = 'passthrough')\n",
        "X = col_transformer.fit_transform(X)\n",
        "X"
      ],
      "execution_count": 15,
      "outputs": [
        {
          "output_type": "execute_result",
          "data": {
            "text/plain": [
              "array([[1.0, 0.0, 0.0, ..., 1, 0, 0],\n",
              "       [1.0, 0.0, 0.0, ..., 0, 0, 0],\n",
              "       [1.0, 0.0, 0.0, ..., 0, 0, 0],\n",
              "       ...,\n",
              "       [0.0, 0.0, 1.0, ..., 1, 0, 0],\n",
              "       [1.0, 0.0, 0.0, ..., 0, 0, 0],\n",
              "       [1.0, 0.0, 0.0, ..., 0, 0, 1]], dtype=object)"
            ]
          },
          "metadata": {},
          "execution_count": 15
        }
      ]
    },
    {
      "cell_type": "code",
      "metadata": {
        "id": "IWOn1FVBV9iz",
        "colab": {
          "base_uri": "https://localhost:8080/"
        },
        "outputId": "4f1f7e96-2663-494b-c0c1-a2dfd9fe9195"
      },
      "source": [
        "# transform our outputs \n",
        "from sklearn.preprocessing import LabelEncoder\n",
        "\n",
        "y = LabelEncoder().fit_transform(y)\n",
        "y"
      ],
      "execution_count": 16,
      "outputs": [
        {
          "output_type": "execute_result",
          "data": {
            "text/plain": [
              "array([ 0,  8,  8,  1, 10,  7, 10,  8,  4,  9,  7,  4,  7,  6,  7,  8,  5,\n",
              "        7,  0, 11,  9,  7,  9, 10,  3,  0,  0,  3, 12, 12,  7, 13,  9,  9,\n",
              "        9,  9,  8, 12,  3, 13,  0, 12,  2,  0, 11, 12, 10,  7, 13,  0,  9,\n",
              "        5,  5,  9,  7,  8,  7,  7,  4,  7, 13,  4,  8,  7,  7, 12,  7,  5,\n",
              "       12,  5,  3, 12, 12,  0, 13, 11,  6,  7, 12,  4,  8,  6,  7, 12, 12,\n",
              "        0, 12,  4,  9,  7,  8, 12,  0,  8, 12,  0,  5,  0, 11, 12,  2,  2,\n",
              "       12,  0,  7,  7,  7,  5,  7,  3, 12,  6,  9,  3,  9,  1, 10, 13,  7,\n",
              "       10,  9,  9,  0,  1,  9,  5, 12,  7, 12,  3,  1,  0,  7,  1,  9,  9,\n",
              "        5,  1,  7,  8,  7,  5, 12,  9,  5,  7, 10,  3,  5,  6,  1,  1, 12,\n",
              "        5,  2,  9,  7,  7,  7,  5,  8, 12, 12, 12, 13,  0, 13,  3,  3,  9,\n",
              "        4,  6,  1,  9, 12, 11, 12,  9,  9,  2,  7,  9, 12,  7,  3,  1, 12,\n",
              "        9,  4, 11, 12,  1,  7,  5,  7,  8,  0,  5,  7,  5,  5,  7,  7, 13,\n",
              "        8, 12,  7,  7,  8,  6,  8, 13,  4,  1,  7,  4,  5,  7,  3,  9, 12,\n",
              "        1, 12,  3,  5, 10,  7,  8,  3])"
            ]
          },
          "metadata": {},
          "execution_count": 16
        }
      ]
    },
    {
      "cell_type": "code",
      "metadata": {
        "id": "mxlNrxoVUaUW"
      },
      "source": [
        "from sklearn.model_selection import train_test_split\n",
        "from sklearn.model_selection import RepeatedKFold\n",
        "import random\n",
        "\n",
        "r = random.seed()\n",
        "X_train, X_test, y_train, y_test = train_test_split(X, y, stratify = y)\n",
        "\n",
        "# define the cross valdiator that will be used uniformly across all classifiers\n",
        "# for each trial\n",
        "cv = RepeatedKFold(n_splits = 3, n_repeats = 3)"
      ],
      "execution_count": 17,
      "outputs": []
    },
    {
      "cell_type": "markdown",
      "metadata": {
        "id": "WraHhR1P6B9H"
      },
      "source": [
        "# **Logistic Regression**"
      ]
    },
    {
      "cell_type": "code",
      "metadata": {
        "id": "E4euG-fV-CUz"
      },
      "source": [
        "# Import library for our grid search\n",
        "from sklearn.model_selection import GridSearchCV\n",
        "#Import library for evalating the model \n",
        "from sklearn import metrics"
      ],
      "execution_count": 18,
      "outputs": []
    },
    {
      "cell_type": "code",
      "metadata": {
        "id": "uyzp1WQn6Kd_",
        "colab": {
          "base_uri": "https://localhost:8080/"
        },
        "outputId": "bac979ef-f0f6-4421-936d-66ad12c95169"
      },
      "source": [
        "from sklearn.linear_model import LogisticRegression\n",
        "\n",
        "#define model\n",
        "model = LogisticRegression()\n",
        "#define search space\n",
        "space = dict()\n",
        "space['solver'] = ['newton-cg', 'lbfgs', 'liblinear']\n",
        "space['penalty'] = ['none', 'l1', 'l2']\n",
        "space['C'] = [1e-8, 1e-7, 1e-6, 1e-5, 1e-4, 1e-3, 1e-2, 1e-1, 1e0, 1e1, 1e2, 1e3, 1e4]\n",
        "#define search\n",
        "search = GridSearchCV(model, space, scoring = 'accuracy', n_jobs = -1, cv= cv)\n",
        "# execute search\n",
        "result = search.fit(X_train, y_train)\n",
        "results = search.return_train_score\n",
        "# summarize result\n",
        "print('Best Score: %s' % result.best_score_)\n",
        "print('Best Hyperparameters: %s' % result.best_params_)\n",
        "print('Best Estimator: %s' % result.best_estimator_)"
      ],
      "execution_count": 19,
      "outputs": [
        {
          "output_type": "stream",
          "name": "stdout",
          "text": [
            "Best Score: 0.32943469785575047\nBest Hyperparameters: {'C': 1.0, 'penalty': 'l2', 'solver': 'newton-cg'}\nBest Estimator: LogisticRegression(solver='newton-cg')\n"
          ]
        }
      ]
    },
    {
      "cell_type": "code",
      "metadata": {
        "id": "_zRWDVLyrTau",
        "colab": {
          "base_uri": "https://localhost:8080/"
        },
        "outputId": "8b481f87-cbcc-4f47-c0a4-3784d76b965c"
      },
      "source": [
        "# train on all of taining data and use best hyperparameters to evaluate accuracy \n",
        "# on test set\n",
        "optimalmodel = result.best_estimator_\n",
        "optimalmodel.fit(X_train, y_train)\n",
        "y_predict = optimalmodel.predict(X_test)\n",
        "accuracy = metrics.accuracy_score(y_test, y_predict)\n",
        "print('accuracy on test set: %s' % accuracy)\n"
      ],
      "execution_count": 20,
      "outputs": [
        {
          "output_type": "stream",
          "name": "stdout",
          "text": [
            "accuracy on test set: 0.3793103448275862\n"
          ]
        }
      ]
    },
    {
      "cell_type": "markdown",
      "metadata": {
        "id": "RhFsr0JQkSrs"
      },
      "source": [
        "#**k-Nearest Neighbors**"
      ]
    },
    {
      "cell_type": "code",
      "metadata": {
        "id": "slj1vbb4iYY4",
        "colab": {
          "base_uri": "https://localhost:8080/"
        },
        "outputId": "f65f0042-da58-4e7c-e1b1-6a495dd67a7f"
      },
      "source": [
        "from sklearn.neighbors import KNeighborsClassifier\n",
        "#the paper uses 26 values of K ranging from l = 1 to |trainset|\n",
        "\n",
        "#define model \n",
        "model = KNeighborsClassifier()\n",
        "# define search space\n",
        "k_range = list(range(1, 27))\n",
        "space = dict()\n",
        "space['weights'] = ['uniform', 'distance']\n",
        "space['n_neighbors'] = k_range\n",
        "#define search \n",
        "search = GridSearchCV(model, space, scoring = 'accuracy', n_jobs = -1, cv = cv)\n",
        "#execute search \n",
        "result = search.fit(X_train, y_train)\n",
        "# summarize result\n",
        "print('Best Score: %s' % result.best_score_)\n",
        "print('Best Hyperparameters: %s' % result.best_params_)\n",
        "print('Best Estimator: %s' % result.best_estimator_)"
      ],
      "execution_count": 21,
      "outputs": [
        {
          "output_type": "stream",
          "name": "stdout",
          "text": [
            "Best Score: 0.31968810916179335\nBest Hyperparameters: {'n_neighbors': 14, 'weights': 'uniform'}\nBest Estimator: KNeighborsClassifier(n_neighbors=14)\n"
          ]
        }
      ]
    },
    {
      "cell_type": "code",
      "metadata": {
        "id": "QGIB2IuIs4Rl",
        "colab": {
          "base_uri": "https://localhost:8080/"
        },
        "outputId": "041424cc-2b17-49e8-92ca-3cdef9e84beb"
      },
      "source": [
        "# train on all of taining data and use best hyperparameters to evaluate accuracy \n",
        "# on test set\n",
        "optimalmodel = result.best_estimator_\n",
        "optimalmodel.fit(X_train, y_train)\n",
        "y_predict = optimalmodel.predict(X_test)\n",
        "accuracy = metrics.accuracy_score(y_test, y_predict)\n",
        "print('accuracy on test set: %s' % accuracy)"
      ],
      "execution_count": 22,
      "outputs": [
        {
          "output_type": "stream",
          "name": "stdout",
          "text": [
            "accuracy on test set: 0.39655172413793105\n"
          ]
        }
      ]
    },
    {
      "cell_type": "markdown",
      "metadata": {
        "id": "3fd4aNzv5pZz"
      },
      "source": [
        "# **Random Forest**:"
      ]
    },
    {
      "cell_type": "code",
      "metadata": {
        "id": "6XDy3eAI85W7",
        "colab": {
          "base_uri": "https://localhost:8080/"
        },
        "outputId": "6b0bf70d-61ee-4980-97ff-0a65b230b249"
      },
      "source": [
        "from sklearn.ensemble import RandomForestClassifier\n",
        "# the paper uses 1024 trees, & the size of the feature set considered for each \n",
        "# split is 1,2,4,5,8,12,16, & 20. \n",
        "\n",
        "#define model \n",
        "model = RandomForestClassifier()\n",
        "#define search space\n",
        "max_features = [1, 2, 4, 5, 8, 12, 16, 20]\n",
        "space = dict()\n",
        "space['n_estimators'] = [1024]\n",
        "space['criterion'] = ['gini']\n",
        "space['max_features'] = max_features\n",
        "#define search:\n",
        "search = GridSearchCV(model, space, scoring = 'accuracy', n_jobs = -1, cv = cv)\n",
        "#execute search\n",
        "result = search.fit(X_train, y_train)\n",
        "#summarize result\n",
        "print('Best Score: %s' % result.best_score_)\n",
        "print('Best Hyperparameters: %s' % result.best_params_)\n",
        "print('Best Estimator: %s' % result.best_estimator_)"
      ],
      "execution_count": 23,
      "outputs": [
        {
          "output_type": "stream",
          "name": "stdout",
          "text": [
            "Best Score: 0.2943469785575049\nBest Hyperparameters: {'criterion': 'gini', 'max_features': 4, 'n_estimators': 1024}\nBest Estimator: RandomForestClassifier(max_features=4, n_estimators=1024)\n"
          ]
        }
      ]
    },
    {
      "cell_type": "code",
      "metadata": {
        "id": "rMWeDHUedOk2",
        "colab": {
          "base_uri": "https://localhost:8080/"
        },
        "outputId": "1608f79d-5a54-48af-d427-feac6d736064"
      },
      "source": [
        "optimalmodel = result.best_estimator_\n",
        "optimalmodel.fit(X_train, y_train)\n",
        "y_predict = optimalmodel.predict(X_test)\n",
        "accuracy = metrics.accuracy_score(y_test, y_predict)\n",
        "print('accuracy on test set: %s' % accuracy)"
      ],
      "execution_count": 24,
      "outputs": [
        {
          "output_type": "stream",
          "name": "stdout",
          "text": [
            "accuracy on test set: 0.3275862068965517\n"
          ]
        }
      ]
    },
    {
      "source": [
        "# ** SVM: **"
      ],
      "cell_type": "markdown",
      "metadata": {}
    },
    {
      "cell_type": "code",
      "execution_count": 29,
      "metadata": {},
      "outputs": [
        {
          "output_type": "stream",
          "name": "stdout",
          "text": [
            "Best Score: 0.3235867446393762\nBest Hyperparameters: {'C': 1, 'gamma': 0.0001, 'kernel': 'linear'}\nBest Estimator: SVC(C=1, gamma=0.0001, kernel='linear')\n"
          ]
        }
      ],
      "source": [
        "from sklearn import model_selection\n",
        "from sklearn import svm\n",
        "\n",
        "# define search space\n",
        "model = svm.SVC()\n",
        "# define search space\n",
        "space = dict()\n",
        "space['C'] = [0.001, 0.01, 0.1, 1, 10, 100]\n",
        "space['gamma'] = [0.0001, 0.001, 0.01, 0.1]\n",
        "space['kernel'] = ['rbf', 'linear']\n",
        "#define search:\n",
        "search = GridSearchCV(model, space, scoring = 'accuracy', n_jobs = -1, cv = cv)\n",
        "#execute search\n",
        "result = search.fit(X_train, y_train)\n",
        "#summarize result\n",
        "print('Best Score: %s' % result.best_score_)\n",
        "print('Best Hyperparameters: %s' % result.best_params_)\n",
        "print('Best Estimator: %s' % result.best_estimator_)"
      ]
    },
    {
      "cell_type": "code",
      "execution_count": 30,
      "metadata": {},
      "outputs": [
        {
          "output_type": "stream",
          "name": "stdout",
          "text": [
            "accuracy on test set: 0.3620689655172414\n"
          ]
        }
      ],
      "source": [
        "optimalmodel = result.best_estimator_\n",
        "optimalmodel.fit(X_train, y_train)\n",
        "y_predict = optimalmodel.predict(X_test)\n",
        "accuracy = metrics.accuracy_score(y_test, y_predict)\n",
        "print('accuracy on test set: %s' % accuracy)"
      ]
    },
    {
      "cell_type": "code",
      "execution_count": null,
      "metadata": {},
      "outputs": [],
      "source": []
    }
  ]
}