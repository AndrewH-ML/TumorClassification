{
  "nbformat": 4,
  "nbformat_minor": 0,
  "metadata": {
    "colab": {
      "name": "PrimaryTumorAnalysis.ipynb",
      "provenance": [],
      "authorship_tag": "ABX9TyM/Df7QcEX87l/PJmB9TxFy",
      "include_colab_link": true
    },
    "kernelspec": {
      "name": "python3",
      "display_name": "Python 3"
    },
    "language_info": {
      "name": "python"
    }
  },
  "cells": [
    {
      "cell_type": "markdown",
      "metadata": {
        "id": "view-in-github",
        "colab_type": "text"
      },
      "source": [
        "<a href=\"https://colab.research.google.com/github/AndrewH707/TumorClassification/blob/main/PrimaryTumorAnalysis.ipynb\" target=\"_parent\"><img src=\"https://colab.research.google.com/assets/colab-badge.svg\" alt=\"Open In Colab\"/></a>"
      ]
    },
    {
      "cell_type": "code",
      "metadata": {
        "id": "iknO6Lv1xMyT"
      },
      "source": [
        "import pandas as pd\n",
        "import numpy as np\n",
        "from matplotlib import pyplot as plt\n",
        "from scipy.stats import ttest_ind "
      ],
      "execution_count": 57,
      "outputs": []
    },
    {
      "cell_type": "code",
      "metadata": {
        "colab": {
          "base_uri": "https://localhost:8080/",
          "height": 373
        },
        "id": "vVwiKMEo-TsU",
        "outputId": "d5676844-eb71-4b32-c187-f77985d47f1d"
      },
      "source": [
        "data = pd.read_csv('https://raw.githubusercontent.com/AndrewH707/TumorClassification/main/ML_Tumor_Accuracy.csv')\n",
        "data"
      ],
      "execution_count": 58,
      "outputs": [
        {
          "output_type": "execute_result",
          "data": {
            "text/html": [
              "<div>\n",
              "<style scoped>\n",
              "    .dataframe tbody tr th:only-of-type {\n",
              "        vertical-align: middle;\n",
              "    }\n",
              "\n",
              "    .dataframe tbody tr th {\n",
              "        vertical-align: top;\n",
              "    }\n",
              "\n",
              "    .dataframe thead th {\n",
              "        text-align: right;\n",
              "    }\n",
              "</style>\n",
              "<table border=\"1\" class=\"dataframe\">\n",
              "  <thead>\n",
              "    <tr style=\"text-align: right;\">\n",
              "      <th></th>\n",
              "      <th>Logistic Regression Train</th>\n",
              "      <th>Logistic Regression Test</th>\n",
              "      <th>KNN Train</th>\n",
              "      <th>KNN Test</th>\n",
              "      <th>Random Forest Train</th>\n",
              "      <th>Random Forest Test</th>\n",
              "      <th>SVM Train</th>\n",
              "      <th>SVM Test</th>\n",
              "    </tr>\n",
              "  </thead>\n",
              "  <tbody>\n",
              "    <tr>\n",
              "      <th>0</th>\n",
              "      <td>0.414597</td>\n",
              "      <td>0.490196</td>\n",
              "      <td>0.370893</td>\n",
              "      <td>0.372549</td>\n",
              "      <td>0.392375</td>\n",
              "      <td>0.431373</td>\n",
              "      <td>0.370414</td>\n",
              "      <td>0.431373</td>\n",
              "    </tr>\n",
              "    <tr>\n",
              "      <th>1</th>\n",
              "      <td>0.375120</td>\n",
              "      <td>0.431373</td>\n",
              "      <td>0.376993</td>\n",
              "      <td>0.450980</td>\n",
              "      <td>0.390370</td>\n",
              "      <td>0.450980</td>\n",
              "      <td>0.359434</td>\n",
              "      <td>0.450980</td>\n",
              "    </tr>\n",
              "    <tr>\n",
              "      <th>2</th>\n",
              "      <td>0.401351</td>\n",
              "      <td>0.411765</td>\n",
              "      <td>0.348540</td>\n",
              "      <td>0.294118</td>\n",
              "      <td>0.399303</td>\n",
              "      <td>0.411765</td>\n",
              "      <td>0.401264</td>\n",
              "      <td>0.490196</td>\n",
              "    </tr>\n",
              "    <tr>\n",
              "      <th>3</th>\n",
              "      <td>0.451503</td>\n",
              "      <td>0.411765</td>\n",
              "      <td>0.344052</td>\n",
              "      <td>0.372549</td>\n",
              "      <td>0.412680</td>\n",
              "      <td>0.450980</td>\n",
              "      <td>0.368584</td>\n",
              "      <td>0.450980</td>\n",
              "    </tr>\n",
              "    <tr>\n",
              "      <th>4</th>\n",
              "      <td>0.375163</td>\n",
              "      <td>0.392157</td>\n",
              "      <td>0.383617</td>\n",
              "      <td>0.411765</td>\n",
              "      <td>0.394989</td>\n",
              "      <td>0.450980</td>\n",
              "      <td>0.383922</td>\n",
              "      <td>0.509804</td>\n",
              "    </tr>\n",
              "    <tr>\n",
              "      <th>5</th>\n",
              "      <td>0.399085</td>\n",
              "      <td>0.352941</td>\n",
              "      <td>0.361656</td>\n",
              "      <td>0.392157</td>\n",
              "      <td>0.386013</td>\n",
              "      <td>0.333333</td>\n",
              "      <td>0.377168</td>\n",
              "      <td>0.490196</td>\n",
              "    </tr>\n",
              "    <tr>\n",
              "      <th>6</th>\n",
              "      <td>0.387930</td>\n",
              "      <td>0.470588</td>\n",
              "      <td>0.322440</td>\n",
              "      <td>0.411765</td>\n",
              "      <td>0.392636</td>\n",
              "      <td>0.392157</td>\n",
              "      <td>0.388192</td>\n",
              "      <td>0.411765</td>\n",
              "    </tr>\n",
              "    <tr>\n",
              "      <th>7</th>\n",
              "      <td>0.412070</td>\n",
              "      <td>0.392157</td>\n",
              "      <td>0.342222</td>\n",
              "      <td>0.450980</td>\n",
              "      <td>0.433813</td>\n",
              "      <td>0.352941</td>\n",
              "      <td>0.401525</td>\n",
              "      <td>0.352941</td>\n",
              "    </tr>\n",
              "    <tr>\n",
              "      <th>8</th>\n",
              "      <td>0.383747</td>\n",
              "      <td>0.431373</td>\n",
              "      <td>0.337734</td>\n",
              "      <td>0.470588</td>\n",
              "      <td>0.359608</td>\n",
              "      <td>0.490196</td>\n",
              "      <td>0.416340</td>\n",
              "      <td>0.470588</td>\n",
              "    </tr>\n",
              "    <tr>\n",
              "      <th>9</th>\n",
              "      <td>0.412288</td>\n",
              "      <td>0.490196</td>\n",
              "      <td>0.361830</td>\n",
              "      <td>0.333333</td>\n",
              "      <td>0.403834</td>\n",
              "      <td>0.333333</td>\n",
              "      <td>0.377168</td>\n",
              "      <td>0.470588</td>\n",
              "    </tr>\n",
              "  </tbody>\n",
              "</table>\n",
              "</div>"
            ],
            "text/plain": [
              "   Logistic Regression Train   Logistic Regression Test  ...   SVM Train   SVM Test \n",
              "0                   0.414597                   0.490196  ...    0.370414    0.431373\n",
              "1                   0.375120                   0.431373  ...    0.359434    0.450980\n",
              "2                   0.401351                   0.411765  ...    0.401264    0.490196\n",
              "3                   0.451503                   0.411765  ...    0.368584    0.450980\n",
              "4                   0.375163                   0.392157  ...    0.383922    0.509804\n",
              "5                   0.399085                   0.352941  ...    0.377168    0.490196\n",
              "6                   0.387930                   0.470588  ...    0.388192    0.411765\n",
              "7                   0.412070                   0.392157  ...    0.401525    0.352941\n",
              "8                   0.383747                   0.431373  ...    0.416340    0.470588\n",
              "9                   0.412288                   0.490196  ...    0.377168    0.470588\n",
              "\n",
              "[10 rows x 8 columns]"
            ]
          },
          "metadata": {
            "tags": []
          },
          "execution_count": 58
        }
      ]
    },
    {
      "cell_type": "code",
      "metadata": {
        "colab": {
          "base_uri": "https://localhost:8080/"
        },
        "id": "voNkpMiPhHcZ",
        "outputId": "2336aa82-73e2-4c28-9138-257bf10da66c"
      },
      "source": [
        "data = data.to_numpy()\n",
        "print(\"Data Frame Shape: \", data.shape)\n",
        "print(\"Data: \" + \"\\n\")\n",
        "# first column belongs to Column \"Logistic Regression Train\""
      ],
      "execution_count": 59,
      "outputs": [
        {
          "output_type": "stream",
          "text": [
            "Data Frame Shape:  (10, 8)\n",
            "Data: \n",
            "\n"
          ],
          "name": "stdout"
        }
      ]
    },
    {
      "cell_type": "code",
      "metadata": {
        "colab": {
          "base_uri": "https://localhost:8080/",
          "height": 189
        },
        "id": "Jf7kI2qXADfH",
        "outputId": "4f38bb51-eeca-470f-9b18-e343b80b424d"
      },
      "source": [
        "# Mean Training Set Performance\n",
        "training = data[:, [0, 2, 4, 6]]\n",
        "print(\"Training Data\", training.shape)\n",
        "mean_training = np.mean(training, axis = 0)\n",
        "mean_training = pd.DataFrame(mean_training, index = ['Log', 'K-NN', 'RF', 'SVM'], columns=[\"Mean Training Accuracy\"])\n",
        "mean_training"
      ],
      "execution_count": 60,
      "outputs": [
        {
          "output_type": "stream",
          "text": [
            "Training Data (10, 4)\n"
          ],
          "name": "stdout"
        },
        {
          "output_type": "execute_result",
          "data": {
            "text/html": [
              "<div>\n",
              "<style scoped>\n",
              "    .dataframe tbody tr th:only-of-type {\n",
              "        vertical-align: middle;\n",
              "    }\n",
              "\n",
              "    .dataframe tbody tr th {\n",
              "        vertical-align: top;\n",
              "    }\n",
              "\n",
              "    .dataframe thead th {\n",
              "        text-align: right;\n",
              "    }\n",
              "</style>\n",
              "<table border=\"1\" class=\"dataframe\">\n",
              "  <thead>\n",
              "    <tr style=\"text-align: right;\">\n",
              "      <th></th>\n",
              "      <th>Mean Training Accuracy</th>\n",
              "    </tr>\n",
              "  </thead>\n",
              "  <tbody>\n",
              "    <tr>\n",
              "      <th>Log</th>\n",
              "      <td>0.401285</td>\n",
              "    </tr>\n",
              "    <tr>\n",
              "      <th>K-NN</th>\n",
              "      <td>0.354998</td>\n",
              "    </tr>\n",
              "    <tr>\n",
              "      <th>RF</th>\n",
              "      <td>0.396562</td>\n",
              "    </tr>\n",
              "    <tr>\n",
              "      <th>SVM</th>\n",
              "      <td>0.384401</td>\n",
              "    </tr>\n",
              "  </tbody>\n",
              "</table>\n",
              "</div>"
            ],
            "text/plain": [
              "      Mean Training Accuracy\n",
              "Log                 0.401285\n",
              "K-NN                0.354998\n",
              "RF                  0.396562\n",
              "SVM                 0.384401"
            ]
          },
          "metadata": {
            "tags": []
          },
          "execution_count": 60
        }
      ]
    },
    {
      "cell_type": "code",
      "metadata": {
        "colab": {
          "base_uri": "https://localhost:8080/",
          "height": 189
        },
        "id": "B9wR-V8DvFhH",
        "outputId": "0cd5e240-d421-4fe2-b1ef-1bd3b191229e"
      },
      "source": [
        "# Mean Test Set Performance\n",
        "test = data[:, [1, 3, 5, 7]]\n",
        "print(\"Training Data\", training.shape)\n",
        "mean_test = np.mean(test, axis = 0)\n",
        "mean_test = pd.DataFrame(mean_test, index = ['Log', 'K-NN', 'RF', 'SVM'], columns=[\"Mean Test Accuracy\"])\n",
        "mean_test"
      ],
      "execution_count": 61,
      "outputs": [
        {
          "output_type": "stream",
          "text": [
            "Training Data (10, 4)\n"
          ],
          "name": "stdout"
        },
        {
          "output_type": "execute_result",
          "data": {
            "text/html": [
              "<div>\n",
              "<style scoped>\n",
              "    .dataframe tbody tr th:only-of-type {\n",
              "        vertical-align: middle;\n",
              "    }\n",
              "\n",
              "    .dataframe tbody tr th {\n",
              "        vertical-align: top;\n",
              "    }\n",
              "\n",
              "    .dataframe thead th {\n",
              "        text-align: right;\n",
              "    }\n",
              "</style>\n",
              "<table border=\"1\" class=\"dataframe\">\n",
              "  <thead>\n",
              "    <tr style=\"text-align: right;\">\n",
              "      <th></th>\n",
              "      <th>Mean Test Accuracy</th>\n",
              "    </tr>\n",
              "  </thead>\n",
              "  <tbody>\n",
              "    <tr>\n",
              "      <th>Log</th>\n",
              "      <td>0.427451</td>\n",
              "    </tr>\n",
              "    <tr>\n",
              "      <th>K-NN</th>\n",
              "      <td>0.396078</td>\n",
              "    </tr>\n",
              "    <tr>\n",
              "      <th>RF</th>\n",
              "      <td>0.409804</td>\n",
              "    </tr>\n",
              "    <tr>\n",
              "      <th>SVM</th>\n",
              "      <td>0.452941</td>\n",
              "    </tr>\n",
              "  </tbody>\n",
              "</table>\n",
              "</div>"
            ],
            "text/plain": [
              "      Mean Test Accuracy\n",
              "Log             0.427451\n",
              "K-NN            0.396078\n",
              "RF              0.409804\n",
              "SVM             0.452941"
            ]
          },
          "metadata": {
            "tags": []
          },
          "execution_count": 61
        }
      ]
    },
    {
      "cell_type": "code",
      "metadata": {
        "id": "_4dL2eYfBr1d",
        "colab": {
          "base_uri": "https://localhost:8080/",
          "height": 250
        },
        "outputId": "6b66ee0f-4585-4123-c25a-1d734560d74a"
      },
      "source": [
        "# Lets do a t-test for training \n",
        "# perform ttest to compare algorithm performance per dataset\n",
        "training_logvsKnn = ttest_ind(data[:, 0], data[:, 2], equal_var = False)[1]\n",
        "training_logvsRF = ttest_ind(data[:,0], data[:, 4], equal_var = False )[1]\n",
        "training_logvsSVM = ttest_ind(data[:,0], data[:, 6])[1]\n",
        "training_KnnvsSVM = ttest_ind(data[:, 2], data[:, 6])[1]\n",
        "training_KnnvsRF = ttest_ind(data[:, 2], data[:, 4])[1]\n",
        "training_RFvsSVM = ttest_ind(data[:, 4], data[:, 6])[1]\n",
        "training_p_value = np.array([training_logvsKnn, training_logvsRF, training_logvsSVM, training_KnnvsSVM, training_KnnvsRF, training_RFvsSVM])\n",
        "\n",
        "ptable = pd.DataFrame({'Training': training_p_value}, index = ['Log. vs K-NN', \"Log vs RF\", 'Log vs SVM', 'K-NN vs SVM', 'K-NN vs RF', 'RF vs SVM'])\n",
        "print(\"\\033[1m\" + \"p-vlaues: t-test on test-set performance across 3 trials per dataset\" + \"\\033[0m\")\n",
        "ptable"
      ],
      "execution_count": 62,
      "outputs": [
        {
          "output_type": "stream",
          "text": [
            "\u001b[1mp-vlaues: t-test on test-set performance across 3 trials per dataset\u001b[0m\n"
          ],
          "name": "stdout"
        },
        {
          "output_type": "execute_result",
          "data": {
            "text/html": [
              "<div>\n",
              "<style scoped>\n",
              "    .dataframe tbody tr th:only-of-type {\n",
              "        vertical-align: middle;\n",
              "    }\n",
              "\n",
              "    .dataframe tbody tr th {\n",
              "        vertical-align: top;\n",
              "    }\n",
              "\n",
              "    .dataframe thead th {\n",
              "        text-align: right;\n",
              "    }\n",
              "</style>\n",
              "<table border=\"1\" class=\"dataframe\">\n",
              "  <thead>\n",
              "    <tr style=\"text-align: right;\">\n",
              "      <th></th>\n",
              "      <th>Training</th>\n",
              "    </tr>\n",
              "  </thead>\n",
              "  <tbody>\n",
              "    <tr>\n",
              "      <th>Log. vs K-NN</th>\n",
              "      <td>0.000134</td>\n",
              "    </tr>\n",
              "    <tr>\n",
              "      <th>Log vs RF</th>\n",
              "      <td>0.623803</td>\n",
              "    </tr>\n",
              "    <tr>\n",
              "      <th>Log vs SVM</th>\n",
              "      <td>0.082351</td>\n",
              "    </tr>\n",
              "    <tr>\n",
              "      <th>K-NN vs SVM</th>\n",
              "      <td>0.002203</td>\n",
              "    </tr>\n",
              "    <tr>\n",
              "      <th>K-NN vs RF</th>\n",
              "      <td>0.000126</td>\n",
              "    </tr>\n",
              "    <tr>\n",
              "      <th>RF vs SVM</th>\n",
              "      <td>0.155125</td>\n",
              "    </tr>\n",
              "  </tbody>\n",
              "</table>\n",
              "</div>"
            ],
            "text/plain": [
              "              Training\n",
              "Log. vs K-NN  0.000134\n",
              "Log vs RF     0.623803\n",
              "Log vs SVM    0.082351\n",
              "K-NN vs SVM   0.002203\n",
              "K-NN vs RF    0.000126\n",
              "RF vs SVM     0.155125"
            ]
          },
          "metadata": {
            "tags": []
          },
          "execution_count": 62
        }
      ]
    },
    {
      "cell_type": "code",
      "metadata": {
        "colab": {
          "base_uri": "https://localhost:8080/",
          "height": 267
        },
        "id": "0zPaYonJP2pf",
        "outputId": "bef22302-3006-4122-8681-330df9ae2440"
      },
      "source": [
        "# Lets do a t-test for test accuracy\n",
        "# perform ttest to compare algorithm performance per dataset\n",
        "test_logvsKnn = ttest_ind(data[:, 1], data[:, 3], equal_var = False)[1]\n",
        "test_logvsRF = ttest_ind(data[:,1], data[:, 5], equal_var = False )[1]\n",
        "test_logvsSVM = ttest_ind(data[:,1], data[:, 7])[1]\n",
        "test_KnnvsSVM = ttest_ind(data[:, 3], data[:, 7])[1]\n",
        "test_KnnvsRF = ttest_ind(data[:, 3], data[:, 5])[1]\n",
        "test_RFvsSVM = ttest_ind(data[:, 5], data[:, 7])[1]\n",
        "test_p_value = np.array([test_logvsKnn, test_logvsRF, test_logvsSVM, test_KnnvsSVM, test_KnnvsRF, test_RFvsSVM])\n",
        "\n",
        "print(training_logvsKnn)\n",
        "ptable = pd.DataFrame({'Training': test_p_value}, index = ['Log. vs K-NN', \"Log vs RF\", 'Log vs SVM', 'K-NN vs SVM', 'K-NN vs RF', 'RF vs SVM'])\n",
        "print(\"\\033[1m\" + \"p-vlaues: t-test on test-set performance across 3 trials per dataset\" + \"\\033[0m\")\n",
        "ptable"
      ],
      "execution_count": 63,
      "outputs": [
        {
          "output_type": "stream",
          "text": [
            "0.0001337477273917804\n",
            "\u001b[1mp-vlaues: t-test on test-set performance across 3 trials per dataset\u001b[0m\n"
          ],
          "name": "stdout"
        },
        {
          "output_type": "execute_result",
          "data": {
            "text/html": [
              "<div>\n",
              "<style scoped>\n",
              "    .dataframe tbody tr th:only-of-type {\n",
              "        vertical-align: middle;\n",
              "    }\n",
              "\n",
              "    .dataframe tbody tr th {\n",
              "        vertical-align: top;\n",
              "    }\n",
              "\n",
              "    .dataframe thead th {\n",
              "        text-align: right;\n",
              "    }\n",
              "</style>\n",
              "<table border=\"1\" class=\"dataframe\">\n",
              "  <thead>\n",
              "    <tr style=\"text-align: right;\">\n",
              "      <th></th>\n",
              "      <th>Training</th>\n",
              "    </tr>\n",
              "  </thead>\n",
              "  <tbody>\n",
              "    <tr>\n",
              "      <th>Log. vs K-NN</th>\n",
              "      <td>0.182074</td>\n",
              "    </tr>\n",
              "    <tr>\n",
              "      <th>Log vs RF</th>\n",
              "      <td>0.443430</td>\n",
              "    </tr>\n",
              "    <tr>\n",
              "      <th>Log vs SVM</th>\n",
              "      <td>0.225368</td>\n",
              "    </tr>\n",
              "    <tr>\n",
              "      <th>K-NN vs SVM</th>\n",
              "      <td>0.022020</td>\n",
              "    </tr>\n",
              "    <tr>\n",
              "      <th>K-NN vs RF</th>\n",
              "      <td>0.584853</td>\n",
              "    </tr>\n",
              "    <tr>\n",
              "      <th>RF vs SVM</th>\n",
              "      <td>0.072631</td>\n",
              "    </tr>\n",
              "  </tbody>\n",
              "</table>\n",
              "</div>"
            ],
            "text/plain": [
              "              Training\n",
              "Log. vs K-NN  0.182074\n",
              "Log vs RF     0.443430\n",
              "Log vs SVM    0.225368\n",
              "K-NN vs SVM   0.022020\n",
              "K-NN vs RF    0.584853\n",
              "RF vs SVM     0.072631"
            ]
          },
          "metadata": {
            "tags": []
          },
          "execution_count": 63
        }
      ]
    },
    {
      "cell_type": "code",
      "metadata": {
        "id": "nWYDBUYpkY13"
      },
      "source": [
        "# Print annotated mean test set performance\n",
        "mean_test.to_csv('MeanTest.csv')"
      ],
      "execution_count": 66,
      "outputs": []
    }
  ]
}