{
 "metadata": {
  "language_info": {
   "codemirror_mode": {
    "name": "ipython",
    "version": 3
   },
   "file_extension": ".py",
   "mimetype": "text/x-python",
   "name": "python",
   "nbconvert_exporter": "python",
   "pygments_lexer": "ipython3",
   "version": "3.8.3"
  },
  "orig_nbformat": 2,
  "kernelspec": {
   "name": "python383jvsc74a57bd0a65e3aa414b4e42c60a32bfe81ca2ab7f2052218ca2c071f2deadcde481150db",
   "display_name": "Python 3.8.3 64-bit ('base': conda)"
  }
 },
 "nbformat": 4,
 "nbformat_minor": 2,
 "cells": [
  {
   "cell_type": "code",
   "execution_count": 756,
   "metadata": {},
   "outputs": [],
   "source": [
    "import pandas as pd\n",
    "import numpy as np\n",
    "from sklearn import model_selection\n",
    "from sklearn import svm"
   ]
  },
  {
   "cell_type": "code",
   "execution_count": 775,
   "metadata": {},
   "outputs": [],
   "source": [
    "tumor = pd.read_csv('https://raw.githubusercontent.com/AndrewH707/BrainTumorDetection/main/primary-tumor.csv')"
   ]
  },
  {
   "cell_type": "code",
   "execution_count": 776,
   "metadata": {},
   "outputs": [
    {
     "output_type": "execute_result",
     "data": {
      "text/plain": [
       "age                  0\n",
       "sex                  1\n",
       "histologic-type     65\n",
       "degree-of-diffe    139\n",
       "bone                 0\n",
       "bone-marrow          0\n",
       "lung                 0\n",
       "pleura               0\n",
       "peritoneum           0\n",
       "liver                0\n",
       "brain                0\n",
       "skin                 1\n",
       "neck                 0\n",
       "supraclavicular      0\n",
       "axillar              1\n",
       "mediastinum          0\n",
       "abdominal            0\n",
       "class                0\n",
       "dtype: int64"
      ]
     },
     "metadata": {},
     "execution_count": 776
    }
   ],
   "source": [
    "tumor.isnull().sum()"
   ]
  },
  {
   "cell_type": "code",
   "execution_count": 777,
   "metadata": {},
   "outputs": [],
   "source": [
    "column1 = tumor['degree-of-diffe'].fillna('base') #instead of dropping na, we can fill with a base\n",
    "tumor['degree-of-diffe'] = column1\n",
    "column2 = tumor['histologic-type'].fillna('unknown')\n",
    "tumor['histologic-type'] = column2\n",
    "column3 = tumor['axillar'].fillna(0)\n",
    "tumor['axillar'] = column3\n",
    "column4 = tumor['skin'].fillna(0)\n",
    "tumor['skin'] = column3"
   ]
  },
  {
   "cell_type": "code",
   "execution_count": 778,
   "metadata": {},
   "outputs": [],
   "source": [
    "tumor['bone'].replace({True: 1, False: 0}, inplace=True)\n",
    "tumor['bone-marrow'].replace({True: 1, False: 0}, inplace=True)\n",
    "tumor['lung'].replace({True: 1, False: 0}, inplace=True)\n",
    "tumor['pleura'].replace({True: 1, False: 0}, inplace=True)\n",
    "tumor['peritoneum'].replace({True: 1, False: 0}, inplace=True)\n",
    "tumor['liver'].replace({True: 1, False: 0}, inplace=True)\n",
    "tumor['brain'].replace({True: 1, False: 0}, inplace=True)\n",
    "tumor['skin'].replace({True: 1, False: 0}, inplace=True)\n",
    "tumor['neck'].replace({True: 1, False: 0}, inplace=True)\n",
    "tumor['supraclavicular'].replace({True: 1, False: 0}, inplace=True)\n",
    "tumor['axillar'].replace({True: 1, False: 0}, inplace=True)\n",
    "tumor['mediastinum'].replace({True: 1, False: 0}, inplace=True)\n",
    "tumor['abdominal'].replace({True: 1, False: 0}, inplace=True)"
   ]
  },
  {
   "cell_type": "code",
   "execution_count": 779,
   "metadata": {},
   "outputs": [
    {
     "output_type": "execute_result",
     "data": {
      "text/plain": [
       "class\n",
       "bladder               2\n",
       "breast               18\n",
       "cervix uteri          2\n",
       "colon                14\n",
       "corpus uteri          6\n",
       "duoden and sm.int     1\n",
       "esophagus             9\n",
       "gallbladder          15\n",
       "head and neck        14\n",
       "kidney               23\n",
       "liver                 7\n",
       "lung                 81\n",
       "ovary                19\n",
       "pancreas             28\n",
       "prostate              8\n",
       "rectum                6\n",
       "salivary glands       2\n",
       "stomach              38\n",
       "testis                1\n",
       "thyroid              14\n",
       "vagina                1\n",
       "Name: age, dtype: int64"
      ]
     },
     "metadata": {},
     "execution_count": 779
    }
   ],
   "source": [
    "(tumor.groupby('class').count()).get('age')"
   ]
  },
  {
   "cell_type": "code",
   "execution_count": 780,
   "metadata": {},
   "outputs": [],
   "source": [
    "tumor['class'].replace({'bladder': 0, 'breast': 1, 'cervix uteri': 2, 'colon': 3, 'corpus uteri': 4, 'duoden and sm.int': 5, 'esophagus': 6, 'gallbladder': 7, 'head and neck': 8, 'kidney': 9, 'liver': 10, 'lung': 11, 'ovary': 12, 'pancreas': 13, 'prostate': 14, 'rectum': 15, 'salivary glands': 16, 'stomach': 17, 'testis': 18, 'thyroid': 19, 'vagina': 20}, inplace=True)\n",
    "\n",
    "tumor['age'].replace({'<30': 2, '30-59': 1, '>=60': 0}, inplace=True)\n",
    "\n",
    "tumor['histologic-type'].replace({'unknown': 0, 'adefalse': 1, 'epidermoid': 2, 'anaplastic': 3}, inplace=True)\n",
    "\n",
    "tumor['sex'].replace({'male': 0, 'female': 1}, inplace=True)\n",
    "\n",
    "tumor['degree-of-diffe'].replace({'base': 0, 'poorly': 3, 'fairly': 2, 'well': 1}, inplace=True)"
   ]
  },
  {
   "cell_type": "code",
   "execution_count": 781,
   "metadata": {},
   "outputs": [],
   "source": [
    "tumor = tumor.dropna()"
   ]
  },
  {
   "cell_type": "code",
   "execution_count": 782,
   "metadata": {},
   "outputs": [
    {
     "output_type": "execute_result",
     "data": {
      "text/plain": [
       "age                0\n",
       "sex                0\n",
       "histologic-type    0\n",
       "degree-of-diffe    0\n",
       "bone               0\n",
       "bone-marrow        0\n",
       "lung               0\n",
       "pleura             0\n",
       "peritoneum         0\n",
       "liver              0\n",
       "brain              0\n",
       "skin               0\n",
       "neck               0\n",
       "supraclavicular    0\n",
       "axillar            0\n",
       "mediastinum        0\n",
       "abdominal          0\n",
       "class              0\n",
       "dtype: int64"
      ]
     },
     "metadata": {},
     "execution_count": 782
    }
   ],
   "source": [
    "tumor.isnull().sum()"
   ]
  },
  {
   "cell_type": "code",
   "execution_count": 783,
   "metadata": {},
   "outputs": [],
   "source": [
    "tumor_features = ['age', 'sex', 'histologic-type', 'degree-of-diffe', 'bone', 'bone-marrow', 'lung', 'pleura', 'peritoneum', 'liver', 'brain', 'skin', 'neck', 'supraclavicular', 'axillar', 'mediastinum', 'abdominal']"
   ]
  },
  {
   "cell_type": "code",
   "execution_count": 784,
   "metadata": {},
   "outputs": [],
   "source": [
    "X = tumor.loc[:,tumor_features].values\n",
    "Y = tumor.loc[:,['class']]"
   ]
  },
  {
   "cell_type": "code",
   "execution_count": 785,
   "metadata": {},
   "outputs": [
    {
     "output_type": "stream",
     "name": "stdout",
     "text": [
      "0.3763440860215054\n"
     ]
    }
   ],
   "source": [
    "X_train, X_test, Y_train, Y_test = model_selection.train_test_split(X, Y, test_size = 0.3, random_state = 1)\n",
    "clf_ob1 = svm.SVC(kernel= 'linear', C=1).fit(X_train, np.ravel(Y_train))\n",
    "print(clf_ob1.score(X_test, Y_test))"
   ]
  },
  {
   "cell_type": "code",
   "execution_count": 786,
   "metadata": {},
   "outputs": [
    {
     "output_type": "stream",
     "name": "stdout",
     "text": [
      "0.41935483870967744\n"
     ]
    }
   ],
   "source": [
    "X_train, X_test, Y_train, Y_test = model_selection.train_test_split(X, Y, test_size = 0.2, random_state = 1)\n",
    "clf_ob2 = svm.SVC(kernel= 'linear', C=1).fit(X_train, np.ravel(Y_train))\n",
    "print(clf_ob2.score(X_test, Y_test))"
   ]
  },
  {
   "cell_type": "code",
   "execution_count": 787,
   "metadata": {},
   "outputs": [
    {
     "output_type": "stream",
     "name": "stdout",
     "text": [
      "0.3548387096774194\n"
     ]
    }
   ],
   "source": [
    "X_train, X_test, Y_train, Y_test = model_selection.train_test_split(X, Y, test_size = 0.4, random_state = 1)\n",
    "clf_ob3 = svm.SVC(kernel= 'linear', C=1).fit(X_train, np.ravel(Y_train))\n",
    "print(clf_ob3.score(X_test, Y_test))"
   ]
  },
  {
   "cell_type": "code",
   "execution_count": 788,
   "metadata": {},
   "outputs": [],
   "source": [
    "# Remove classes that are too little\n",
    "tumor_kfold = tumor[tumor['class'] != 20]\n",
    "tumor_kfold = tumor_kfold[tumor_kfold['class'] != 18]\n",
    "tumor_kfold = tumor_kfold[tumor_kfold['class'] != 16]\n",
    "tumor_kfold = tumor_kfold[tumor_kfold['class'] != 5]\n",
    "tumor_kfold = tumor_kfold[tumor_kfold['class'] != 2]\n",
    "tumor_kfold = tumor_kfold[tumor_kfold['class'] != 0]\n"
   ]
  },
  {
   "cell_type": "code",
   "execution_count": 789,
   "metadata": {},
   "outputs": [
    {
     "output_type": "execute_result",
     "data": {
      "text/plain": [
       "class\n",
       "1     18\n",
       "3     14\n",
       "4      6\n",
       "6      9\n",
       "7     15\n",
       "8     14\n",
       "9     23\n",
       "10     7\n",
       "11    81\n",
       "12    19\n",
       "13    28\n",
       "14     8\n",
       "15     6\n",
       "17    38\n",
       "19    13\n",
       "Name: age, dtype: int64"
      ]
     },
     "metadata": {},
     "execution_count": 789
    }
   ],
   "source": [
    "tumor_kfold.groupby('class').count().get('age')"
   ]
  },
  {
   "cell_type": "code",
   "execution_count": 790,
   "metadata": {},
   "outputs": [],
   "source": [
    "X = tumor_kfold.loc[:,tumor_features].values\n",
    "Y = tumor_kfold.loc[:,['class']]"
   ]
  },
  {
   "cell_type": "code",
   "execution_count": 791,
   "metadata": {},
   "outputs": [
    {
     "output_type": "stream",
     "name": "stdout",
     "text": [
      "0.4166666666666667\n"
     ]
    }
   ],
   "source": [
    "X_train, X_test, Y_train, Y_test = model_selection.train_test_split(X, Y, test_size = 0.2, random_state = 1)\n",
    "clf_ob4 = svm.SVC(kernel= 'linear', C=1).fit(X_train, np.ravel(Y_train))\n",
    "print(clf_ob4.score(X_test, Y_test))"
   ]
  },
  {
   "cell_type": "code",
   "execution_count": 792,
   "metadata": {},
   "outputs": [
    {
     "output_type": "execute_result",
     "data": {
      "text/plain": [
       "array([0.43333333, 0.36666667, 0.45      , 0.35      , 0.37288136])"
      ]
     },
     "metadata": {},
     "execution_count": 792
    }
   ],
   "source": [
    "scores_res = model_selection.cross_val_score(clf_ob4, X, np.ravel(Y), cv=5)\n",
    "scores_res"
   ]
  },
  {
   "cell_type": "code",
   "execution_count": null,
   "metadata": {},
   "outputs": [],
   "source": []
  },
  {
   "cell_type": "code",
   "execution_count": null,
   "metadata": {},
   "outputs": [],
   "source": []
  }
 ]
}