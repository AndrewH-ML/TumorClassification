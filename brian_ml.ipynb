{
 "metadata": {
  "language_info": {
   "codemirror_mode": {
    "name": "ipython",
    "version": 3
   },
   "file_extension": ".py",
   "mimetype": "text/x-python",
   "name": "python",
   "nbconvert_exporter": "python",
   "pygments_lexer": "ipython3",
   "version": "3.8.3"
  },
  "orig_nbformat": 2,
  "kernelspec": {
   "name": "python383jvsc74a57bd0a65e3aa414b4e42c60a32bfe81ca2ab7f2052218ca2c071f2deadcde481150db",
   "display_name": "Python 3.8.3 64-bit ('base': conda)"
  }
 },
 "nbformat": 4,
 "nbformat_minor": 2,
 "cells": [
  {
   "cell_type": "code",
   "execution_count": 127,
   "metadata": {},
   "outputs": [],
   "source": [
    "import pandas as pd\n",
    "import numpy as np\n",
    "from sklearn import model_selection\n",
    "from sklearn import svm"
   ]
  },
  {
   "cell_type": "code",
   "execution_count": 128,
   "metadata": {},
   "outputs": [],
   "source": [
    "tumor = pd.read_csv('https://raw.githubusercontent.com/AndrewH707/BrainTumorDetection/main/primary-tumor.csv')"
   ]
  },
  {
   "cell_type": "code",
   "execution_count": 129,
   "metadata": {},
   "outputs": [],
   "source": [
    "column = tumor['degree-of-diffe'].fillna('base') #instead of dropping na, we can fill with a base\n",
    "tumor['degree-of-diffe'] = column\n",
    "tumor = tumor.dropna()"
   ]
  },
  {
   "cell_type": "code",
   "execution_count": 130,
   "metadata": {},
   "outputs": [],
   "source": [
    "tumor['bone'].replace({True: 1, False: 0}, inplace=True)\n",
    "tumor['bone-marrow'].replace({True: 1, False: 0}, inplace=True)\n",
    "tumor['lung'].replace({True: 1, False: 0}, inplace=True)\n",
    "tumor['pleura'].replace({True: 1, False: 0}, inplace=True)\n",
    "tumor['peritoneum'].replace({True: 1, False: 0}, inplace=True)\n",
    "tumor['liver'].replace({True: 1, False: 0}, inplace=True)\n",
    "tumor['brain'].replace({True: 1, False: 0}, inplace=True)\n",
    "tumor['skin'].replace({True: 1, False: 0}, inplace=True)\n",
    "tumor['neck'].replace({True: 1, False: 0}, inplace=True)\n",
    "tumor['supraclavicular'].replace({True: 1, False: 0}, inplace=True)\n",
    "tumor['axillar'].replace({True: 1, False: 0}, inplace=True)\n",
    "tumor['mediastinum'].replace({True: 1, False: 0}, inplace=True)\n",
    "tumor['abdominal'].replace({True: 1, False: 0}, inplace=True)"
   ]
  },
  {
   "cell_type": "code",
   "execution_count": 131,
   "metadata": {},
   "outputs": [
    {
     "output_type": "execute_result",
     "data": {
      "text/plain": [
       "class\n",
       "breast               17\n",
       "cervix uteri          2\n",
       "colon                13\n",
       "corpus uteri          6\n",
       "duoden and sm.int     1\n",
       "esophagus             5\n",
       "gallbladder          14\n",
       "head and neck        10\n",
       "kidney               20\n",
       "liver                 7\n",
       "lung                 43\n",
       "ovary                17\n",
       "pancreas             26\n",
       "prostate              8\n",
       "rectum                6\n",
       "salivary glands       2\n",
       "stomach              33\n",
       "testis                1\n",
       "thyroid              10\n",
       "vagina                1\n",
       "Name: age, dtype: int64"
      ]
     },
     "metadata": {},
     "execution_count": 131
    }
   ],
   "source": [
    "(tumor.groupby('class').count()).get('age')"
   ]
  },
  {
   "cell_type": "code",
   "execution_count": 132,
   "metadata": {},
   "outputs": [],
   "source": [
    "tumor['class'].replace({'bladder': 0, 'breast': 1, 'cervix uteri': 2, 'colon': 3, 'corpus uteri': 4, 'duoden and sm.int': 5, 'esophagus': 6, 'gallbladder': 7, 'head and neck': 8, 'kidney': 9, 'liver': 10, 'lung': 11, 'ovary': 12, 'pancreas': 13, 'prostate': 14, 'rectum': 15, 'salivary glands': 16, 'stomach': 17, 'testis': 18, 'thyroid': 19, 'vagina': 20}, inplace=True)"
   ]
  },
  {
   "cell_type": "code",
   "execution_count": 133,
   "metadata": {},
   "outputs": [
    {
     "output_type": "execute_result",
     "data": {
      "text/plain": [
       "       age     sex histologic-type degree-of-diffe  bone  bone-marrow  lung  \\\n",
       "2    30-59  female        adefalse            base     0            0     0   \n",
       "3    30-59  female        adefalse            base     0            0     0   \n",
       "4    30-59  female        adefalse            base     0            0     0   \n",
       "5    30-59    male        adefalse            base     0            0     0   \n",
       "6    30-59    male        adefalse            base     1            0     0   \n",
       "..     ...     ...             ...             ...   ...          ...   ...   \n",
       "303   >=60  female        adefalse            base     0            0     1   \n",
       "305  30-59    male        adefalse            well     1            0     0   \n",
       "306  30-59    male      epidermoid          poorly     1            0     0   \n",
       "307  30-59  female        adefalse            well     0            0     0   \n",
       "308  30-59  female        adefalse            base     1            0     1   \n",
       "\n",
       "     pleura  peritoneum  liver  brain  skin  neck  supraclavicular  axillar  \\\n",
       "2         1           0      0      0     1     0                0        1   \n",
       "3         0           1      0      0     0     0                0        0   \n",
       "4         1           1      0      0     0     0                0        0   \n",
       "5         0           0      1      0     0     0                0        0   \n",
       "6         0           0      0      0     0     0                0        0   \n",
       "..      ...         ...    ...    ...   ...   ...              ...      ...   \n",
       "303       1           1      0      0     0     0                0        0   \n",
       "305       0           0      0      0     0     1                1        0   \n",
       "306       0           0      0      0     1     0                0        1   \n",
       "307       1           1      0      0     0     0                0        0   \n",
       "308       1           1      1      1     0     0                0        0   \n",
       "\n",
       "     mediastinum  abdominal  class  \n",
       "2              0          0      1  \n",
       "3              0          0     12  \n",
       "4              0          0     12  \n",
       "5              0          0      3  \n",
       "6              0          0     14  \n",
       "..           ...        ...    ...  \n",
       "303            0          1      4  \n",
       "305            1          0     14  \n",
       "306            0          0     11  \n",
       "307            0          0     12  \n",
       "308            0          1      7  \n",
       "\n",
       "[242 rows x 18 columns]"
      ],
      "text/html": "<div>\n<style scoped>\n    .dataframe tbody tr th:only-of-type {\n        vertical-align: middle;\n    }\n\n    .dataframe tbody tr th {\n        vertical-align: top;\n    }\n\n    .dataframe thead th {\n        text-align: right;\n    }\n</style>\n<table border=\"1\" class=\"dataframe\">\n  <thead>\n    <tr style=\"text-align: right;\">\n      <th></th>\n      <th>age</th>\n      <th>sex</th>\n      <th>histologic-type</th>\n      <th>degree-of-diffe</th>\n      <th>bone</th>\n      <th>bone-marrow</th>\n      <th>lung</th>\n      <th>pleura</th>\n      <th>peritoneum</th>\n      <th>liver</th>\n      <th>brain</th>\n      <th>skin</th>\n      <th>neck</th>\n      <th>supraclavicular</th>\n      <th>axillar</th>\n      <th>mediastinum</th>\n      <th>abdominal</th>\n      <th>class</th>\n    </tr>\n  </thead>\n  <tbody>\n    <tr>\n      <th>2</th>\n      <td>30-59</td>\n      <td>female</td>\n      <td>adefalse</td>\n      <td>base</td>\n      <td>0</td>\n      <td>0</td>\n      <td>0</td>\n      <td>1</td>\n      <td>0</td>\n      <td>0</td>\n      <td>0</td>\n      <td>1</td>\n      <td>0</td>\n      <td>0</td>\n      <td>1</td>\n      <td>0</td>\n      <td>0</td>\n      <td>1</td>\n    </tr>\n    <tr>\n      <th>3</th>\n      <td>30-59</td>\n      <td>female</td>\n      <td>adefalse</td>\n      <td>base</td>\n      <td>0</td>\n      <td>0</td>\n      <td>0</td>\n      <td>0</td>\n      <td>1</td>\n      <td>0</td>\n      <td>0</td>\n      <td>0</td>\n      <td>0</td>\n      <td>0</td>\n      <td>0</td>\n      <td>0</td>\n      <td>0</td>\n      <td>12</td>\n    </tr>\n    <tr>\n      <th>4</th>\n      <td>30-59</td>\n      <td>female</td>\n      <td>adefalse</td>\n      <td>base</td>\n      <td>0</td>\n      <td>0</td>\n      <td>0</td>\n      <td>1</td>\n      <td>1</td>\n      <td>0</td>\n      <td>0</td>\n      <td>0</td>\n      <td>0</td>\n      <td>0</td>\n      <td>0</td>\n      <td>0</td>\n      <td>0</td>\n      <td>12</td>\n    </tr>\n    <tr>\n      <th>5</th>\n      <td>30-59</td>\n      <td>male</td>\n      <td>adefalse</td>\n      <td>base</td>\n      <td>0</td>\n      <td>0</td>\n      <td>0</td>\n      <td>0</td>\n      <td>0</td>\n      <td>1</td>\n      <td>0</td>\n      <td>0</td>\n      <td>0</td>\n      <td>0</td>\n      <td>0</td>\n      <td>0</td>\n      <td>0</td>\n      <td>3</td>\n    </tr>\n    <tr>\n      <th>6</th>\n      <td>30-59</td>\n      <td>male</td>\n      <td>adefalse</td>\n      <td>base</td>\n      <td>1</td>\n      <td>0</td>\n      <td>0</td>\n      <td>0</td>\n      <td>0</td>\n      <td>0</td>\n      <td>0</td>\n      <td>0</td>\n      <td>0</td>\n      <td>0</td>\n      <td>0</td>\n      <td>0</td>\n      <td>0</td>\n      <td>14</td>\n    </tr>\n    <tr>\n      <th>...</th>\n      <td>...</td>\n      <td>...</td>\n      <td>...</td>\n      <td>...</td>\n      <td>...</td>\n      <td>...</td>\n      <td>...</td>\n      <td>...</td>\n      <td>...</td>\n      <td>...</td>\n      <td>...</td>\n      <td>...</td>\n      <td>...</td>\n      <td>...</td>\n      <td>...</td>\n      <td>...</td>\n      <td>...</td>\n      <td>...</td>\n    </tr>\n    <tr>\n      <th>303</th>\n      <td>&gt;=60</td>\n      <td>female</td>\n      <td>adefalse</td>\n      <td>base</td>\n      <td>0</td>\n      <td>0</td>\n      <td>1</td>\n      <td>1</td>\n      <td>1</td>\n      <td>0</td>\n      <td>0</td>\n      <td>0</td>\n      <td>0</td>\n      <td>0</td>\n      <td>0</td>\n      <td>0</td>\n      <td>1</td>\n      <td>4</td>\n    </tr>\n    <tr>\n      <th>305</th>\n      <td>30-59</td>\n      <td>male</td>\n      <td>adefalse</td>\n      <td>well</td>\n      <td>1</td>\n      <td>0</td>\n      <td>0</td>\n      <td>0</td>\n      <td>0</td>\n      <td>0</td>\n      <td>0</td>\n      <td>0</td>\n      <td>1</td>\n      <td>1</td>\n      <td>0</td>\n      <td>1</td>\n      <td>0</td>\n      <td>14</td>\n    </tr>\n    <tr>\n      <th>306</th>\n      <td>30-59</td>\n      <td>male</td>\n      <td>epidermoid</td>\n      <td>poorly</td>\n      <td>1</td>\n      <td>0</td>\n      <td>0</td>\n      <td>0</td>\n      <td>0</td>\n      <td>0</td>\n      <td>0</td>\n      <td>1</td>\n      <td>0</td>\n      <td>0</td>\n      <td>1</td>\n      <td>0</td>\n      <td>0</td>\n      <td>11</td>\n    </tr>\n    <tr>\n      <th>307</th>\n      <td>30-59</td>\n      <td>female</td>\n      <td>adefalse</td>\n      <td>well</td>\n      <td>0</td>\n      <td>0</td>\n      <td>0</td>\n      <td>1</td>\n      <td>1</td>\n      <td>0</td>\n      <td>0</td>\n      <td>0</td>\n      <td>0</td>\n      <td>0</td>\n      <td>0</td>\n      <td>0</td>\n      <td>0</td>\n      <td>12</td>\n    </tr>\n    <tr>\n      <th>308</th>\n      <td>30-59</td>\n      <td>female</td>\n      <td>adefalse</td>\n      <td>base</td>\n      <td>1</td>\n      <td>0</td>\n      <td>1</td>\n      <td>1</td>\n      <td>1</td>\n      <td>1</td>\n      <td>1</td>\n      <td>0</td>\n      <td>0</td>\n      <td>0</td>\n      <td>0</td>\n      <td>0</td>\n      <td>1</td>\n      <td>7</td>\n    </tr>\n  </tbody>\n</table>\n<p>242 rows × 18 columns</p>\n</div>"
     },
     "metadata": {},
     "execution_count": 133
    }
   ],
   "source": [
    "tumor"
   ]
  },
  {
   "cell_type": "code",
   "execution_count": 134,
   "metadata": {},
   "outputs": [],
   "source": [
    "tumor_features = ['bone', 'bone-marrow', 'lung', 'pleura', 'peritoneum', 'liver', 'brain', 'skin', 'neck', 'supraclavicular', 'axillar', 'mediastinum', 'abdominal']"
   ]
  },
  {
   "cell_type": "code",
   "execution_count": 135,
   "metadata": {},
   "outputs": [],
   "source": [
    "X = tumor.loc[:,tumor_features].values\n",
    "Y = tumor.loc[:,['class']]"
   ]
  },
  {
   "cell_type": "code",
   "execution_count": 156,
   "metadata": {},
   "outputs": [
    {
     "output_type": "stream",
     "name": "stdout",
     "text": [
      "0.352112676056338\n"
     ]
    }
   ],
   "source": [
    "X_train, X_test, Y_train, Y_test = model_selection.train_test_split(X, Y, test_size = 0.3, random_state = 0)\n",
    "clf_ob1 = svm.SVC(kernel= 'linear', C=1).fit(X_train, np.ravel(Y_train))\n",
    "print(clf_ob1.score(X_test, Y_test))"
   ]
  },
  {
   "cell_type": "code",
   "execution_count": 157,
   "metadata": {},
   "outputs": [
    {
     "output_type": "stream",
     "name": "stdout",
     "text": [
      "0.3191489361702128\n"
     ]
    }
   ],
   "source": [
    "X_train, X_test, Y_train, Y_test = model_selection.train_test_split(X, Y, test_size = 0.2, random_state = 0)\n",
    "clf_ob2 = svm.SVC(kernel= 'linear', C=1).fit(X_train, np.ravel(Y_train))\n",
    "print(clf_ob2.score(X_test, Y_test))"
   ]
  },
  {
   "cell_type": "code",
   "execution_count": 158,
   "metadata": {},
   "outputs": [
    {
     "output_type": "stream",
     "name": "stdout",
     "text": [
      "0.24468085106382978\n"
     ]
    }
   ],
   "source": [
    "X_train, X_test, Y_train, Y_test = model_selection.train_test_split(X, Y, test_size = 0.4, random_state = 0)\n",
    "clf_ob3 = svm.SVC(kernel= 'linear', C=1).fit(X_train, np.ravel(Y_train))\n",
    "print(clf_ob3.score(X_test, Y_test))"
   ]
  },
  {
   "cell_type": "code",
   "execution_count": 159,
   "metadata": {},
   "outputs": [],
   "source": [
    "# Remove classes that are too little\n",
    "tumor_kfold = tumor[tumor['class'] != 20]\n",
    "tumor_kfold = tumor_kfold[tumor_kfold['class'] != 18]\n",
    "tumor_kfold = tumor_kfold[tumor_kfold['class'] != 16]\n",
    "tumor_kfold = tumor_kfold[tumor_kfold['class'] != 5]\n",
    "tumor_kfold = tumor_kfold[tumor_kfold['class'] != 2]"
   ]
  },
  {
   "cell_type": "code",
   "execution_count": 160,
   "metadata": {},
   "outputs": [],
   "source": [
    "X = tumor_kfold.loc[:,tumor_features].values\n",
    "Y = tumor_kfold.loc[:,['class']]"
   ]
  },
  {
   "cell_type": "code",
   "execution_count": 161,
   "metadata": {},
   "outputs": [
    {
     "output_type": "execute_result",
     "data": {
      "text/plain": [
       "array([0.38297872, 0.38297872, 0.36170213, 0.31914894, 0.23404255])"
      ]
     },
     "metadata": {},
     "execution_count": 161
    }
   ],
   "source": [
    "scores_res1 = model_selection.cross_val_score(clf_ob1, X, np.ravel(Y), cv=5)\n",
    "scores_res1"
   ]
  },
  {
   "cell_type": "code",
   "execution_count": 162,
   "metadata": {},
   "outputs": [
    {
     "output_type": "execute_result",
     "data": {
      "text/plain": [
       "array([0.38297872, 0.38297872, 0.36170213, 0.31914894, 0.23404255])"
      ]
     },
     "metadata": {},
     "execution_count": 162
    }
   ],
   "source": [
    "scores_res2 = model_selection.cross_val_score(clf_ob2, X, np.ravel(Y), cv=5)\n",
    "scores_res2"
   ]
  },
  {
   "cell_type": "code",
   "execution_count": 163,
   "metadata": {},
   "outputs": [
    {
     "output_type": "execute_result",
     "data": {
      "text/plain": [
       "array([0.38297872, 0.38297872, 0.36170213, 0.31914894, 0.23404255])"
      ]
     },
     "metadata": {},
     "execution_count": 163
    }
   ],
   "source": [
    "scores_res3 = model_selection.cross_val_score(clf_ob3, X, np.ravel(Y), cv=5)\n",
    "scores_res3"
   ]
  },
  {
   "cell_type": "code",
   "execution_count": null,
   "metadata": {},
   "outputs": [],
   "source": []
  }
 ]
}